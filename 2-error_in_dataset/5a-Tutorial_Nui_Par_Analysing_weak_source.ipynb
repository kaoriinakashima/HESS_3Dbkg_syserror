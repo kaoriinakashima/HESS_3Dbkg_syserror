{
 "cells": [
  {
   "cell_type": "markdown",
   "id": "00493f0c",
   "metadata": {},
   "source": [
    "[ ] Submitted weak source erange [6:15]m binsize = 0.08, id: 71988\n",
    "\n"
   ]
  },
  {
   "cell_type": "markdown",
   "id": "65d7aac7",
   "metadata": {},
   "source": [
    "# Import the Dataset\n",
    "\n",
    "In this notebook a 3D analysis of the Crab is demonstated. In addition to the usuall model parameters so called 'nuisance parameters' are fitted which account for any systematical uncertainties. These sysetmatical uncertainties are assumed to be due a missmodelling of the hardronic background. \n",
    "\n",
    "The nuisance parameters are correlated so they can only eliminate the systemtic uncertainties but not the uncorrelated statistical uncertainicies.  \n",
    "\n",
    "The notebook is structed as follows:\n",
    "\n",
    "- Setting up the correlation of the nuisacane parameters\n",
    "- Fitting the model and the nuisance parameters to the data\n",
    "- Compare the results to the standard 3D fit"
   ]
  },
  {
   "cell_type": "code",
   "execution_count": 1,
   "id": "e0c4dcf1",
   "metadata": {
    "execution": {
     "iopub.execute_input": "2022-03-17T11:24:36.091662Z",
     "iopub.status.busy": "2022-03-17T11:24:36.091167Z",
     "iopub.status.idle": "2022-03-17T11:25:00.872876Z",
     "shell.execute_reply": "2022-03-17T11:25:00.871690Z"
    }
   },
   "outputs": [],
   "source": [
    "#get_ipython().system('jupyter nbconvert --to script 5a-Tutorial_Nui_Par_Fitting_Crab.ipynb')\n",
    "import pyximport\n",
    "\n",
    "pyximport.install()\n",
    "import matplotlib.pyplot as plt\n",
    "import numpy as np\n",
    "import astropy.units as u\n",
    "import gammapy\n",
    "\n",
    "# from gammapy.datasets import MapDataset\n",
    "from gammapy.maps import Map\n",
    "from astropy.coordinates import SkyCoord, Angle\n",
    "from gammapy.modeling import Fit, Parameter, Parameters, Covariance\n",
    "from gammapy.datasets import MapDataset #, MapDatasetNuisance\n",
    "from gammapy.modeling.models import (\n",
    "    PowerLawSpectralModel,\n",
    "    create_crab_spectral_model,\n",
    "    SkyModel,\n",
    "    PointSpatialModel,\n",
    "    ShellSpatialModel,\n",
    "    GeneralizedGaussianSpatialModel,\n",
    "    TemplateSpatialModel,\n",
    "    LogParabolaSpectralModel,\n",
    "    GaussianSpatialModel,\n",
    "    DiskSpatialModel,\n",
    "    PowerLawNormSpectralModel,\n",
    "    Models,\n",
    "    SpatialModel,\n",
    "    FoVBackgroundModel,\n",
    ")\n",
    "from regions import CircleSkyRegion, RectangleSkyRegion\n",
    "import yaml\n",
    "import sys\n",
    "\n",
    "sys.path.append(\n",
    "    \"/home/hpc/caph/mppi045h/3D_analysis/N_parameters_in_L/syserror_3d_bkgmodel/4-Fitting_nuisance_and_model_parameters\"\n",
    ")\n",
    "from my_dataset_maps_19 import MapDatasetNuisance\n",
    "from  my_fit_19 import Fit"
   ]
  },
  {
   "cell_type": "markdown",
   "id": "a99efa09",
   "metadata": {},
   "source": [
    "## Standard Analysis\n",
    "Setting up the model"
   ]
  },
  {
   "cell_type": "code",
   "execution_count": 4,
   "id": "245c6a48",
   "metadata": {
    "execution": {
     "iopub.execute_input": "2022-03-17T11:25:02.888343Z",
     "iopub.status.busy": "2022-03-17T11:25:02.888082Z",
     "iopub.status.idle": "2022-03-17T11:25:06.781508Z",
     "shell.execute_reply": "2022-03-17T11:25:06.780437Z"
    }
   },
   "outputs": [
    {
     "name": "stdout",
     "output_type": "stream",
     "text": [
      "Crab: icrs\n",
      "GAUSSIAN: SkyModel\n",
      "\n",
      "  Name                      : Crab_Gaussian\n",
      "  Datasets names            : None\n",
      "  Spectral model type       : LogParabolaSpectralModel\n",
      "  Spatial  model type       : GaussianSpatialModel\n",
      "  Temporal model type       : \n",
      "  Parameters:\n",
      "    amplitude               :   3.70e-11   +/- 2.8e-13 1 / (cm2 s TeV)\n",
      "    reference    (frozen)   :      1.000       TeV         \n",
      "    alpha                   :      2.513   +/-    0.02             \n",
      "    beta                    :      0.103   +/-    0.01             \n",
      "    lon_0                   :     83.631   +/-    0.00 deg         \n",
      "    lat_0                   :     22.018   +/-    0.00 deg         \n",
      "    sigma                   :      0.500   +/-    0.00 deg         \n",
      "    e            (frozen)   :      0.000                   \n",
      "    phi          (frozen)   :      0.000       deg         \n",
      "\n",
      "\n",
      "GAUSSIAN: icrs\n",
      "BG counts: 35298.164\n",
      "Source counts: 15339.786505127251\n",
      "The Crab is 43.45774606850985 % of the BG!\n",
      "Setting new sources amplitude to ... \n",
      "3.698075933482425e-11\n",
      "This is in BG percentage: \n",
      "43.45774606850985\n",
      "spatial binsize =  [0.08] deg\n"
     ]
    },
    {
     "data": {
      "text/plain": [
       "Text(0.5, 1.0, 'Point source 50% of BG')"
      ]
     },
     "execution_count": 4,
     "metadata": {},
     "output_type": "execute_result"
    },
    {
     "data": {
      "image/png": "[encoded data removed]",
      "text/plain": [
       "<Figure size 432x288 with 2 Axes>"
      ]
     },
     "metadata": {
      "needs_background": "light"
     },
     "output_type": "display_data"
    }
   ],
   "source": [
    "source = 'Crab_gaussian'\n",
    "path = '/home/vault/caph/mppi062h/repositories/HESS_3Dbkg_syserror/2-error_in_dataset'\n",
    "source_percentage = 50 # percent\n",
    "gaussian_size = 0.5 *u.deg\n",
    "if source == \"Crab\":\n",
    "\n",
    "    # here the dataset with the fine binning is saved\n",
    "    #dataset_standard = MapDataset.read(f'{path}/{source}/stacked.fits')\n",
    "    # This is for now the binning of 0.08 deg\n",
    "    dataset_standard = MapDataset.read(f'{path}/{source}/stacked.fits')\n",
    "\n",
    "    models = Models.read(f\"{source}/standard_model.yml\")\n",
    "    \n",
    "    with open(f\"{source}/nui_bgmodel.yml\", \"r\") as ymlfile:\n",
    "        best_fit_bgmodel = yaml.load(ymlfile, Loader=yaml.FullLoader)\n",
    "    bkg_model = FoVBackgroundModel(dataset_name=dataset_standard.name)\n",
    "    bkg_model.parameters['norm'].value = best_fit_bgmodel['spectral']['parameters'][0]['value']\n",
    "    bkg_model.parameters['tilt'].value = best_fit_bgmodel['spectral']['parameters'][1]['value']\n",
    "    bkg_model.parameters['norm'].error = best_fit_bgmodel['spectral']['parameters'][0]['error']\n",
    "    bkg_model.parameters['tilt'].error = best_fit_bgmodel['spectral']['parameters'][1]['error']\n",
    "    models.append(bkg_model)\n",
    "    dataset_standard.models = models\n",
    "    cutout = 1*u.deg\n",
    "    geom = dataset_standard.geoms['geom']\n",
    "    bg_counts = dataset_standard.npred_background().cutout(geom.center_skydir, cutout).data.sum()\n",
    "    crab_counts = dataset_standard.npred_signal().cutout(geom.center_skydir, cutout).data.sum()\n",
    "\n",
    "    print(\"BG counts:\",bg_counts )\n",
    "    print(\"Source counts:\",crab_counts )\n",
    "    source_percentage_crab = crab_counts/bg_counts\n",
    "    print(f\"The Crab is {source_percentage_crab*100} % of the BG!\")\n",
    "    while (dataset_standard.npred_signal().cutout(geom.center_skydir, cutout).data.sum() /bg_counts *100 >source_percentage):\n",
    "        dataset_standard.models.parameters['amplitude'].value *=0.99\n",
    "    models_input = dataset_standard.models.copy()  \n",
    "    print(\"Setting new sources amplitude to ... \")\n",
    "    print(dataset_standard.models.parameters['amplitude'].value)\n",
    "    print(\"This is in BG percentage: \")\n",
    "    print(dataset_standard.npred_signal().cutout(geom.center_skydir, cutout).data.sum() /bg_counts *100)\n",
    "    rng = np.random.RandomState()\n",
    "    dataset_standard.counts.data = rng.poisson(dataset_standard.npred().data)\n",
    "    \n",
    "if source == \"Crab_gaussian\":\n",
    "\n",
    "    # here the dataset with the fine binning is saved\n",
    "    dataset_standard = MapDataset.read(f'{path}/Crab/stacked.fits')\n",
    "    dataset_standard = dataset_standard.downsample(4)\n",
    "    # This is for now the binning of 0.08 deg\n",
    "    #dataset_standard = MapDataset.read(f'{path}/Crab/stacked.fits')\n",
    "\n",
    "    models = Models.read(f\"Crab/standard_model.yml\")\n",
    "    print(\"Crab:\",models[0].spatial_model.frame)\n",
    "    gaussian_model = GaussianSpatialModel(lon_0 = models[0].parameters['lon_0'],\n",
    "                                          lat_0 = models[0].parameters['lat_0'],\n",
    "                                         sigma = gaussian_size,\n",
    "                                          frame = models[0].spatial_model.frame\n",
    "                                         )\n",
    "    spectral_model = models[0].spectral_model.copy() \n",
    "    source_model = SkyModel(spatial_model=gaussian_model,\n",
    "                            spectral_model=spectral_model, name=\"Crab_Gaussian\")\n",
    "\n",
    "    print(\"GAUSSIAN:\", source_model)\n",
    "    print(\"GAUSSIAN:\", gaussian_model.frame)\n",
    "    \n",
    "    \n",
    "    with open(f\"Crab/nui_bgmodel.yml\", \"r\") as ymlfile:\n",
    "        best_fit_bgmodel = yaml.load(ymlfile, Loader=yaml.FullLoader)\n",
    "    bkg_model = FoVBackgroundModel(dataset_name=dataset_standard.name)\n",
    "    bkg_model.parameters['norm'].value = best_fit_bgmodel['spectral']['parameters'][0]['value']\n",
    "    bkg_model.parameters['tilt'].value = best_fit_bgmodel['spectral']['parameters'][1]['value']\n",
    "    bkg_model.parameters['norm'].error = best_fit_bgmodel['spectral']['parameters'][0]['error']\n",
    "    bkg_model.parameters['tilt'].error = best_fit_bgmodel['spectral']['parameters'][1]['error']\n",
    "    models.append(bkg_model)\n",
    "    dataset_standard.models = source_model\n",
    "    cutout = 1*u.deg\n",
    "    geom = dataset_standard.geoms['geom']\n",
    "    bg_counts = dataset_standard.npred_background().cutout(geom.center_skydir, cutout).data.sum()\n",
    "    crab_counts = dataset_standard.npred_signal().cutout(geom.center_skydir, cutout).data.sum()\n",
    "\n",
    "    print(\"BG counts:\",bg_counts )\n",
    "    print(\"Source counts:\",crab_counts )\n",
    "    source_percentage_crab = crab_counts/bg_counts\n",
    "    print(f\"The Crab is {source_percentage_crab*100} % of the BG!\")\n",
    "    while (dataset_standard.npred_signal().cutout(geom.center_skydir, cutout).data.sum() /bg_counts *100 >source_percentage):\n",
    "        dataset_standard.models.parameters['amplitude'].value *=0.99\n",
    "    models_input = dataset_standard.models.copy()  \n",
    "    print(\"Setting new sources amplitude to ... \")\n",
    "    print(dataset_standard.models.parameters['amplitude'].value)\n",
    "    print(\"This is in BG percentage: \")\n",
    "    print(dataset_standard.npred_signal().cutout(geom.center_skydir, cutout).data.sum() /bg_counts *100)\n",
    "    rng = np.random.RandomState()\n",
    "    dataset_standard.counts.data = rng.poisson(dataset_standard.npred().data)\n",
    "    \n",
    "    \n",
    "dataset_standard.cutout(geom.center_skydir, cutout).counts.sum_over_axes().plot(add_cbar=1)\n",
    "binsize = dataset_standard.geoms[\"geom\"].width[1] / dataset_standard.geoms[\"geom\"].data_shape[1]\n",
    "print(\n",
    "    \"spatial binsize = \",\n",
    "    binsize\n",
    ")\n",
    "plt.title(f\"Point source {source_percentage}% of BG\")\n",
    "\n"
   ]
  },
  {
   "cell_type": "code",
   "execution_count": 3,
   "id": "ae846c7b",
   "metadata": {
    "scrolled": true
   },
   "outputs": [
    {
     "name": "stderr",
     "output_type": "stream",
     "text": [
      "Position <SkyCoord (ICRS): (ra, dec) in deg\n",
      "    (68.45411389, 46.25020855)> is outside valid IRF map range, using nearest IRF defined within\n",
      "Position <SkyCoord (ICRS): (ra, dec) in deg\n",
      "    (68.45411389, 46.25020855)> is outside valid IRF map range, using nearest IRF defined within\n",
      "Position <SkyCoord (ICRS): (ra, dec) in deg\n",
      "    (77.65578013, 6.95095507)> is outside valid IRF map range, using nearest IRF defined within\n",
      "Position <SkyCoord (ICRS): (ra, dec) in deg\n",
      "    (77.65578013, 6.95095507)> is outside valid IRF map range, using nearest IRF defined within\n",
      "Position <SkyCoord (ICRS): (ra, dec) in deg\n",
      "    (81.84076349, -89.79202534)> is outside valid IRF map range, using nearest IRF defined within\n",
      "Position <SkyCoord (ICRS): (ra, dec) in deg\n",
      "    (81.84076349, -89.79202534)> is outside valid IRF map range, using nearest IRF defined within\n",
      "Position <SkyCoord (ICRS): (ra, dec) in deg\n",
      "    (83.31724376, -2.475177)> is outside valid IRF map range, using nearest IRF defined within\n",
      "Position <SkyCoord (ICRS): (ra, dec) in deg\n",
      "    (83.31724376, -2.475177)> is outside valid IRF map range, using nearest IRF defined within\n"
     ]
    },
    {
     "ename": "KeyboardInterrupt",
     "evalue": "",
     "output_type": "error",
     "traceback": [
      "\u001b[0;31m---------------------------------------------------------------------------\u001b[0m",
      "\u001b[0;31mKeyboardInterrupt\u001b[0m                         Traceback (most recent call last)",
      "\u001b[0;32m/tmp/ipykernel_3344/3823561736.py\u001b[0m in \u001b[0;36m<module>\u001b[0;34m\u001b[0m\n\u001b[1;32m      1\u001b[0m \u001b[0mfit_standarad\u001b[0m \u001b[0;34m=\u001b[0m \u001b[0mFit\u001b[0m\u001b[0;34m(\u001b[0m\u001b[0mstore_trace\u001b[0m\u001b[0;34m=\u001b[0m\u001b[0;32mFalse\u001b[0m\u001b[0;34m)\u001b[0m\u001b[0;34m\u001b[0m\u001b[0;34m\u001b[0m\u001b[0m\n\u001b[0;32m----> 2\u001b[0;31m \u001b[0mresult_standarad\u001b[0m \u001b[0;34m=\u001b[0m \u001b[0mfit_standarad\u001b[0m\u001b[0;34m.\u001b[0m\u001b[0mrun\u001b[0m\u001b[0;34m(\u001b[0m\u001b[0;34m[\u001b[0m\u001b[0mdataset_standard\u001b[0m\u001b[0;34m]\u001b[0m\u001b[0;34m)\u001b[0m\u001b[0;34m\u001b[0m\u001b[0;34m\u001b[0m\u001b[0m\n\u001b[0m",
      "\u001b[0;32m~/3D_analysis/N_parameters_in_L/HESS_3Dbkg_syserror/2-error_in_dataset/my_fit_19.py\u001b[0m in \u001b[0;36mrun\u001b[0;34m(self, datasets)\u001b[0m\n\u001b[1;32m    160\u001b[0m             \u001b[0mFit\u001b[0m \u001b[0mresult\u001b[0m\u001b[0;34m\u001b[0m\u001b[0;34m\u001b[0m\u001b[0m\n\u001b[1;32m    161\u001b[0m         \"\"\"\n\u001b[0;32m--> 162\u001b[0;31m         \u001b[0moptimize_result\u001b[0m \u001b[0;34m=\u001b[0m \u001b[0mself\u001b[0m\u001b[0;34m.\u001b[0m\u001b[0moptimize\u001b[0m\u001b[0;34m(\u001b[0m\u001b[0mdatasets\u001b[0m\u001b[0;34m=\u001b[0m\u001b[0mdatasets\u001b[0m\u001b[0;34m)\u001b[0m\u001b[0;34m\u001b[0m\u001b[0;34m\u001b[0m\u001b[0m\n\u001b[0m\u001b[1;32m    163\u001b[0m \u001b[0;34m\u001b[0m\u001b[0m\n\u001b[1;32m    164\u001b[0m         \u001b[0;32mif\u001b[0m \u001b[0mself\u001b[0m\u001b[0;34m.\u001b[0m\u001b[0mbackend\u001b[0m \u001b[0;32mnot\u001b[0m \u001b[0;32min\u001b[0m \u001b[0mregistry\u001b[0m\u001b[0;34m.\u001b[0m\u001b[0mregister\u001b[0m\u001b[0;34m[\u001b[0m\u001b[0;34m\"covariance\"\u001b[0m\u001b[0;34m]\u001b[0m\u001b[0;34m:\u001b[0m\u001b[0;34m\u001b[0m\u001b[0;34m\u001b[0m\u001b[0m\n",
      "\u001b[0;32m~/3D_analysis/N_parameters_in_L/HESS_3Dbkg_syserror/2-error_in_dataset/my_fit_19.py\u001b[0m in \u001b[0;36moptimize\u001b[0;34m(self, datasets)\u001b[0m\n\u001b[1;32m    200\u001b[0m         \u001b[0;31m# probably should pass a fit statistic, which has a model, which has parameters\u001b[0m\u001b[0;34m\u001b[0m\u001b[0;34m\u001b[0m\u001b[0m\n\u001b[1;32m    201\u001b[0m         \u001b[0;31m# and return something simpler, not a tuple of three things\u001b[0m\u001b[0;34m\u001b[0m\u001b[0;34m\u001b[0m\u001b[0m\n\u001b[0;32m--> 202\u001b[0;31m         factors, info, optimizer = compute(\n\u001b[0m\u001b[1;32m    203\u001b[0m             \u001b[0mparameters\u001b[0m\u001b[0;34m=\u001b[0m\u001b[0mparameters\u001b[0m\u001b[0;34m,\u001b[0m\u001b[0;34m\u001b[0m\u001b[0;34m\u001b[0m\u001b[0m\n\u001b[1;32m    204\u001b[0m             \u001b[0mfunction\u001b[0m\u001b[0;34m=\u001b[0m\u001b[0mdatasets\u001b[0m\u001b[0;34m.\u001b[0m\u001b[0mstat_sum\u001b[0m\u001b[0;34m,\u001b[0m\u001b[0;34m\u001b[0m\u001b[0;34m\u001b[0m\u001b[0m\n",
      "\u001b[0;32m~/anaconda3/envs/gammapy-0.19/lib/python3.9/site-packages/gammapy/modeling/iminuit.py\u001b[0m in \u001b[0;36moptimize_iminuit\u001b[0;34m(parameters, function, store_trace, **kwargs)\u001b[0m\n\u001b[1;32m     78\u001b[0m     )\n\u001b[1;32m     79\u001b[0m \u001b[0;34m\u001b[0m\u001b[0m\n\u001b[0;32m---> 80\u001b[0;31m     \u001b[0mminuit\u001b[0m\u001b[0;34m.\u001b[0m\u001b[0mmigrad\u001b[0m\u001b[0;34m(\u001b[0m\u001b[0;34m**\u001b[0m\u001b[0mmigrad_opts\u001b[0m\u001b[0;34m)\u001b[0m\u001b[0;34m\u001b[0m\u001b[0;34m\u001b[0m\u001b[0m\n\u001b[0m\u001b[1;32m     81\u001b[0m \u001b[0;34m\u001b[0m\u001b[0m\n\u001b[1;32m     82\u001b[0m     \u001b[0mfactors\u001b[0m \u001b[0;34m=\u001b[0m \u001b[0mminuit\u001b[0m\u001b[0;34m.\u001b[0m\u001b[0mvalues\u001b[0m\u001b[0;34m\u001b[0m\u001b[0;34m\u001b[0m\u001b[0m\n",
      "\u001b[0;32m~/anaconda3/envs/gammapy-0.19/lib/python3.9/site-packages/iminuit/minuit.py\u001b[0m in \u001b[0;36mmigrad\u001b[0;34m(self, ncall, iterate)\u001b[0m\n\u001b[1;32m    681\u001b[0m             \u001b[0;32mif\u001b[0m \u001b[0mself\u001b[0m\u001b[0;34m.\u001b[0m\u001b[0m_precision\u001b[0m \u001b[0;32mis\u001b[0m \u001b[0;32mnot\u001b[0m \u001b[0;32mNone\u001b[0m\u001b[0;34m:\u001b[0m\u001b[0;34m\u001b[0m\u001b[0;34m\u001b[0m\u001b[0m\n\u001b[1;32m    682\u001b[0m                 \u001b[0mmigrad\u001b[0m\u001b[0;34m.\u001b[0m\u001b[0mprecision\u001b[0m \u001b[0;34m=\u001b[0m \u001b[0mself\u001b[0m\u001b[0;34m.\u001b[0m\u001b[0m_precision\u001b[0m\u001b[0;34m\u001b[0m\u001b[0;34m\u001b[0m\u001b[0m\n\u001b[0;32m--> 683\u001b[0;31m             \u001b[0mfm\u001b[0m \u001b[0;34m=\u001b[0m \u001b[0mmigrad\u001b[0m\u001b[0;34m(\u001b[0m\u001b[0mncall\u001b[0m\u001b[0;34m,\u001b[0m \u001b[0mself\u001b[0m\u001b[0;34m.\u001b[0m\u001b[0m_tolerance\u001b[0m\u001b[0;34m)\u001b[0m\u001b[0;34m\u001b[0m\u001b[0;34m\u001b[0m\u001b[0m\n\u001b[0m\u001b[1;32m    684\u001b[0m             \u001b[0;32mif\u001b[0m \u001b[0mfm\u001b[0m\u001b[0;34m.\u001b[0m\u001b[0mis_valid\u001b[0m \u001b[0;32mor\u001b[0m \u001b[0mfm\u001b[0m\u001b[0;34m.\u001b[0m\u001b[0mhas_reached_call_limit\u001b[0m\u001b[0;34m:\u001b[0m\u001b[0;34m\u001b[0m\u001b[0;34m\u001b[0m\u001b[0m\n\u001b[1;32m    685\u001b[0m                 \u001b[0;32mbreak\u001b[0m\u001b[0;34m\u001b[0m\u001b[0;34m\u001b[0m\u001b[0m\n",
      "\u001b[0;32m~/anaconda3/envs/gammapy-0.19/lib/python3.9/site-packages/gammapy/modeling/iminuit.py\u001b[0m in \u001b[0;36mfcn\u001b[0;34m(self, *factors)\u001b[0m\n\u001b[1;32m     22\u001b[0m         \u001b[0mself\u001b[0m\u001b[0;34m.\u001b[0m\u001b[0mparameters\u001b[0m\u001b[0;34m.\u001b[0m\u001b[0mset_parameter_factors\u001b[0m\u001b[0;34m(\u001b[0m\u001b[0mfactors\u001b[0m\u001b[0;34m)\u001b[0m\u001b[0;34m\u001b[0m\u001b[0;34m\u001b[0m\u001b[0m\n\u001b[1;32m     23\u001b[0m \u001b[0;34m\u001b[0m\u001b[0m\n\u001b[0;32m---> 24\u001b[0;31m         \u001b[0mtotal_stat\u001b[0m \u001b[0;34m=\u001b[0m \u001b[0mself\u001b[0m\u001b[0;34m.\u001b[0m\u001b[0mfunction\u001b[0m\u001b[0;34m(\u001b[0m\u001b[0;34m)\u001b[0m\u001b[0;34m\u001b[0m\u001b[0;34m\u001b[0m\u001b[0m\n\u001b[0m\u001b[1;32m     25\u001b[0m \u001b[0;34m\u001b[0m\u001b[0m\n\u001b[1;32m     26\u001b[0m         \u001b[0;32mif\u001b[0m \u001b[0mself\u001b[0m\u001b[0;34m.\u001b[0m\u001b[0mstore_trace\u001b[0m\u001b[0;34m:\u001b[0m\u001b[0;34m\u001b[0m\u001b[0;34m\u001b[0m\u001b[0m\n",
      "\u001b[0;32m~/3D_analysis/N_parameters_in_L/HESS_3Dbkg_syserror/2-error_in_dataset/my_dataset_core_19.py\u001b[0m in \u001b[0;36mstat_sum\u001b[0;34m(self)\u001b[0m\n\u001b[1;32m    242\u001b[0m         \u001b[0;31m# TODO: add parallel evaluation of likelihoods\u001b[0m\u001b[0;34m\u001b[0m\u001b[0;34m\u001b[0m\u001b[0m\n\u001b[1;32m    243\u001b[0m         \u001b[0;32mfor\u001b[0m \u001b[0mdataset\u001b[0m \u001b[0;32min\u001b[0m \u001b[0mself\u001b[0m\u001b[0;34m:\u001b[0m\u001b[0;34m\u001b[0m\u001b[0;34m\u001b[0m\u001b[0m\n\u001b[0;32m--> 244\u001b[0;31m             \u001b[0mstat_sum\u001b[0m \u001b[0;34m+=\u001b[0m \u001b[0mdataset\u001b[0m\u001b[0;34m.\u001b[0m\u001b[0mstat_sum\u001b[0m\u001b[0;34m(\u001b[0m\u001b[0;34m)\u001b[0m\u001b[0;34m\u001b[0m\u001b[0;34m\u001b[0m\u001b[0m\n\u001b[0m\u001b[1;32m    245\u001b[0m         \u001b[0;32mreturn\u001b[0m \u001b[0mstat_sum\u001b[0m\u001b[0;34m\u001b[0m\u001b[0;34m\u001b[0m\u001b[0m\n\u001b[1;32m    246\u001b[0m \u001b[0;34m\u001b[0m\u001b[0m\n",
      "\u001b[0;32m~/anaconda3/envs/gammapy-0.19/lib/python3.9/site-packages/gammapy/datasets/map.py\u001b[0m in \u001b[0;36mstat_sum\u001b[0;34m(self)\u001b[0m\n\u001b[1;32m    973\u001b[0m     \u001b[0;32mdef\u001b[0m \u001b[0mstat_sum\u001b[0m\u001b[0;34m(\u001b[0m\u001b[0mself\u001b[0m\u001b[0;34m)\u001b[0m\u001b[0;34m:\u001b[0m\u001b[0;34m\u001b[0m\u001b[0;34m\u001b[0m\u001b[0m\n\u001b[1;32m    974\u001b[0m         \u001b[0;34m\"\"\"Total likelihood given the current model parameters.\"\"\"\u001b[0m\u001b[0;34m\u001b[0m\u001b[0;34m\u001b[0m\u001b[0m\n\u001b[0;32m--> 975\u001b[0;31m         \u001b[0mcounts\u001b[0m\u001b[0;34m,\u001b[0m \u001b[0mnpred\u001b[0m \u001b[0;34m=\u001b[0m \u001b[0mself\u001b[0m\u001b[0;34m.\u001b[0m\u001b[0mcounts\u001b[0m\u001b[0;34m.\u001b[0m\u001b[0mdata\u001b[0m\u001b[0;34m.\u001b[0m\u001b[0mastype\u001b[0m\u001b[0;34m(\u001b[0m\u001b[0mfloat\u001b[0m\u001b[0;34m)\u001b[0m\u001b[0;34m,\u001b[0m \u001b[0mself\u001b[0m\u001b[0;34m.\u001b[0m\u001b[0mnpred\u001b[0m\u001b[0;34m(\u001b[0m\u001b[0;34m)\u001b[0m\u001b[0;34m.\u001b[0m\u001b[0mdata\u001b[0m\u001b[0;34m\u001b[0m\u001b[0;34m\u001b[0m\u001b[0m\n\u001b[0m\u001b[1;32m    976\u001b[0m \u001b[0;34m\u001b[0m\u001b[0m\n\u001b[1;32m    977\u001b[0m         \u001b[0;32mif\u001b[0m \u001b[0mself\u001b[0m\u001b[0;34m.\u001b[0m\u001b[0mmask\u001b[0m \u001b[0;32mis\u001b[0m \u001b[0;32mnot\u001b[0m \u001b[0;32mNone\u001b[0m\u001b[0;34m:\u001b[0m\u001b[0;34m\u001b[0m\u001b[0;34m\u001b[0m\u001b[0m\n",
      "\u001b[0;32m~/anaconda3/envs/gammapy-0.19/lib/python3.9/site-packages/gammapy/datasets/map.py\u001b[0m in \u001b[0;36mnpred\u001b[0;34m(self)\u001b[0m\n\u001b[1;32m    390\u001b[0m             \u001b[0mTotal\u001b[0m \u001b[0mpredicted\u001b[0m \u001b[0mcounts\u001b[0m\u001b[0;34m\u001b[0m\u001b[0;34m\u001b[0m\u001b[0m\n\u001b[1;32m    391\u001b[0m         \"\"\"\n\u001b[0;32m--> 392\u001b[0;31m         \u001b[0mnpred_total\u001b[0m \u001b[0;34m=\u001b[0m \u001b[0mself\u001b[0m\u001b[0;34m.\u001b[0m\u001b[0mnpred_signal\u001b[0m\u001b[0;34m(\u001b[0m\u001b[0;34m)\u001b[0m\u001b[0;34m\u001b[0m\u001b[0;34m\u001b[0m\u001b[0m\n\u001b[0m\u001b[1;32m    393\u001b[0m \u001b[0;34m\u001b[0m\u001b[0m\n\u001b[1;32m    394\u001b[0m         \u001b[0;32mif\u001b[0m \u001b[0mself\u001b[0m\u001b[0;34m.\u001b[0m\u001b[0mbackground\u001b[0m\u001b[0;34m:\u001b[0m\u001b[0;34m\u001b[0m\u001b[0;34m\u001b[0m\u001b[0m\n",
      "\u001b[0;32m~/anaconda3/envs/gammapy-0.19/lib/python3.9/site-packages/gammapy/datasets/map.py\u001b[0m in \u001b[0;36mnpred_signal\u001b[0;34m(self, model_name)\u001b[0m\n\u001b[1;32m    466\u001b[0m \u001b[0;34m\u001b[0m\u001b[0m\n\u001b[1;32m    467\u001b[0m             \u001b[0;32mif\u001b[0m \u001b[0mevaluator\u001b[0m\u001b[0;34m.\u001b[0m\u001b[0mcontributes\u001b[0m\u001b[0;34m:\u001b[0m\u001b[0;34m\u001b[0m\u001b[0;34m\u001b[0m\u001b[0m\n\u001b[0;32m--> 468\u001b[0;31m                 \u001b[0mnpred\u001b[0m \u001b[0;34m=\u001b[0m \u001b[0mevaluator\u001b[0m\u001b[0;34m.\u001b[0m\u001b[0mcompute_npred\u001b[0m\u001b[0;34m(\u001b[0m\u001b[0;34m)\u001b[0m\u001b[0;34m\u001b[0m\u001b[0;34m\u001b[0m\u001b[0m\n\u001b[0m\u001b[1;32m    469\u001b[0m                 \u001b[0mnpred_total\u001b[0m\u001b[0;34m.\u001b[0m\u001b[0mstack\u001b[0m\u001b[0;34m(\u001b[0m\u001b[0mnpred\u001b[0m\u001b[0;34m)\u001b[0m\u001b[0;34m\u001b[0m\u001b[0;34m\u001b[0m\u001b[0m\n\u001b[1;32m    470\u001b[0m \u001b[0;34m\u001b[0m\u001b[0m\n",
      "\u001b[0;32m~/anaconda3/envs/gammapy-0.19/lib/python3.9/site-packages/gammapy/datasets/evaluator.py\u001b[0m in \u001b[0;36mcompute_npred\u001b[0;34m(self)\u001b[0m\n\u001b[1;32m    384\u001b[0m             \u001b[0;32mdel\u001b[0m \u001b[0mself\u001b[0m\u001b[0;34m.\u001b[0m\u001b[0m_compute_npred\u001b[0m\u001b[0;34m\u001b[0m\u001b[0;34m\u001b[0m\u001b[0m\n\u001b[1;32m    385\u001b[0m \u001b[0;34m\u001b[0m\u001b[0m\n\u001b[0;32m--> 386\u001b[0;31m         \u001b[0;32mreturn\u001b[0m \u001b[0mself\u001b[0m\u001b[0;34m.\u001b[0m\u001b[0m_compute_npred\u001b[0m\u001b[0;34m\u001b[0m\u001b[0;34m\u001b[0m\u001b[0m\n\u001b[0m\u001b[1;32m    387\u001b[0m \u001b[0;34m\u001b[0m\u001b[0m\n\u001b[1;32m    388\u001b[0m     \u001b[0;34m@\u001b[0m\u001b[0mproperty\u001b[0m\u001b[0;34m\u001b[0m\u001b[0;34m\u001b[0m\u001b[0m\n",
      "\u001b[0;32m~/anaconda3/envs/gammapy-0.19/lib/python3.9/site-packages/astropy/utils/decorators.py\u001b[0m in \u001b[0;36m__get__\u001b[0;34m(self, obj, owner)\u001b[0m\n\u001b[1;32m    765\u001b[0m                     \u001b[0mval\u001b[0m \u001b[0;34m=\u001b[0m \u001b[0mobj_dict\u001b[0m\u001b[0;34m.\u001b[0m\u001b[0mget\u001b[0m\u001b[0;34m(\u001b[0m\u001b[0mself\u001b[0m\u001b[0;34m.\u001b[0m\u001b[0m_key\u001b[0m\u001b[0;34m,\u001b[0m \u001b[0m_NotFound\u001b[0m\u001b[0;34m)\u001b[0m\u001b[0;34m\u001b[0m\u001b[0;34m\u001b[0m\u001b[0m\n\u001b[1;32m    766\u001b[0m                     \u001b[0;32mif\u001b[0m \u001b[0mval\u001b[0m \u001b[0;32mis\u001b[0m \u001b[0m_NotFound\u001b[0m\u001b[0;34m:\u001b[0m\u001b[0;34m\u001b[0m\u001b[0;34m\u001b[0m\u001b[0m\n\u001b[0;32m--> 767\u001b[0;31m                         \u001b[0mval\u001b[0m \u001b[0;34m=\u001b[0m \u001b[0mself\u001b[0m\u001b[0;34m.\u001b[0m\u001b[0mfget\u001b[0m\u001b[0;34m(\u001b[0m\u001b[0mobj\u001b[0m\u001b[0;34m)\u001b[0m\u001b[0;34m\u001b[0m\u001b[0;34m\u001b[0m\u001b[0m\n\u001b[0m\u001b[1;32m    768\u001b[0m                         \u001b[0mobj_dict\u001b[0m\u001b[0;34m[\u001b[0m\u001b[0mself\u001b[0m\u001b[0;34m.\u001b[0m\u001b[0m_key\u001b[0m\u001b[0;34m]\u001b[0m \u001b[0;34m=\u001b[0m \u001b[0mval\u001b[0m\u001b[0;34m\u001b[0m\u001b[0;34m\u001b[0m\u001b[0m\n\u001b[1;32m    769\u001b[0m             \u001b[0;32mreturn\u001b[0m \u001b[0mval\u001b[0m\u001b[0;34m\u001b[0m\u001b[0;34m\u001b[0m\u001b[0m\n",
      "\u001b[0;32m~/anaconda3/envs/gammapy-0.19/lib/python3.9/site-packages/gammapy/datasets/evaluator.py\u001b[0m in \u001b[0;36m_compute_npred\u001b[0;34m(self)\u001b[0m\n\u001b[1;32m    360\u001b[0m             \u001b[0;32mif\u001b[0m \u001b[0;32mnot\u001b[0m \u001b[0mself\u001b[0m\u001b[0;34m.\u001b[0m\u001b[0mparameter_norm_only_changed\u001b[0m\u001b[0;34m:\u001b[0m\u001b[0;34m\u001b[0m\u001b[0;34m\u001b[0m\u001b[0m\n\u001b[1;32m    361\u001b[0m                 \u001b[0;32mfor\u001b[0m \u001b[0mmethod\u001b[0m \u001b[0;32min\u001b[0m \u001b[0mself\u001b[0m\u001b[0;34m.\u001b[0m\u001b[0mmethods_sequence\u001b[0m\u001b[0;34m:\u001b[0m\u001b[0;34m\u001b[0m\u001b[0;34m\u001b[0m\u001b[0m\n\u001b[0;32m--> 362\u001b[0;31m                     \u001b[0mvalues\u001b[0m \u001b[0;34m=\u001b[0m \u001b[0mmethod\u001b[0m\u001b[0;34m(\u001b[0m\u001b[0mself\u001b[0m\u001b[0;34m.\u001b[0m\u001b[0m_computation_cache\u001b[0m\u001b[0;34m)\u001b[0m\u001b[0;34m\u001b[0m\u001b[0;34m\u001b[0m\u001b[0m\n\u001b[0m\u001b[1;32m    363\u001b[0m                     \u001b[0mself\u001b[0m\u001b[0;34m.\u001b[0m\u001b[0m_computation_cache\u001b[0m \u001b[0;34m=\u001b[0m \u001b[0mvalues\u001b[0m\u001b[0;34m\u001b[0m\u001b[0;34m\u001b[0m\u001b[0m\n\u001b[1;32m    364\u001b[0m                 \u001b[0mnpred\u001b[0m \u001b[0;34m=\u001b[0m \u001b[0mself\u001b[0m\u001b[0;34m.\u001b[0m\u001b[0m_computation_cache\u001b[0m\u001b[0;34m\u001b[0m\u001b[0;34m\u001b[0m\u001b[0m\n",
      "\u001b[0;32m~/anaconda3/envs/gammapy-0.19/lib/python3.9/site-packages/gammapy/datasets/evaluator.py\u001b[0m in \u001b[0;36mapply_edisp\u001b[0;34m(self, npred)\u001b[0m\n\u001b[1;32m    350\u001b[0m             \u001b[0mPredicted\u001b[0m \u001b[0mcounts\u001b[0m \u001b[0;32min\u001b[0m \u001b[0mreco\u001b[0m \u001b[0menergy\u001b[0m \u001b[0mbins\u001b[0m\u001b[0;34m\u001b[0m\u001b[0;34m\u001b[0m\u001b[0m\n\u001b[1;32m    351\u001b[0m         \"\"\"\n\u001b[0;32m--> 352\u001b[0;31m         \u001b[0;32mreturn\u001b[0m \u001b[0mnpred\u001b[0m\u001b[0;34m.\u001b[0m\u001b[0mapply_edisp\u001b[0m\u001b[0;34m(\u001b[0m\u001b[0mself\u001b[0m\u001b[0;34m.\u001b[0m\u001b[0medisp\u001b[0m\u001b[0;34m)\u001b[0m\u001b[0;34m\u001b[0m\u001b[0;34m\u001b[0m\u001b[0m\n\u001b[0m\u001b[1;32m    353\u001b[0m \u001b[0;34m\u001b[0m\u001b[0m\n\u001b[1;32m    354\u001b[0m     \u001b[0;34m@\u001b[0m\u001b[0mlazyproperty\u001b[0m\u001b[0;34m\u001b[0m\u001b[0;34m\u001b[0m\u001b[0m\n",
      "\u001b[0;32m~/anaconda3/envs/gammapy-0.19/lib/python3.9/site-packages/gammapy/maps/core.py\u001b[0m in \u001b[0;36mapply_edisp\u001b[0;34m(self, edisp)\u001b[0m\n\u001b[1;32m   1207\u001b[0m             \u001b[0menergy_axis\u001b[0m \u001b[0;34m=\u001b[0m \u001b[0mself\u001b[0m\u001b[0;34m.\u001b[0m\u001b[0mgeom\u001b[0m\u001b[0;34m.\u001b[0m\u001b[0maxes\u001b[0m\u001b[0;34m[\u001b[0m\u001b[0;34m\"energy_true\"\u001b[0m\u001b[0;34m]\u001b[0m\u001b[0;34m.\u001b[0m\u001b[0mcopy\u001b[0m\u001b[0;34m(\u001b[0m\u001b[0mname\u001b[0m\u001b[0;34m=\u001b[0m\u001b[0;34m\"energy\"\u001b[0m\u001b[0;34m)\u001b[0m\u001b[0;34m\u001b[0m\u001b[0;34m\u001b[0m\u001b[0m\n\u001b[1;32m   1208\u001b[0m \u001b[0;34m\u001b[0m\u001b[0m\n\u001b[0;32m-> 1209\u001b[0;31m         \u001b[0mgeom\u001b[0m \u001b[0;34m=\u001b[0m \u001b[0mself\u001b[0m\u001b[0;34m.\u001b[0m\u001b[0mgeom\u001b[0m\u001b[0;34m.\u001b[0m\u001b[0mto_image\u001b[0m\u001b[0;34m(\u001b[0m\u001b[0;34m)\u001b[0m\u001b[0;34m.\u001b[0m\u001b[0mto_cube\u001b[0m\u001b[0;34m(\u001b[0m\u001b[0maxes\u001b[0m\u001b[0;34m=\u001b[0m\u001b[0;34m[\u001b[0m\u001b[0menergy_axis\u001b[0m\u001b[0;34m]\u001b[0m\u001b[0;34m)\u001b[0m\u001b[0;34m\u001b[0m\u001b[0;34m\u001b[0m\u001b[0m\n\u001b[0m\u001b[1;32m   1210\u001b[0m         \u001b[0;32mreturn\u001b[0m \u001b[0mself\u001b[0m\u001b[0;34m.\u001b[0m\u001b[0m_init_copy\u001b[0m\u001b[0;34m(\u001b[0m\u001b[0mgeom\u001b[0m\u001b[0;34m=\u001b[0m\u001b[0mgeom\u001b[0m\u001b[0;34m,\u001b[0m \u001b[0mdata\u001b[0m\u001b[0;34m=\u001b[0m\u001b[0mdata\u001b[0m\u001b[0;34m)\u001b[0m\u001b[0;34m\u001b[0m\u001b[0;34m\u001b[0m\u001b[0m\n\u001b[1;32m   1211\u001b[0m \u001b[0;34m\u001b[0m\u001b[0m\n",
      "\u001b[0;32m~/anaconda3/envs/gammapy-0.19/lib/python3.9/site-packages/gammapy/maps/wcs/geom.py\u001b[0m in \u001b[0;36mto_cube\u001b[0;34m(self, axes)\u001b[0m\n\u001b[1;32m    698\u001b[0m         \u001b[0maxes\u001b[0m \u001b[0;34m=\u001b[0m \u001b[0mcopy\u001b[0m\u001b[0;34m.\u001b[0m\u001b[0mdeepcopy\u001b[0m\u001b[0;34m(\u001b[0m\u001b[0mself\u001b[0m\u001b[0;34m.\u001b[0m\u001b[0maxes\u001b[0m\u001b[0;34m)\u001b[0m \u001b[0;34m+\u001b[0m \u001b[0maxes\u001b[0m\u001b[0;34m\u001b[0m\u001b[0;34m\u001b[0m\u001b[0m\n\u001b[1;32m    699\u001b[0m         return self.__class__(\n\u001b[0;32m--> 700\u001b[0;31m             \u001b[0mself\u001b[0m\u001b[0;34m.\u001b[0m\u001b[0m_wcs\u001b[0m\u001b[0;34m.\u001b[0m\u001b[0mdeepcopy\u001b[0m\u001b[0;34m(\u001b[0m\u001b[0;34m)\u001b[0m\u001b[0;34m,\u001b[0m\u001b[0;34m\u001b[0m\u001b[0;34m\u001b[0m\u001b[0m\n\u001b[0m\u001b[1;32m    701\u001b[0m             \u001b[0mnpix\u001b[0m\u001b[0;34m,\u001b[0m\u001b[0;34m\u001b[0m\u001b[0;34m\u001b[0m\u001b[0m\n\u001b[1;32m    702\u001b[0m             \u001b[0mcdelt\u001b[0m\u001b[0;34m=\u001b[0m\u001b[0mcdelt\u001b[0m\u001b[0;34m,\u001b[0m\u001b[0;34m\u001b[0m\u001b[0;34m\u001b[0m\u001b[0m\n",
      "\u001b[0;32m~/anaconda3/envs/gammapy-0.19/lib/python3.9/site-packages/astropy/wcs/wcs.py\u001b[0m in \u001b[0;36mdeepcopy\u001b[0;34m(self)\u001b[0m\n\u001b[1;32m    580\u001b[0m         \u001b[0;34m:\u001b[0m\u001b[0mmod\u001b[0m\u001b[0;34m:\u001b[0m\u001b[0;31m`\u001b[0m\u001b[0mcopy\u001b[0m\u001b[0;31m`\u001b[0m \u001b[0mstdlib\u001b[0m \u001b[0mmodule\u001b[0m\u001b[0;34m.\u001b[0m\u001b[0;34m\u001b[0m\u001b[0;34m\u001b[0m\u001b[0m\n\u001b[1;32m    581\u001b[0m         \"\"\"\n\u001b[0;32m--> 582\u001b[0;31m         \u001b[0;32mreturn\u001b[0m \u001b[0mcopy\u001b[0m\u001b[0;34m.\u001b[0m\u001b[0mdeepcopy\u001b[0m\u001b[0;34m(\u001b[0m\u001b[0mself\u001b[0m\u001b[0;34m)\u001b[0m\u001b[0;34m\u001b[0m\u001b[0;34m\u001b[0m\u001b[0m\n\u001b[0m\u001b[1;32m    583\u001b[0m \u001b[0;34m\u001b[0m\u001b[0m\n\u001b[1;32m    584\u001b[0m     \u001b[0;32mdef\u001b[0m \u001b[0msub\u001b[0m\u001b[0;34m(\u001b[0m\u001b[0mself\u001b[0m\u001b[0;34m,\u001b[0m \u001b[0maxes\u001b[0m\u001b[0;34m=\u001b[0m\u001b[0;32mNone\u001b[0m\u001b[0;34m)\u001b[0m\u001b[0;34m:\u001b[0m\u001b[0;34m\u001b[0m\u001b[0;34m\u001b[0m\u001b[0m\n",
      "\u001b[0;32m~/anaconda3/envs/gammapy-0.19/lib/python3.9/copy.py\u001b[0m in \u001b[0;36mdeepcopy\u001b[0;34m(x, memo, _nil)\u001b[0m\n\u001b[1;32m    151\u001b[0m             \u001b[0mcopier\u001b[0m \u001b[0;34m=\u001b[0m \u001b[0mgetattr\u001b[0m\u001b[0;34m(\u001b[0m\u001b[0mx\u001b[0m\u001b[0;34m,\u001b[0m \u001b[0;34m\"__deepcopy__\"\u001b[0m\u001b[0;34m,\u001b[0m \u001b[0;32mNone\u001b[0m\u001b[0;34m)\u001b[0m\u001b[0;34m\u001b[0m\u001b[0;34m\u001b[0m\u001b[0m\n\u001b[1;32m    152\u001b[0m             \u001b[0;32mif\u001b[0m \u001b[0mcopier\u001b[0m \u001b[0;32mis\u001b[0m \u001b[0;32mnot\u001b[0m \u001b[0;32mNone\u001b[0m\u001b[0;34m:\u001b[0m\u001b[0;34m\u001b[0m\u001b[0;34m\u001b[0m\u001b[0m\n\u001b[0;32m--> 153\u001b[0;31m                 \u001b[0my\u001b[0m \u001b[0;34m=\u001b[0m \u001b[0mcopier\u001b[0m\u001b[0;34m(\u001b[0m\u001b[0mmemo\u001b[0m\u001b[0;34m)\u001b[0m\u001b[0;34m\u001b[0m\u001b[0;34m\u001b[0m\u001b[0m\n\u001b[0m\u001b[1;32m    154\u001b[0m             \u001b[0;32melse\u001b[0m\u001b[0;34m:\u001b[0m\u001b[0;34m\u001b[0m\u001b[0;34m\u001b[0m\u001b[0m\n\u001b[1;32m    155\u001b[0m                 \u001b[0mreductor\u001b[0m \u001b[0;34m=\u001b[0m \u001b[0mdispatch_table\u001b[0m\u001b[0;34m.\u001b[0m\u001b[0mget\u001b[0m\u001b[0;34m(\u001b[0m\u001b[0mcls\u001b[0m\u001b[0;34m)\u001b[0m\u001b[0;34m\u001b[0m\u001b[0;34m\u001b[0m\u001b[0m\n",
      "\u001b[0;32m~/anaconda3/envs/gammapy-0.19/lib/python3.9/site-packages/astropy/wcs/wcs.py\u001b[0m in \u001b[0;36m__deepcopy__\u001b[0;34m(self, memo)\u001b[0m\n\u001b[1;32m    553\u001b[0m                          (deepcopy(self.cpdis1, memo),\n\u001b[1;32m    554\u001b[0m                           deepcopy(self.cpdis2, memo)),\n\u001b[0;32m--> 555\u001b[0;31m                          \u001b[0mdeepcopy\u001b[0m\u001b[0;34m(\u001b[0m\u001b[0mself\u001b[0m\u001b[0;34m.\u001b[0m\u001b[0mwcs\u001b[0m\u001b[0;34m,\u001b[0m \u001b[0mmemo\u001b[0m\u001b[0;34m)\u001b[0m\u001b[0;34m,\u001b[0m\u001b[0;34m\u001b[0m\u001b[0;34m\u001b[0m\u001b[0m\n\u001b[0m\u001b[1;32m    556\u001b[0m                          (deepcopy(self.det2im1, memo),\n\u001b[1;32m    557\u001b[0m                           deepcopy(self.det2im2, memo)))\n",
      "\u001b[0;32m~/anaconda3/envs/gammapy-0.19/lib/python3.9/copy.py\u001b[0m in \u001b[0;36mdeepcopy\u001b[0;34m(x, memo, _nil)\u001b[0m\n\u001b[1;32m    151\u001b[0m             \u001b[0mcopier\u001b[0m \u001b[0;34m=\u001b[0m \u001b[0mgetattr\u001b[0m\u001b[0;34m(\u001b[0m\u001b[0mx\u001b[0m\u001b[0;34m,\u001b[0m \u001b[0;34m\"__deepcopy__\"\u001b[0m\u001b[0;34m,\u001b[0m \u001b[0;32mNone\u001b[0m\u001b[0;34m)\u001b[0m\u001b[0;34m\u001b[0m\u001b[0;34m\u001b[0m\u001b[0m\n\u001b[1;32m    152\u001b[0m             \u001b[0;32mif\u001b[0m \u001b[0mcopier\u001b[0m \u001b[0;32mis\u001b[0m \u001b[0;32mnot\u001b[0m \u001b[0;32mNone\u001b[0m\u001b[0;34m:\u001b[0m\u001b[0;34m\u001b[0m\u001b[0;34m\u001b[0m\u001b[0m\n\u001b[0;32m--> 153\u001b[0;31m                 \u001b[0my\u001b[0m \u001b[0;34m=\u001b[0m \u001b[0mcopier\u001b[0m\u001b[0;34m(\u001b[0m\u001b[0mmemo\u001b[0m\u001b[0;34m)\u001b[0m\u001b[0;34m\u001b[0m\u001b[0;34m\u001b[0m\u001b[0m\n\u001b[0m\u001b[1;32m    154\u001b[0m             \u001b[0;32melse\u001b[0m\u001b[0;34m:\u001b[0m\u001b[0;34m\u001b[0m\u001b[0;34m\u001b[0m\u001b[0m\n\u001b[1;32m    155\u001b[0m                 \u001b[0mreductor\u001b[0m \u001b[0;34m=\u001b[0m \u001b[0mdispatch_table\u001b[0m\u001b[0;34m.\u001b[0m\u001b[0mget\u001b[0m\u001b[0;34m(\u001b[0m\u001b[0mcls\u001b[0m\u001b[0;34m)\u001b[0m\u001b[0;34m\u001b[0m\u001b[0;34m\u001b[0m\u001b[0m\n",
      "\u001b[0;31mKeyboardInterrupt\u001b[0m: "
     ]
    }
   ],
   "source": [
    "fit_standarad = Fit(store_trace=False)\n",
    "result_standarad = fit_standarad.run([dataset_standard])"
   ]
  },
  {
   "cell_type": "code",
   "execution_count": null,
   "id": "5269f6b8",
   "metadata": {},
   "outputs": [],
   "source": [
    "parameter_standard = dataset_standard.models[0].parameters['amplitude']\n",
    "par_error = 1.12e-13\n",
    "\n",
    "parameter_standard.scan_values = np.linspace(\n",
    "    #parameter_standard.value-2*par_error,\n",
    "    0,\n",
    "    parameter_standard.value#+2*par_error,\n",
    "    ,5 )\n",
    "f_standard = fit_standarad.stat_profile(\n",
    "                    datasets =  [dataset_standard],\n",
    "                    parameter=  parameter_standard, \n",
    "                    reoptimize = True ) "
   ]
  },
  {
   "cell_type": "code",
   "execution_count": null,
   "id": "5dce3b1b",
   "metadata": {},
   "outputs": [],
   "source": [
    "fig = plt.figure()\n",
    "ax = plt.gca()\n",
    "stat_standard =  f_standard['stat_scan'] -  min(f_standard['stat_scan'])\n",
    "#stat_N =  f_N['stat_scan'] -  min(f_N['stat_scan'])\n",
    "\n",
    "\n",
    "plt.plot(f_standard['amplitude_scan'],stat_standard, \n",
    "         label = \"Standard Analysis \\n{:.3} $\\pm$ {:.2}\".format(parameter_standard.value ,\n",
    "                                                        parameter_standard.error), \n",
    "         color = 'orange' )"
   ]
  },
  {
   "cell_type": "markdown",
   "id": "b969163a",
   "metadata": {},
   "source": [
    "The first two energybins of the dataset are not fitted well ..."
   ]
  },
  {
   "cell_type": "code",
   "execution_count": null,
   "id": "398c0c7c",
   "metadata": {
    "execution": {
     "iopub.execute_input": "2022-03-17T11:25:06.853353Z",
     "iopub.status.busy": "2022-03-17T11:25:06.853111Z",
     "iopub.status.idle": "2022-03-17T11:25:07.741541Z",
     "shell.execute_reply": "2022-03-17T11:25:07.740677Z"
    }
   },
   "outputs": [],
   "source": [
    "res_standard = (\n",
    "    dataset_standard.residuals(\"diff/sqrt(model)\")\n",
    "    .slice_by_idx(dict(energy=slice(6, 9)))\n",
    "    .smooth(0.1 * u.deg)\n",
    ")\n",
    "vmax = np.nanmax(np.abs(res_standard.data))\n",
    "res_standard.plot_grid(add_cbar=1, vmax=vmax, vmin=-vmax, cmap=\"coolwarm\");"
   ]
  },
  {
   "cell_type": "code",
   "execution_count": null,
   "id": "5d744d45",
   "metadata": {},
   "outputs": [],
   "source": [
    "kwargs_spectral = dict()\n",
    "kwargs_spectral[\"region\"] = CircleSkyRegion(\n",
    "    dataset_standard.geoms[\"geom\"].center_skydir, radius=3 * u.deg\n",
    ")\n",
    "kwargs_spectral[\"method\"] = \"diff/sqrt(model)\"\n",
    "dataset_standard.plot_residuals(kwargs_spectral=kwargs_spectral);"
   ]
  },
  {
   "cell_type": "markdown",
   "id": "1db20521",
   "metadata": {},
   "source": [
    "## Nuisance Parameters\n",
    "\n",
    "Firstly, the expected ampitude of the systematics for the different energybins are read. They can either be in terms of std or in percentage of the bg. Since in the end the nuisance parameters are in percentage of bg, we want the amplitude in the same unit..\n",
    "\n",
    "Here, two things are used to save computation time:\n",
    "- The nuisance parameters are computed only within the first two energybins of the analysis (index 4 and 5) exemplary to save computation time. The indices are defined as `i_start` and `i_end`. This approximation is fine since the systematic uncertainites are known to be the largest at the smaller energies. \n",
    "- The nuisance parameter have a larger binsize than the counts cube. The downsampling factor `downsampling_factor` denotes that. This way, one nuisance parameter acts on multiple neighbor bins and the systematic uncertainty is averaged over them. The geometry of this downsampled nuisance parameter cube is saved in `dataset.geoms['geom_down']`.\n",
    "\n",
    "\n"
   ]
  },
  {
   "cell_type": "markdown",
   "id": "92924a20",
   "metadata": {},
   "source": [
    "### Systematic Amplitude"
   ]
  },
  {
   "cell_type": "code",
   "execution_count": null,
   "id": "0672fcbd",
   "metadata": {},
   "outputs": [],
   "source": [
    "bg = (\n",
    "    dataset_standard.background\n",
    "    .data.sum(axis=2)\n",
    "    .sum(axis=1)\n",
    ")\n",
    "\n",
    "#sysamplitude_std = np.loadtxt(f'{source}/sysamplitude.txt')\n",
    "# Convert to %:\n",
    "#sysamplitude_std /= np.sqrt(bg)\n",
    "\n",
    "\n",
    "sysamplitude_percentage = np.loadtxt((f'{path}/{source}/sysamplitude_percentage.txt'))\n",
    "# Convert to %:\n",
    "sysamplitude_percentage /= 100\n",
    "print(\"sysamplitude_percentage:\",sysamplitude_percentage)\n",
    "plt.plot(dataset_standard.geoms[\"geom\"].axes[0].center.value,\n",
    "         sysamplitude_percentage,\n",
    "        label =\"Expected Strength of Systematic\")\n",
    "\n",
    "bg_counts_energy =dataset_standard.npred_background().cutout(geom.center_skydir, cutout).data.sum(axis = 2).sum(axis=1)\n",
    "source_counts_energy =dataset_standard.npred_signal().cutout(geom.center_skydir, cutout).data.sum(axis = 2).sum(axis=1)\n",
    "percent_source = source_counts_energy/bg_counts_energy\n",
    "\n",
    "\n",
    "\n",
    "\n",
    "plt.plot(dataset_standard.geoms[\"geom\"].axes[0].center.value,\n",
    "        percent_source, label = \"Strength of the Source\")\n",
    "plt.xscale('log')\n",
    "plt.ylabel(\"Expected Systematic\")\n",
    "plt.xlabel(\"Energy [TeV]\")\n",
    "plt.legend()\n",
    "#choose between the following:\n",
    "sigma = sysamplitude_percentage \n",
    "#sigma = sysamplitude_std \n",
    "\n",
    "\n",
    "emask = sigma >0\n",
    "print(\"Estimated systematic uncertainty: \")\n",
    "print()\n",
    "print(\"Ebin               [Counts]    [% BG]\")\n",
    "\n",
    "for i, e in enumerate(dataset_standard.geoms['geom'].axes[0].center.value):\n",
    "    e_start, e_end = (\n",
    "        dataset_standard.geoms[\"geom\"].axes[0].edges[ i],\n",
    "        dataset_standard.geoms[\"geom\"].axes[0].edges[i + 1],\n",
    "    )\n",
    "    sys_percent = sigma[i]\n",
    "    sys_counts =  sigma[i] * bg[i]\n",
    "    \n",
    "\n",
    "    print(\n",
    "        f\"{np.round(e_start.value,1):<4} : {np.round(e_end.value,1):<6} TeV:  {np.round(sys_counts,0):<10}  {np.round(sys_percent,3):<5}  \"\n",
    "        )\n",
    "    \n",
    "    \n"
   ]
  },
  {
   "cell_type": "markdown",
   "id": "82681d9c",
   "metadata": {},
   "source": [
    "### Downsampling Factor"
   ]
  },
  {
   "cell_type": "code",
   "execution_count": null,
   "id": "b0c57270",
   "metadata": {},
   "outputs": [],
   "source": [
    "angular_size_file = f'{source}/angular_size.txt'\n",
    "angular_size = np.loadtxt(angular_size_file)\n",
    "ndim_spatial = dataset_standard.geoms['geom'].data_shape[1]\n",
    "print(\"Current Binning:\", ndim_spatial)\n",
    "possible_downsampling_factors = []\n",
    "possible_binsizes = []\n",
    "for i in range(1, ndim_spatial):\n",
    "    if (ndim_spatial%i == 0):\n",
    "        possible_downsampling_factors.append(i)\n",
    "        possible_binsizes.append(binsize[0].value * i)\n",
    "\n",
    "\n",
    "print(f\"Possible downsampling factors: {possible_downsampling_factors}\")\n",
    "print(f\"Resulting Binsize: {possible_binsizes}\")\n",
    "\n",
    "downsampling_factor_index = -1\n",
    "while (possible_binsizes[downsampling_factor_index] > angular_size):\n",
    "    downsampling_factor_index -=1\n",
    "downsampling_factor =    possible_downsampling_factors[downsampling_factor_index]\n",
    "\n",
    "# ##############################\n",
    "downsampling_factor = 50\n",
    "# ##############################\n",
    "\n",
    "\n",
    "print()\n",
    "print(f\"Chosen Downsampling Factor: \\n {downsampling_factor}.\")\n",
    "print(f\"This will result in a Binsize of the Nuisance Parameters of \\n {possible_binsizes[downsampling_factor_index]} deg.\")\n",
    "print(f\"Which is smaller than the observed angular size of the systematics of \\n {angular_size} deg.\")\n",
    "\n",
    "geom_down = dataset_standard.downsample(downsampling_factor).geoms['geom']\n"
   ]
  },
  {
   "cell_type": "markdown",
   "id": "028d0390",
   "metadata": {},
   "source": [
    "## Import Nuisance Parameter Dataset"
   ]
  },
  {
   "cell_type": "code",
   "execution_count": null,
   "id": "7d4be9de",
   "metadata": {},
   "outputs": [],
   "source": [
    "path_sys = '/home/hpc/caph/mppi045h/3D_analysis/N_parameters_in_L/syserror_3d_bkgmodel/2-source_dataset/'\n",
    "\n",
    "ebins = range(6,20)\n",
    "i_start, i_end = 6,8\n",
    "pathsource = f\"{source}/\"\n",
    "dataset_N = MapDatasetNuisance.read(f\"{path_sys}/{pathsource}nui_dataset_weak.fits\")\n",
    "with open(f'{pathsource}nui_par_weak.yml', \"r\") as ymlfile:\n",
    "    nui_par = yaml.load(ymlfile, Loader=yaml.FullLoader)\n",
    "dataset_N.N_parameters = Parameters.from_dict(nui_par )\n",
    "with open(f'{pathsource}nui_model_weak.yml', \"r\") as ymlfile:\n",
    "    best_fit_model = yaml.load(ymlfile, Loader=yaml.FullLoader)\n",
    "with open(f'{pathsource}nui_bgmodel_weak.yml', \"r\") as ymlfile:\n",
    "    best_fit_bgmodel = yaml.load(ymlfile, Loader=yaml.FullLoader)\n",
    "bkg_model = FoVBackgroundModel(dataset_name=dataset_N.name)\n",
    "bkg_model.parameters['norm'].value = best_fit_bgmodel['spectral']['parameters'][0]['value']\n",
    "bkg_model.parameters['tilt'].value = best_fit_bgmodel['spectral']['parameters'][1]['value']\n",
    "bkg_model.parameters['norm'].error = best_fit_bgmodel['spectral']['parameters'][0]['error']\n",
    "bkg_model.parameters['tilt'].error = best_fit_bgmodel['spectral']['parameters'][1]['error']\n",
    "models = Models.from_dict(best_fit_model )\n",
    "models.append(bkg_model)\n",
    "dataset_N.models =models\n",
    "dataset_N.geoms['geom']\n",
    "print(dataset_N)"
   ]
  },
  {
   "cell_type": "code",
   "execution_count": null,
   "id": "4ac25831",
   "metadata": {
    "execution": {
     "iopub.execute_input": "2022-03-17T11:25:07.813611Z",
     "iopub.status.busy": "2022-03-17T11:25:07.813406Z",
     "iopub.status.idle": "2022-03-17T11:25:08.111207Z",
     "shell.execute_reply": "2022-03-17T11:25:08.110418Z"
    }
   },
   "outputs": [],
   "source": [
    "fig = plt.figure()\n",
    "ax = fig.add_subplot(111)\n",
    "cax = ax.matshow(dataset_N.inv_corr_matrix)  # interpolation='nearest')\n",
    "fig.colorbar(cax);"
   ]
  },
  {
   "cell_type": "markdown",
   "id": "b0334e7d",
   "metadata": {},
   "source": [
    "# Initiate the MapDatasetNuisance\n",
    "\n",
    "The MapDatasetNuisance class takes in addition to the MapDataset class:\n",
    "- `inv_corr_matrix`: The inverse of the correlation matrix \n",
    "- ` N_parameters`: The nuisance parameters\n",
    "- `nuisance_mask`: Mask to help evaluating the nuisance parameters in the background prediction"
   ]
  },
  {
   "cell_type": "markdown",
   "id": "bdbf505e",
   "metadata": {},
   "source": [
    "The method `N_map()` is a map in the origial geometry with the nuisance parameters as the data. It is used in npred_background() and visualises the best fit nuisance parameters."
   ]
  },
  {
   "cell_type": "code",
   "execution_count": null,
   "id": "5690849f",
   "metadata": {
    "execution": {
     "iopub.execute_input": "2022-03-17T11:25:08.367884Z",
     "iopub.status.busy": "2022-03-17T11:25:08.367715Z",
     "iopub.status.idle": "2022-03-17T11:25:08.848523Z",
     "shell.execute_reply": "2022-03-17T11:25:08.847742Z"
    }
   },
   "outputs": [],
   "source": [
    "vmax = np.max(np.abs(dataset_N.N_map().data))\n",
    "dataset_N.N_map().plot_grid(\n",
    "    add_cbar=1, vmax=vmax, vmin=-vmax\n",
    ");"
   ]
  },
  {
   "cell_type": "markdown",
   "id": "a5f24bc2",
   "metadata": {},
   "source": [
    "## Comparison to Standard Analysis"
   ]
  },
  {
   "cell_type": "markdown",
   "id": "5e95d5b0",
   "metadata": {},
   "source": [
    "The spectral residual points show again how especially the first two energybins are not fitted well"
   ]
  },
  {
   "cell_type": "code",
   "execution_count": null,
   "id": "6d56ea2e",
   "metadata": {
    "execution": {
     "iopub.execute_input": "2022-03-17T11:25:08.852705Z",
     "iopub.status.busy": "2022-03-17T11:25:08.852543Z",
     "iopub.status.idle": "2022-03-17T11:25:09.419797Z",
     "shell.execute_reply": "2022-03-17T11:25:09.418969Z"
    }
   },
   "outputs": [],
   "source": [
    "dataset_standard.plot_residuals(kwargs_spectral=kwargs_spectral);"
   ]
  },
  {
   "cell_type": "markdown",
   "id": "4b34db98",
   "metadata": {},
   "source": [
    "After including the nuisance parameters the model description is much better in the first two energy bins. This indicates that the method worked and has improved out analysis."
   ]
  },
  {
   "cell_type": "code",
   "execution_count": null,
   "id": "b4cef5be",
   "metadata": {
    "execution": {
     "iopub.execute_input": "2022-03-17T11:25:09.424048Z",
     "iopub.status.busy": "2022-03-17T11:25:09.423888Z",
     "iopub.status.idle": "2022-03-17T11:25:09.995218Z",
     "shell.execute_reply": "2022-03-17T11:25:09.994461Z"
    }
   },
   "outputs": [],
   "source": [
    "res_N = (\n",
    "    dataset_N.residuals(\"diff/sqrt(model)\")\n",
    "    .slice_by_idx(dict(energy=slice(6, 8)))\n",
    "    .smooth(0.1 * u.deg)\n",
    ")\n",
    "vmax = np.nanmax(np.abs(res_standard.data))\n",
    "res_N.plot_grid(add_cbar=1, vmax=vmax, vmin=-vmax, cmap=\"coolwarm\");"
   ]
  },
  {
   "cell_type": "code",
   "execution_count": null,
   "id": "07401244",
   "metadata": {
    "execution": {
     "iopub.execute_input": "2022-03-17T11:25:10.000090Z",
     "iopub.status.busy": "2022-03-17T11:25:09.999927Z",
     "iopub.status.idle": "2022-03-17T11:25:10.616068Z",
     "shell.execute_reply": "2022-03-17T11:25:10.615257Z"
    }
   },
   "outputs": [],
   "source": [
    "dataset_N.plot_residuals(kwargs_spectral=kwargs_spectral);"
   ]
  },
  {
   "cell_type": "markdown",
   "id": "0d600c6a",
   "metadata": {},
   "source": [
    "Her a comparison of the distribution of the significance maps in the first two energy bins is shown. With the nuisance parameters the mean of the distribution $\\mu$ got closer to zero and the standard deviation $\\sigma$ is closer to the expected $1$."
   ]
  },
  {
   "cell_type": "code",
   "execution_count": null,
   "id": "0ba0ef56",
   "metadata": {
    "execution": {
     "iopub.execute_input": "2022-03-17T11:25:10.620574Z",
     "iopub.status.busy": "2022-03-17T11:25:10.620413Z",
     "iopub.status.idle": "2022-03-17T11:25:11.294345Z",
     "shell.execute_reply": "2022-03-17T11:25:11.293530Z"
    }
   },
   "outputs": [],
   "source": [
    "res_standard = (\n",
    "    dataset_standard.residuals(\"diff/sqrt(model)\")\n",
    "    .slice_by_idx(dict(energy=slice(i_start, i_end)))\n",
    "    .data.flatten()\n",
    ")\n",
    "res_N = (\n",
    "    dataset_N.residuals(\"diff/sqrt(model)\")\n",
    "    .slice_by_idx(dict(energy=slice(i_start, i_end)))\n",
    "    .data.flatten()\n",
    ")\n",
    "\n",
    "_, bins, _ = plt.hist(\n",
    "    res_standard,\n",
    "    bins=50,\n",
    "    alpha=0.4,\n",
    "    label=\"Standard: \\n$\\mu$ = {:.3} \\n$\\sigma$ = {:.3}\".format(\n",
    "        np.nanmean(res_standard), np.nanstd(res_standard)\n",
    "    ),\n",
    ")\n",
    "plt.hist(\n",
    "    res_N,\n",
    "    bins=bins,\n",
    "    alpha=0.4,\n",
    "    label=\"Nuisance: \\n$\\mu$ = {:.3} \\n$\\sigma$ = {:.3}\".format(\n",
    "        np.nanmean(res_N), np.nanstd(res_N)\n",
    "    ),\n",
    ")\n",
    "plt.yscale(\"log\")\n",
    "plt.legend()\n",
    "plt.xlabel(\"Significance\")\n",
    "plt.ylabel(\"Amount\");"
   ]
  },
  {
   "cell_type": "markdown",
   "id": "19c5970f",
   "metadata": {},
   "source": [
    "## Comparsion of the erros of the best fit model parameters\n",
    "\n",
    "The model errors of the Nuisance dataset have for now to be set by hand. "
   ]
  },
  {
   "cell_type": "code",
   "execution_count": null,
   "id": "dd12880a",
   "metadata": {},
   "outputs": [],
   "source": [
    "print(\" Input\")\n",
    "print(\" with nuisance\")\n",
    "print(\"(without nuisance)\")\n",
    "\n",
    "\n",
    "for p_N, p_stand , p_input in zip(dataset_N.models.parameters.free_parameters,dataset_standard.models.parameters.free_parameters, \n",
    "                       models_input.parameters.free_parameters):\n",
    "    print()\n",
    "    print('='*50)\n",
    "    print(p_N.name, p_stand.name)\n",
    "    print('-'*50)\n",
    "    print('=====    {:.3}  ===='.format(p_input.value   ) )\n",
    "\n",
    "    print('with:    {:.3} pm {:.3}        '.format(p_N.value, float(p_N.error) )   ) \n",
    "    print('w/o:     {:.3} pm {:.3}        '.format(p_stand.value, float(p_stand.error) ))\n",
    "\n",
    "\n",
    "\n"
   ]
  },
  {
   "cell_type": "code",
   "execution_count": null,
   "id": "85caaa21",
   "metadata": {},
   "outputs": [],
   "source": []
  }
 ],
 "metadata": {
  "kernelspec": {
   "display_name": "Python 3 (ipykernel)",
   "language": "python",
   "name": "python3"
  },
  "language_info": {
   "codemirror_mode": {
    "name": "ipython",
    "version": 3
   },
   "file_extension": ".py",
   "mimetype": "text/x-python",
   "name": "python",
   "nbconvert_exporter": "python",
   "pygments_lexer": "ipython3",
   "version": "3.9.10"
  },
  "varInspector": {
   "cols": {
    "lenName": 16,
    "lenType": 16,
    "lenVar": 40
   },
   "kernels_config": {
    "python": {
     "delete_cmd_postfix": "",
     "delete_cmd_prefix": "del ",
     "library": "var_list.py",
     "varRefreshCmd": "print(var_dic_list())"
    },
    "r": {
     "delete_cmd_postfix": ") ",
     "delete_cmd_prefix": "rm(",
     "library": "var_list.r",
     "varRefreshCmd": "cat(var_dic_list()) "
    }
   },
   "types_to_exclude": [
    "module",
    "function",
    "builtin_function_or_method",
    "instance",
    "_Feature"
   ],
   "window_display": false
  }
 },
 "nbformat": 4,
 "nbformat_minor": 5
}
