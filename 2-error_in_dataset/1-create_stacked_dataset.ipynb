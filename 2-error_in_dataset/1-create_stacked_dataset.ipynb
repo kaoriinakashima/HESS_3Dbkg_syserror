{
 "cells": [
  {
   "cell_type": "code",
   "execution_count": 1,
   "id": "018c2471",
   "metadata": {},
   "outputs": [],
   "source": [
    "import numpy as np\n",
    "import astropy.units as u\n",
    "from astropy.coordinates import SkyCoord\n",
    "import yaml\n",
    "import os\n",
    "import matplotlib.pyplot as plt\n",
    "\n",
    "from gammapy.maps import MapAxis, WcsGeom, Map\n",
    "from gammapy.data import DataStore\n",
    "from gammapy.makers import MapDatasetMaker, SafeMaskMaker, FoVBackgroundMaker\n",
    "from gammapy.modeling.models import (\n",
    "    FoVBackgroundModel,\n",
    "    Models,\n",
    ")\n",
    "from gammapy.modeling import Fit\n",
    "from gammapy.datasets import MapDataset\n",
    "from gammapy.irf import Background3D\n",
    "\n",
    "import warnings\n",
    "warnings.filterwarnings('ignore')"
   ]
  },
  {
   "cell_type": "code",
   "execution_count": 2,
   "id": "e67fc24b",
   "metadata": {},
   "outputs": [],
   "source": [
    "# source_catalog = \"Crab Nebula\"\n",
    "# source = 'Crab'\n",
    "# pos = SkyCoord(83.6333313*u.deg, 22.01444435*u.deg, frame='icrs')\n",
    "# mask_sources = [[pos.ra.deg, pos.dec.deg, 0.4]] # given as a list, position and size\n",
    "\n",
    "source_catalog = \"NGC 253\"\n",
    "source = 'NGC253'\n",
    "pos = SkyCoord(11.8875*u.deg, -25.2883*u.deg, frame='icrs')\n",
    "mask_sources = [[pos.ra.deg, pos.dec.deg, 0.4]] # given as a list, position and size"
   ]
  },
  {
   "cell_type": "code",
   "execution_count": 3,
   "id": "c5d5283a",
   "metadata": {},
   "outputs": [],
   "source": [
    "hesseras = ['hess1', 'hess2']\n",
    "if os.path.isdir(source)==False:\n",
    "    os.system(f'mkdir {source}')"
   ]
  },
  {
   "cell_type": "code",
   "execution_count": 4,
   "id": "7c942783",
   "metadata": {},
   "outputs": [],
   "source": [
    "# loading general parameters\n",
    "with open(\"../general_config.yml\", \"r\") as ymlfile:\n",
    "    cfg = yaml.load(ymlfile, Loader=yaml.FullLoader)\n",
    "conf=cfg['conf']\n",
    "repo_path=cfg['repo_path']\n",
    "N_ebins = cfg['N_ebins']\n",
    "zen_bins = cfg['zen_bins']\n",
    "muoneff_flag= cfg['muoneff_flag']\n",
    "\n",
    "muoneff_path = cfg['muoneff_path']\n",
    "model_str = cfg['model_str']\n",
    "energy_bins = np.logspace(-1, 2, N_ebins+1)"
   ]
  },
  {
   "cell_type": "code",
   "execution_count": 5,
   "id": "dc944dcc",
   "metadata": {},
   "outputs": [],
   "source": [
    "axis = MapAxis.from_edges(energy_bins, unit=\"TeV\", name=\"energy\", interp=\"log\")\n",
    "binsz=cfg['binsz']*u.deg\n",
    "maker = MapDatasetMaker()\n",
    "maker_safe_mask = SafeMaskMaker(methods=['offset-max', 'bkg-peak'], offset_max=cfg['offset_cut']*u.deg)\n",
    "geom = WcsGeom.create(skydir=pos, binsz=binsz, width=12, frame=\"icrs\", axes=[axis])\n",
    "stacked = MapDataset.create(geom=geom)"
   ]
  },
  {
   "cell_type": "code",
   "execution_count": 6,
   "id": "bc32a240",
   "metadata": {
    "jupyter": {
     "outputs_hidden": true
    }
   },
   "outputs": [
    {
     "ename": "OSError",
     "evalue": "File not found: hdu-index-bg-latest-fov-radec.fits.gz",
     "output_type": "error",
     "traceback": [
      "\u001b[0;31m---------------------------------------------------------------------------\u001b[0m",
      "\u001b[0;31mOSError\u001b[0m                                   Traceback (most recent call last)",
      "\u001b[0;32m/tmp/ipykernel_27210/2437705577.py\u001b[0m in \u001b[0;36m<module>\u001b[0;34m\u001b[0m\n\u001b[1;32m      2\u001b[0m \u001b[0;32mfor\u001b[0m \u001b[0mhessera\u001b[0m \u001b[0;32min\u001b[0m \u001b[0mhesseras\u001b[0m\u001b[0;34m:\u001b[0m\u001b[0;34m\u001b[0m\u001b[0;34m\u001b[0m\u001b[0m\n\u001b[1;32m      3\u001b[0m     \u001b[0mbasedir\u001b[0m \u001b[0;34m=\u001b[0m \u001b[0;34mf'$FITS_PROD/{hessera}/std_{conf}_fullEnclosure'\u001b[0m\u001b[0;34m\u001b[0m\u001b[0;34m\u001b[0m\u001b[0m\n\u001b[0;32m----> 4\u001b[0;31m     \u001b[0mds\u001b[0m \u001b[0;34m=\u001b[0m \u001b[0mDataStore\u001b[0m\u001b[0;34m.\u001b[0m\u001b[0mfrom_dir\u001b[0m\u001b[0;34m(\u001b[0m\u001b[0mbasedir\u001b[0m\u001b[0;34m,\u001b[0m \u001b[0;34mf'hdu-index-bg-latest-fov-radec.fits.gz'\u001b[0m\u001b[0;34m,\u001b[0m \u001b[0;34mf'obs-index-bg-latest-fov-radec.fits.gz'\u001b[0m\u001b[0;34m)\u001b[0m\u001b[0;34m\u001b[0m\u001b[0;34m\u001b[0m\u001b[0m\n\u001b[0m\u001b[1;32m      5\u001b[0m     \u001b[0mobs_table\u001b[0m \u001b[0;34m=\u001b[0m \u001b[0mds\u001b[0m\u001b[0;34m.\u001b[0m\u001b[0mobs_table\u001b[0m\u001b[0;34m\u001b[0m\u001b[0;34m\u001b[0m\u001b[0m\n\u001b[1;32m      6\u001b[0m \u001b[0;34m\u001b[0m\u001b[0m\n",
      "\u001b[0;32m~/anaconda3/envs/gammapy-0.19/lib/python3.9/site-packages/gammapy/data/data_store.py\u001b[0m in \u001b[0;36mfrom_dir\u001b[0;34m(cls, base_dir, hdu_table_filename, obs_table_filename)\u001b[0m\n\u001b[1;32m    130\u001b[0m \u001b[0;34m\u001b[0m\u001b[0m\n\u001b[1;32m    131\u001b[0m         \u001b[0;32mif\u001b[0m \u001b[0;32mnot\u001b[0m \u001b[0mhdu_table_filename\u001b[0m\u001b[0;34m.\u001b[0m\u001b[0mexists\u001b[0m\u001b[0;34m(\u001b[0m\u001b[0;34m)\u001b[0m\u001b[0;34m:\u001b[0m\u001b[0;34m\u001b[0m\u001b[0;34m\u001b[0m\u001b[0m\n\u001b[0;32m--> 132\u001b[0;31m             \u001b[0;32mraise\u001b[0m \u001b[0mOSError\u001b[0m\u001b[0;34m(\u001b[0m\u001b[0;34mf\"File not found: {hdu_table_filename}\"\u001b[0m\u001b[0;34m)\u001b[0m\u001b[0;34m\u001b[0m\u001b[0;34m\u001b[0m\u001b[0m\n\u001b[0m\u001b[1;32m    133\u001b[0m         \u001b[0mlog\u001b[0m\u001b[0;34m.\u001b[0m\u001b[0mdebug\u001b[0m\u001b[0;34m(\u001b[0m\u001b[0;34mf\"Reading {hdu_table_filename}\"\u001b[0m\u001b[0;34m)\u001b[0m\u001b[0;34m\u001b[0m\u001b[0;34m\u001b[0m\u001b[0m\n\u001b[1;32m    134\u001b[0m         \u001b[0mhdu_table\u001b[0m \u001b[0;34m=\u001b[0m \u001b[0mHDUIndexTable\u001b[0m\u001b[0;34m.\u001b[0m\u001b[0mread\u001b[0m\u001b[0;34m(\u001b[0m\u001b[0mhdu_table_filename\u001b[0m\u001b[0;34m,\u001b[0m \u001b[0mformat\u001b[0m\u001b[0;34m=\u001b[0m\u001b[0;34m\"fits\"\u001b[0m\u001b[0;34m)\u001b[0m\u001b[0;34m\u001b[0m\u001b[0;34m\u001b[0m\u001b[0m\n",
      "\u001b[0;31mOSError\u001b[0m: File not found: hdu-index-bg-latest-fov-radec.fits.gz"
     ]
    }
   ],
   "source": [
    "final_runlist= []\n",
    "for hessera in hesseras:\n",
    "    basedir = f'$FITS_PROD/{hessera}/std_{conf}_fullEnclosure'\n",
    "    ds = DataStore.from_dir(basedir, f'hdu-index-bg-latest-fov-radec.fits.gz', f'obs-index-bg-latest-fov-radec.fits.gz')\n",
    "    obs_table = ds.obs_table\n",
    "\n",
    "    # run selection\n",
    "    mask_source = obs_table['OBJECT'] == source_catalog\n",
    "    mask_tel = obs_table['N_TELS'] == cfg['mask_ntels']\n",
    "    mask_zenpnt = obs_table['ZEN_PNT'] < cfg['mask_zenpnt']\n",
    "    mask_eventcount = obs_table['EVENT_COUNT'] > cfg['mask_eventcount']\n",
    "    mask_ontime = obs_table['ONTIME'] > cfg['mask_ontime']\n",
    "    mask_final = mask_source & mask_tel & mask_zenpnt & mask_eventcount & mask_ontime \n",
    "    runlist = np.asarray(obs_table['OBS_ID'][mask_final])\n",
    "\n",
    "    # preparing the dataset\n",
    "    observations = ds.get_observations(runlist)\n",
    "\n",
    "    for obs in observations:\n",
    "        if muoneff_flag:\n",
    "            muoneff_path = f'{cfg[\"muoneff_path\"]}/{hessera}/hess1_hess2/v01c_kaori_mueff'\n",
    "            if obs.obs_info['MUONEFF'] > 0.085:\n",
    "                model_CD = 'B'\n",
    "            elif obs.obs_info['MUONEFF'] >= 0.075:\n",
    "                model_CD = 'D'\n",
    "            else:\n",
    "                model_CD = 'C'\n",
    "\n",
    "            if obs.obs_id >= 100000:\n",
    "                run_number= f'{obs.obs_id}'\n",
    "            else:\n",
    "                run_number= f'0{obs.obs_id}'\n",
    "            filename = f'{muoneff_path}_{model_CD}/hess_bkg_3d_v01c_kaori_mueff_{model_CD}_norebin_fov_radec_{run_number}.fits.gz'\n",
    "            obs.bkg = Background3D.read(filename, hdu='BACKGROUND')\n",
    "\n",
    "        dataset = stacked.cutout(obs.pointing_radec, width=5)\n",
    "        dataset = maker.run(dataset, obs)\n",
    "        dataset = maker_safe_mask.run(dataset, obs)\n",
    "        \n",
    "\n",
    "        # create here mask_fit\n",
    "        dataset.mask_fit = Map.from_geom(geom=dataset.counts.geom, data=np.ones_like(dataset.counts.data).astype(bool))   \n",
    "        \n",
    "        for mask_pos in mask_sources:\n",
    "            dataset.mask_fit &= ~dataset.counts.geom.region_mask(f\"icrs;circle({mask_pos[0]}, {mask_pos[1]}, {mask_pos[2]})\")\n",
    "\n",
    "        bkg_model = FoVBackgroundModel(dataset_name=dataset.name)\n",
    "        dataset.models = Models([bkg_model])\n",
    "        dataset.background_model.spectral_model.tilt.frozen = False\n",
    "\n",
    "        Fit().run(datasets=[dataset])\n",
    "        \n",
    "        if dataset.background_model.spectral_model.norm.value > 0:\n",
    "            final_runlist.append(obs.obs_id)\n",
    "            dataset.background.data[~dataset.mask_safe.data] = 0.0\n",
    "            stacked.stack(dataset) \n",
    "        else:\n",
    "            info_file.write(f'\\nrun: with problem={obs.obs_id}\\n')"
   ]
  },
  {
   "cell_type": "code",
   "execution_count": null,
   "id": "57711fa2",
   "metadata": {},
   "outputs": [],
   "source": [
    "obsid_list = np.asarray(final_runlist)\n",
    "stacked.write(f'{source}/stacked.fits', overwrite=True)\n",
    "np.savetxt(f'{source}/runlist.txt', obsid_list)"
   ]
  },
  {
   "cell_type": "markdown",
   "id": "e16d039a",
   "metadata": {},
   "source": [
    "## checking the stacked dataset"
   ]
  },
  {
   "cell_type": "code",
   "execution_count": null,
   "id": "3d6e65fc",
   "metadata": {},
   "outputs": [],
   "source": [
    "print(f'there are {len(final_runlist)} runs in the stacked dataset')"
   ]
  },
  {
   "cell_type": "code",
   "execution_count": null,
   "id": "15441ffd",
   "metadata": {},
   "outputs": [],
   "source": [
    "for mask_pos in mask_sources:\n",
    "    stacked.mask_safe &= ~stacked.counts.geom.region_mask(f\"icrs;circle({mask_pos[0]}, {mask_pos[1]}, {mask_pos[2]})\")\n",
    "\n",
    "fig, ax = plt.subplots(1,3, figsize=(15, 3))\n",
    "(stacked.counts*stacked.mask_safe).sum_over_axes().plot(add_cbar=True, ax=ax[0])\n",
    "ax[0].set_title('counts')\n",
    "(stacked.background*stacked.mask_safe).sum_over_axes().plot(add_cbar=True, ax=ax[1])\n",
    "ax[1].set_title('background')\n",
    "(stacked.residuals()*stacked.mask_safe).sum_over_axes().smooth(1).plot(add_cbar=True, ax=ax[2])\n",
    "ax[2].set_title('difference')\n",
    "plt.show()"
   ]
  },
  {
   "cell_type": "code",
   "execution_count": null,
   "id": "0725d041",
   "metadata": {},
   "outputs": [],
   "source": [
    "from gammapy.estimators import ExcessMapEstimator\n",
    "\n",
    "estimator = ExcessMapEstimator(\n",
    "    correlation_radius=\"0.2 deg\",\n",
    "    selection_optional=[],\n",
    "    energy_edges=[0.1, 100] * u.TeV,\n",
    ")\n",
    "result = estimator.run(stacked)"
   ]
  },
  {
   "cell_type": "code",
   "execution_count": null,
   "id": "778726f2",
   "metadata": {},
   "outputs": [],
   "source": [
    "fig, ax = plt.subplots(1,2, figsize=(15, 3))\n",
    "\n",
    "result[\"sqrt_ts\"].plot(cmap=\"coolwarm\", add_cbar=True, vmin=-5, vmax=5, ax=ax[0]);\n",
    "ax[1].hist(result[\"sqrt_ts\"].data.ravel(), bins=np.linspace(-5,5,30));"
   ]
  },
  {
   "cell_type": "code",
   "execution_count": null,
   "id": "cb282616",
   "metadata": {},
   "outputs": [],
   "source": [
    "(stacked.counts*stacked.mask_safe).get_spectrum().plot(label='data')\n",
    "(stacked.background*stacked.mask_safe).get_spectrum().plot(label='bkg model')\n",
    "plt.legend()\n",
    "plt.title(source)\n",
    "plt.ylabel('counts')"
   ]
  },
  {
   "cell_type": "code",
   "execution_count": null,
   "id": "82799025",
   "metadata": {},
   "outputs": [],
   "source": []
  }
 ],
 "metadata": {
  "kernelspec": {
   "display_name": "Python 3 (ipykernel)",
   "language": "python",
   "name": "python3"
  },
  "language_info": {
   "codemirror_mode": {
    "name": "ipython",
    "version": 3
   },
   "file_extension": ".py",
   "mimetype": "text/x-python",
   "name": "python",
   "nbconvert_exporter": "python",
   "pygments_lexer": "ipython3",
   "version": "3.9.10"
  },
  "varInspector": {
   "cols": {
    "lenName": 16,
    "lenType": 16,
    "lenVar": 40
   },
   "kernels_config": {
    "python": {
     "delete_cmd_postfix": "",
     "delete_cmd_prefix": "del ",
     "library": "var_list.py",
     "varRefreshCmd": "print(var_dic_list())"
    },
    "r": {
     "delete_cmd_postfix": ") ",
     "delete_cmd_prefix": "rm(",
     "library": "var_list.r",
     "varRefreshCmd": "cat(var_dic_list()) "
    }
   },
   "types_to_exclude": [
    "module",
    "function",
    "builtin_function_or_method",
    "instance",
    "_Feature"
   ],
   "window_display": false
  }
 },
 "nbformat": 4,
 "nbformat_minor": 5
}
