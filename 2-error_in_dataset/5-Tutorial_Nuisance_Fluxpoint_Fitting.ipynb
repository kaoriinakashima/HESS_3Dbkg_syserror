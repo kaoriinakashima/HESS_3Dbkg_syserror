{
 "cells": [
  {
   "cell_type": "markdown",
   "id": "a9a0c4a5",
   "metadata": {},
   "source": [
    "# Import the Dataset\n",
    "\n",
    "In this notebook a 3D analysis of the -- is demonstated. In addition to the usuall model parameters so called 'nuisance parameters' are fitted which account for any systematical uncertainties. These sysetmatical uncertainties are assumed to be due a missmodelling of the hardronic background. \n",
    "\n",
    "The nuisance parameters are correlated so they can only eliminate the systemtic uncertainties but not the uncorrelated statistical uncertainicies.  \n",
    "\n",
    "Here the Fluxpoints of the source are fitted. Hereby, the MapDatasetNuisance is sliced into certain energybins and within this energybin only the source normalisation and the nusiance parameters of this energybin are fitted. The normalisation of the bg and all the other model parameters are frozen. \n",
    "\n",
    "The dataset itself was set-up and fitted in the whole energyrange in the notebook `Tutorial_Nuisance_Parameter_Fitting`.\n"
   ]
  },
  {
   "cell_type": "code",
   "execution_count": 1,
   "id": "527e2126",
   "metadata": {},
   "outputs": [],
   "source": [
    "import pyximport\n",
    "\n",
    "pyximport.install()\n",
    "import matplotlib.pyplot as plt\n",
    "import numpy as np\n",
    "import astropy.units as u\n",
    "import yaml\n",
    "import gammapy\n",
    "\n",
    "# from gammapy.datasets import MapDataset\n",
    "from gammapy.maps import Map\n",
    "from astropy.coordinates import SkyCoord, Angle\n",
    "from gammapy.modeling import Fit, Parameter, Parameters, Covariance\n",
    "from gammapy.datasets import MapDataset #, MapDatasetNuisance\n",
    "from gammapy.modeling.models import (\n",
    "    PowerLawSpectralModel,\n",
    "    create_crab_spectral_model,\n",
    "    SkyModel,\n",
    "    PointSpatialModel,\n",
    "    ShellSpatialModel,\n",
    "    GeneralizedGaussianSpatialModel,\n",
    "    TemplateSpatialModel,\n",
    "    LogParabolaSpectralModel,\n",
    "    GaussianSpatialModel,\n",
    "    DiskSpatialModel,\n",
    "    PowerLawNormSpectralModel,\n",
    "    Models,\n",
    "    SpatialModel,\n",
    "    FoVBackgroundModel,\n",
    ")\n",
    "from regions import CircleSkyRegion\n",
    "\n",
    "import sys\n",
    "\n",
    "sys.path.append(\n",
    "    \"/home/hpc/caph/mppi045h/3D_analysis/N_parameters_in_L/syserror_3d_bkgmodel/4-Fitting_nuisance_and_model_parameters\"\n",
    ")\n",
    "from my_dataset_maps_19 import MapDatasetNuisance\n",
    "from  my_fit_19 import Fit"
   ]
  },
  {
   "cell_type": "code",
   "execution_count": 2,
   "id": "2a285aed",
   "metadata": {},
   "outputs": [],
   "source": [
    "source = 'Crab' #Crab 'GC'"
   ]
  },
  {
   "cell_type": "code",
   "execution_count": 3,
   "id": "758172f0",
   "metadata": {},
   "outputs": [],
   "source": [
    "dataset_standard = MapDataset.read(f'{source}/stacked.fits')\n",
    "\n",
    "downsampling_factor = 100\n",
    "# read the real sys amplitude here ... \n",
    "sysamplitude = abs(np.loadtxt(f'{source}/sysamplitude.txt'))/100 # this is because the sys is now in units of % of bkg\n",
    "\n",
    "with open(f'{source}/standard_model.yml', 'r') as file:\n",
    "    standard_model = yaml.full_load(file)\n",
    "models = Models.from_dict(standard_model)\n",
    "# gets somehow read into as an int which causes problems when printing with precison\n",
    "models.parameters['reference'].error = float(models.parameters['reference'].error)\n",
    "\n",
    "with open(f'{source}/standard_bgmodel.yml', 'r') as file:\n",
    "    standard_bg_model = yaml.full_load(file)\n",
    "\n",
    "bkg_model = FoVBackgroundModel(dataset_name = dataset_standard.name)\n",
    "\n",
    "models.append(bkg_model)\n",
    "dataset_standard.models =models"
   ]
  },
  {
   "cell_type": "markdown",
   "id": "2967b2f1",
   "metadata": {},
   "source": [
    "## Import the MapDatasetNuisance"
   ]
  },
  {
   "cell_type": "code",
   "execution_count": 6,
   "id": "e183624c",
   "metadata": {},
   "outputs": [
    {
     "name": "stdout",
     "output_type": "stream",
     "text": [
      "Models\n",
      "\n",
      "Component 0: SkyModel\n",
      "\n",
      "  Name                      : NGC253\n",
      "  Datasets names            : None\n",
      "  Spectral model type       : PowerLawSpectralModel\n",
      "  Spatial  model type       : PointSpatialModel\n",
      "  Temporal model type       : \n",
      "  Parameters:\n",
      "    index                   :      2.564   +/-    0.02             \n",
      "    amplitude               :   1.50e-13   +/- 2.7e-15 1 / (cm2 s TeV)\n",
      "    reference    (frozen)   :      1.000       TeV         \n",
      "    lon_0                   :     11.891   +/-    0.19 deg         \n",
      "    lat_0                   :    -25.306   +/-    0.17 deg         \n",
      "\n",
      "Component 1: FoVBackgroundModel\n",
      "\n",
      "  Name                      : a9CLKX8Y-bkg\n",
      "  Datasets names            : ['a9CLKX8Y']\n",
      "  Spectral model type       : PowerLawNormSpectralModel\n",
      "  Parameters:\n",
      "    norm                    :      0.968   +/-    0.02             \n",
      "    tilt         (frozen)   :     -0.023                   \n",
      "    reference    (frozen)   :      1.000       TeV         \n",
      "\n",
      "\n",
      "max nui par: 0.12237805311985216\n",
      "MapDatasetNuisance\n",
      "------------------\n",
      "\n",
      "  Name                            : GQcRkpwP \n",
      "\n",
      "  Total counts                    : 351832 \n",
      "  Total background counts         : 367072.25\n",
      "  Total excess counts             : -15240.25\n",
      "\n",
      "  Predicted counts                : 351834.37\n",
      "  Predicted background counts     : 351508.57\n",
      "  Predicted excess counts         : 325.80\n",
      "\n",
      "  Exposure min                    : 3.07e+05 m2 s\n",
      "  Exposure max                    : 1.28e+11 m2 s\n",
      "\n",
      "  Number of total bins            : 60000 \n",
      "  Number of fit bins              : 50000 \n",
      "\n",
      "  Fit statistic type              : cash\n",
      "  Fit statistic value (-2 log(L)) : -1488569.09\n",
      "\n",
      "  Number of models                : 2 \n",
      "  Number of parameters            : 8\n",
      "  Number of free parameters       : 6\n",
      "\n",
      "  Component 0: SkyModel\n",
      "  \n",
      "    Name                      : NGC253\n",
      "    Datasets names            : None\n",
      "    Spectral model type       : PowerLawSpectralModel\n",
      "    Spatial  model type       : PointSpatialModel\n",
      "    Temporal model type       : \n",
      "    Parameters:\n",
      "      index                   :      2.564   +/-    0.02             \n",
      "      amplitude               :   1.50e-13   +/- 2.7e-15 1 / (cm2 s TeV)\n",
      "      reference    (frozen)   :      1.000       TeV         \n",
      "      lon_0                   :     11.891   +/-    0.19 deg         \n",
      "      lat_0                   :    -25.306   +/-    0.17 deg         \n",
      "  \n",
      "  Component 1: FoVBackgroundModel\n",
      "  \n",
      "    Name                      : GQcRkpwP-bkg\n",
      "    Datasets names            : ['GQcRkpwP']\n",
      "    Spectral model type       : PowerLawNormSpectralModel\n",
      "    Parameters:\n",
      "      norm                    :      0.968   +/-    0.02             \n",
      "      tilt                    :     -0.023   +/-    0.03             \n",
      "      reference    (frozen)   :      1.000       TeV         \n",
      "  \n",
      "    Number of Nuisance parameters   : 50\n",
      "  Number of free Nuisance parameters: 50\n",
      "\n",
      "\n"
     ]
    }
   ],
   "source": [
    "import yaml\n",
    "# reading the MapDatasetNuisance\n",
    "outputfile = source\n",
    "dataset_N = MapDatasetNuisance.read(outputfile+'/nui_dataset.fits')\n",
    "with open(outputfile+'/nui_model.yml', 'r') as file:\n",
    "    nui_model = yaml.full_load(file)\n",
    "models = Models.from_dict(nui_model)\n",
    "# gets somehow read into as an int which causes problems when printing with precison\n",
    "models.parameters['reference'].error = float(models.parameters['reference'].error)\n",
    "\n",
    "print(models)\n",
    "\n",
    "with open(outputfile+'/nui_bgmodel.yml', 'r') as file:\n",
    "    nui_bg_model = yaml.full_load(file)\n",
    "\n",
    "bkg_model = FoVBackgroundModel(dataset_name = dataset_N.name, )\n",
    "\n",
    "models.append(bkg_model)\n",
    "dataset_N.models =models\n",
    "dataset_N.background_model.parameters['tilt'].value = nui_bg_model['spectral']['parameters'][1]['value']\n",
    "dataset_N.background_model.parameters['norm'].value = nui_bg_model['spectral']['parameters'][0]['value']\n",
    "dataset_N.background_model.parameters['tilt'].frozen = False\n",
    "dataset_N.background_model.parameters['tilt'].error = nui_bg_model['spectral']['parameters'][1]['error']\n",
    "dataset_N.background_model.parameters['norm'].error = nui_bg_model['spectral']['parameters'][0]['error']\n",
    "dataset_N.background_model.parameters['reference'].error = float(0.0)\n",
    "\n",
    "with open(outputfile+'/nui_par.yml', ) as file:\n",
    "    nui_par = yaml.full_load(file)\n",
    "N_parameters = Parameters.from_dict(nui_par)\n",
    "dataset_N.N_parameters =N_parameters\n",
    "print(\"max nui par:\", N_parameters.value.max())\n",
    "print(dataset_N)"
   ]
  },
  {
   "cell_type": "markdown",
   "id": "a412b73b",
   "metadata": {},
   "source": [
    "## Comparison to Standard Analysis"
   ]
  },
  {
   "cell_type": "markdown",
   "id": "0013c887",
   "metadata": {},
   "source": [
    "The spectral residual points show again how especially the first two energybins are not fitted well"
   ]
  },
  {
   "cell_type": "code",
   "execution_count": 7,
   "id": "afebcd42",
   "metadata": {
    "execution": {
     "iopub.execute_input": "2022-03-17T11:25:08.852705Z",
     "iopub.status.busy": "2022-03-17T11:25:08.852543Z",
     "iopub.status.idle": "2022-03-17T11:25:09.419797Z",
     "shell.execute_reply": "2022-03-17T11:25:09.418969Z"
    }
   },
   "outputs": [
    {
     "name": "stderr",
     "output_type": "stream",
     "text": [
      "/home/hpc/caph/mppi045h/anaconda3/envs/gammapy-0.19/lib/python3.9/site-packages/astropy/visualization/wcsaxes/core.py:211: MatplotlibDeprecationWarning: Passing parameters norm and vmin/vmax simultaneously is deprecated since 3.3 and will become an error two minor releases later. Please pass vmin/vmax directly to the norm when creating it.\n",
      "  return super().imshow(X, *args, origin=origin, **kwargs)\n"
     ]
    },
    {
     "data": {
      "image/png": "[encoded data removed]",
      "text/plain": [
       "<Figure size 864x288 with 3 Axes>"
      ]
     },
     "metadata": {
      "needs_background": "light"
     },
     "output_type": "display_data"
    }
   ],
   "source": [
    "kwargs_spectral = dict()\n",
    "kwargs_spectral[\"region\"] = CircleSkyRegion(\n",
    "    dataset_standard.geoms[\"geom\"].center_skydir, radius=3 * u.deg\n",
    ")\n",
    "kwargs_spectral[\"method\"] = \"diff/sqrt(model)\"\n",
    "dataset_standard.plot_residuals(kwargs_spectral=kwargs_spectral);"
   ]
  },
  {
   "cell_type": "markdown",
   "id": "cf8b09cf",
   "metadata": {},
   "source": [
    "After including the nuisance parameters the model description is much better in the first two energy bins. This indicates that the method worked and has improved out analysis."
   ]
  },
  {
   "cell_type": "code",
   "execution_count": 8,
   "id": "467e0022",
   "metadata": {
    "execution": {
     "iopub.execute_input": "2022-03-17T11:25:09.424048Z",
     "iopub.status.busy": "2022-03-17T11:25:09.423888Z",
     "iopub.status.idle": "2022-03-17T11:25:09.995218Z",
     "shell.execute_reply": "2022-03-17T11:25:09.994461Z"
    }
   },
   "outputs": [
    {
     "name": "stderr",
     "output_type": "stream",
     "text": [
      "/home/hpc/caph/mppi045h/anaconda3/envs/gammapy-0.19/lib/python3.9/site-packages/astropy/visualization/wcsaxes/core.py:211: MatplotlibDeprecationWarning: Passing parameters norm and vmin/vmax simultaneously is deprecated since 3.3 and will become an error two minor releases later. Please pass vmin/vmax directly to the norm when creating it.\n",
      "  return super().imshow(X, *args, origin=origin, **kwargs)\n"
     ]
    },
    {
     "data": {
      "image/png": "[encoded data removed]",
      "text/plain": [
       "<Figure size 864x432 with 4 Axes>"
      ]
     },
     "metadata": {
      "needs_background": "light"
     },
     "output_type": "display_data"
    }
   ],
   "source": [
    "res_N = (\n",
    "    dataset_N.residuals(\"diff/sqrt(model)\")\n",
    "    .slice_by_idx(dict(energy=slice(4, 6)))\n",
    "    .smooth(0.1 * u.deg)\n",
    ")\n",
    "vmax = np.max(np.abs(res_standard.data))\n",
    "res_N.plot_grid(add_cbar=1, vmax=vmax, vmin=-vmax, cmap=\"coolwarm\");"
   ]
  },
  {
   "cell_type": "code",
   "execution_count": 9,
   "id": "8cdb5f16",
   "metadata": {
    "execution": {
     "iopub.execute_input": "2022-03-17T11:25:10.000090Z",
     "iopub.status.busy": "2022-03-17T11:25:09.999927Z",
     "iopub.status.idle": "2022-03-17T11:25:10.616068Z",
     "shell.execute_reply": "2022-03-17T11:25:10.615257Z"
    }
   },
   "outputs": [
    {
     "name": "stderr",
     "output_type": "stream",
     "text": [
      "/home/hpc/caph/mppi045h/anaconda3/envs/gammapy-0.19/lib/python3.9/site-packages/astropy/visualization/wcsaxes/core.py:211: MatplotlibDeprecationWarning: Passing parameters norm and vmin/vmax simultaneously is deprecated since 3.3 and will become an error two minor releases later. Please pass vmin/vmax directly to the norm when creating it.\n",
      "  return super().imshow(X, *args, origin=origin, **kwargs)\n"
     ]
    },
    {
     "data": {
      "image/png": "[encoded data removed]",
      "text/plain": [
       "<Figure size 864x288 with 3 Axes>"
      ]
     },
     "metadata": {
      "needs_background": "light"
     },
     "output_type": "display_data"
    }
   ],
   "source": [
    "dataset_N.plot_residuals(kwargs_spectral=kwargs_spectral);"
   ]
  },
  {
   "cell_type": "markdown",
   "id": "b30979f2",
   "metadata": {},
   "source": [
    "Her a comparison of the distribution of the significance maps in the first two energy bins is shown. With the nuisance parameters the mean of the distribution $\\mu$ got closer to zero and the standard deviation $\\sigma$ is closer to the expected $1$."
   ]
  },
  {
   "cell_type": "code",
   "execution_count": 10,
   "id": "4db7f1b6",
   "metadata": {
    "execution": {
     "iopub.execute_input": "2022-03-17T11:25:10.620574Z",
     "iopub.status.busy": "2022-03-17T11:25:10.620413Z",
     "iopub.status.idle": "2022-03-17T11:25:11.294345Z",
     "shell.execute_reply": "2022-03-17T11:25:11.293530Z"
    }
   },
   "outputs": [
    {
     "data": {
      "image/png": "[encoded data removed]",
      "text/plain": [
       "<Figure size 432x288 with 1 Axes>"
      ]
     },
     "metadata": {
      "needs_background": "light"
     },
     "output_type": "display_data"
    }
   ],
   "source": [
    "i_start, i_end = 4,6\n",
    "res_standard = (\n",
    "    dataset_standard.residuals(\"diff/sqrt(model)\")\n",
    "    .slice_by_idx(dict(energy=slice(i_start, i_end)))\n",
    "    .data.flatten()\n",
    ")\n",
    "res_N = (\n",
    "    dataset_N.residuals(\"diff/sqrt(model)\")\n",
    "    .slice_by_idx(dict(energy=slice(i_start, i_end)))\n",
    "    .data.flatten()\n",
    ")\n",
    "\n",
    "_, bins, _ = plt.hist(\n",
    "    res_standard,\n",
    "    bins=50,\n",
    "    alpha=0.4,\n",
    "    label=\"Standard: \\n$\\mu$ = {:.3} \\n$\\sigma$ = {:.3}\".format(\n",
    "        np.mean(res_standard), np.std(res_standard)\n",
    "    ),\n",
    ")\n",
    "plt.hist(\n",
    "    res_N,\n",
    "    bins=bins,\n",
    "    alpha=0.4,\n",
    "    label=\"Nuisance: \\n$\\mu$ = {:.3} \\n$\\sigma$ = {:.3}\".format(\n",
    "        np.mean(res_N), np.std(res_N)\n",
    "    ),\n",
    ")\n",
    "plt.yscale(\"log\")\n",
    "plt.legend()\n",
    "plt.xlabel(\"Significance\")\n",
    "plt.ylabel(\"Amount\");"
   ]
  },
  {
   "cell_type": "markdown",
   "id": "435154ea",
   "metadata": {},
   "source": [
    "Due to the larger parameter space, the error bars of the parameters with the nuisance parameters are larger than from the standard analysis."
   ]
  },
  {
   "cell_type": "code",
   "execution_count": 11,
   "id": "9572dab8",
   "metadata": {},
   "outputs": [
    {
     "data": {
      "text/html": [
       "<div><i>Table length=8</i>\n",
       "<table id=\"table140613820113296\" class=\"table-striped table-bordered table-condensed\">\n",
       "<thead><tr><th>type</th><th>name</th><th>value</th><th>unit</th><th>error</th><th>min</th><th>max</th><th>frozen</th><th>link</th></tr></thead>\n",
       "<thead><tr><th>str8</th><th>str9</th><th>float64</th><th>str14</th><th>float64</th><th>float64</th><th>float64</th><th>bool</th><th>str1</th></tr></thead>\n",
       "<tr><td>spectral</td><td>index</td><td>2.5638e+00</td><td></td><td>1.893e-02</td><td>nan</td><td>nan</td><td>False</td><td></td></tr>\n",
       "<tr><td>spectral</td><td>amplitude</td><td>1.4995e-13</td><td>cm-2 s-1 TeV-1</td><td>2.703e-15</td><td>nan</td><td>nan</td><td>False</td><td></td></tr>\n",
       "<tr><td>spectral</td><td>reference</td><td>1.0000e+00</td><td>TeV</td><td>0.000e+00</td><td>nan</td><td>nan</td><td>True</td><td></td></tr>\n",
       "<tr><td>spatial</td><td>lon_0</td><td>1.1891e+01</td><td>deg</td><td>1.878e-01</td><td>nan</td><td>nan</td><td>False</td><td></td></tr>\n",
       "<tr><td>spatial</td><td>lat_0</td><td>-2.5306e+01</td><td>deg</td><td>1.699e-01</td><td>-9.000e+01</td><td>9.000e+01</td><td>False</td><td></td></tr>\n",
       "<tr><td>spectral</td><td>norm</td><td>9.6845e-01</td><td></td><td>1.903e-02</td><td>nan</td><td>nan</td><td>False</td><td></td></tr>\n",
       "<tr><td>spectral</td><td>tilt</td><td>-2.3124e-02</td><td></td><td>2.664e-02</td><td>nan</td><td>nan</td><td>False</td><td></td></tr>\n",
       "<tr><td>spectral</td><td>reference</td><td>1.0000e+00</td><td>TeV</td><td>0.000e+00</td><td>nan</td><td>nan</td><td>True</td><td></td></tr>\n",
       "</table></div>"
      ],
      "text/plain": [
       "<Table length=8>\n",
       "  type      name      value         unit        error      min        max    frozen link\n",
       "  str8      str9     float64       str14       float64   float64    float64   bool  str1\n",
       "-------- --------- ----------- -------------- --------- ---------- --------- ------ ----\n",
       "spectral     index  2.5638e+00                1.893e-02        nan       nan  False     \n",
       "spectral amplitude  1.4995e-13 cm-2 s-1 TeV-1 2.703e-15        nan       nan  False     \n",
       "spectral reference  1.0000e+00            TeV 0.000e+00        nan       nan   True     \n",
       " spatial     lon_0  1.1891e+01            deg 1.878e-01        nan       nan  False     \n",
       " spatial     lat_0 -2.5306e+01            deg 1.699e-01 -9.000e+01 9.000e+01  False     \n",
       "spectral      norm  9.6845e-01                1.903e-02        nan       nan  False     \n",
       "spectral      tilt -2.3124e-02                2.664e-02        nan       nan  False     \n",
       "spectral reference  1.0000e+00            TeV 0.000e+00        nan       nan   True     "
      ]
     },
     "execution_count": 11,
     "metadata": {},
     "output_type": "execute_result"
    }
   ],
   "source": [
    "dataset_N.models.parameters.to_table()"
   ]
  },
  {
   "cell_type": "code",
   "execution_count": 12,
   "id": "d304a892",
   "metadata": {},
   "outputs": [
    {
     "name": "stdout",
     "output_type": "stream",
     "text": [
      " with nuisance\n",
      "(without nuisance)\n",
      "\n",
      "==================================================\n",
      "index index\n",
      "--------------------------------------------------\n",
      " 2.56 pm 0.0189\n",
      "(2.59 pm 0.173)\n",
      "\n",
      "==================================================\n",
      "amplitude amplitude\n",
      "--------------------------------------------------\n",
      " 1.5e-13 pm 2.7e-15\n",
      "(1.51e-13 pm 2.4e-14)\n",
      "\n",
      "==================================================\n",
      "reference reference\n",
      "--------------------------------------------------\n",
      " 1.0 pm 0.0\n",
      "(1.0 pm 0.0)\n",
      "\n",
      "==================================================\n",
      "lon_0 lon_0\n",
      "--------------------------------------------------\n",
      " 11.9 pm 0.188\n",
      "(11.9 pm 0.0113)\n",
      "\n",
      "==================================================\n",
      "lat_0 lat_0\n",
      "--------------------------------------------------\n",
      " -25.3 pm 0.17\n",
      "(-25.3 pm 0.0106)\n",
      "\n",
      "==================================================\n",
      "norm norm\n",
      "--------------------------------------------------\n",
      " 0.968 pm 0.019\n",
      "(0.972 pm 0.00193)\n",
      "\n",
      "==================================================\n",
      "tilt tilt\n",
      "--------------------------------------------------\n",
      " -0.0231 pm 0.0266\n",
      "(-0.0361 pm 0.00259)\n",
      "\n",
      "==================================================\n",
      "reference reference\n",
      "--------------------------------------------------\n",
      " 1.0 pm 0.0\n",
      "(1.0 pm 0.0)\n"
     ]
    }
   ],
   "source": [
    "print(\" with nuisance\")\n",
    "print(\"(without nuisance)\")\n",
    "for p_N, p_stand in zip(dataset_N.models.parameters,dataset_standard.models.parameters ):\n",
    "    print()\n",
    "    print('='*50)\n",
    "    print(p_N.name, p_stand.name)\n",
    "    print('-'*50)\n",
    "    print(' {:.3} pm {:.3}'.format(p_N.value, p_N.error) )    \n",
    "    print('({:.3} pm {:.3})'.format(p_stand.value, p_stand.error) )\n"
   ]
  },
  {
   "cell_type": "markdown",
   "id": "5cbb6909",
   "metadata": {},
   "source": [
    "## Likelihood Scan"
   ]
  },
  {
   "cell_type": "code",
   "execution_count": 13,
   "id": "5c4bb5d3",
   "metadata": {},
   "outputs": [],
   "source": [
    "fit_N = Fit(store_trace=False)\n",
    "#result_N = fit_N.run([dataset_N])"
   ]
  },
  {
   "cell_type": "code",
   "execution_count": null,
   "id": "03cfaadb",
   "metadata": {
    "scrolled": true
   },
   "outputs": [
    {
     "name": "stdout",
     "output_type": "stream",
     "text": [
      "<ValueView par_000_index=2.5895470610641205 par_001_lon_0=1.1891002622663838 par_002_lat_0=-2.530702881182409 par_003_norm=9.718320039782242 par_004_tilt=-3.6065096965928802>\n",
      "<ValueView par_000_index=2.589736363768552 par_001_lon_0=1.1890966638042266 par_002_lat_0=-2.530692788854466 par_003_norm=9.718302778244558 par_004_tilt=-3.6075155103797822>\n",
      "<ValueView par_000_index=2.5898617516681792 par_001_lon_0=1.1890959052440502 par_002_lat_0=-2.530681386970843 par_003_norm=9.718278886815767 par_004_tilt=-3.607935197557758>\n",
      "<ValueView par_000_index=2.5899294432215307 par_001_lon_0=1.189096084766818 par_002_lat_0=-2.53066849990613 par_003_norm=9.718232299346012 par_004_tilt=-3.6081711933984253>\n",
      "<ValueView par_000_index=2.589952752299143 par_001_lon_0=1.1890967217883561 par_002_lat_0=-2.530655678079174 par_003_norm=9.718174497479911 par_004_tilt=-3.6081974299565642>\n",
      "<ValueView par_000_index=2.589952163586238 par_001_lon_0=1.189097448149452 par_002_lat_0=-2.530642539290284 par_003_norm=9.718104485142135 par_004_tilt=-3.608099262147031>\n",
      "<ValueView par_000_index=2.5899357324183447 par_001_lon_0=1.1890981272141739 par_002_lat_0=-2.5306310819593665 par_003_norm=9.718036649075811 par_004_tilt=-3.6079099950065556>\n",
      "<ValueView par_000_index=2.589922875894598 par_001_lon_0=1.189098522311385 par_002_lat_0=-2.5306204723637853 par_003_norm=9.717969713246095 par_004_tilt=-3.607745413118456>\n",
      "<ValueView par_000_index=2.589910769778977 par_001_lon_0=1.1890988129591602 par_002_lat_0=-2.530609423301142 par_003_norm=9.717899805454588 par_004_tilt=-3.6075773576210084>\n",
      "<ValueView par_000_index=2.589887966217265 par_001_lon_0=1.1890991646902984 par_002_lat_0=-2.5305978275369303 par_003_norm=9.717825246003995 par_004_tilt=-3.6073774833292354>\n",
      "<ValueView par_000_index=2.561050513743163 par_001_lon_0=1.1890960962377572 par_002_lat_0=-2.530682426105401 par_003_norm=9.684758717344184 par_004_tilt=-2.3136700446206384 par_005_db0=-3.849187081602694 par_006_db1=-5.325863805475526 par_007_db2=-1.1128634981479009 par_008_db3=-8.889402730859597 par_009_db4=-8.757320228315143 par_010_db5=-8.927405441775578 par_011_db6=-7.0112233739637215 par_012_db7=-6.329834773580802 par_013_db8=-6.70711345658285 par_014_db9=-4.260564165647884 par_015_db10=-6.37808887292265 par_016_db11=-6.995044841053016 par_017_db12=-6.536999856267406 par_018_db13=-4.612602545308181 par_019_db14=-7.41262599361731 par_020_db15=-5.14060911705605 par_021_db16=-5.806125138778187 par_022_db17=-3.6009600437001983 par_023_db18=-4.244872479259487 par_024_db19=-5.623632313728204 par_025_db20=-2.54920693809608 par_026_db21=-4.9840964362497475 par_027_db22=-5.238050806939818 par_028_db23=-4.829344994514168 par_029_db24=-2.774884948399185 par_030_db25=8.162531714294115 par_031_db26=5.982468110872542 par_032_db27=4.7904015007341165 par_033_db28=3.982106445320473 par_034_db29=3.8076441071045095 par_035_db30=6.86379477754503 par_036_db31=7.597616524688225 par_037_db32=4.998668185433655 par_038_db33=5.652882797486388 par_039_db34=6.154027239079245 par_040_db35=5.417591404886983 par_041_db36=6.233021780582369 par_042_db37=7.252863771821332 par_043_db38=7.120843143816727 par_044_db39=6.89246320732047 par_045_db40=5.938990041918194 par_046_db41=4.679356788028906 par_047_db42=9.621272630743132 par_048_db43=9.559716777901022 par_049_db44=7.030874344691677 par_050_db45=4.739593190394331 par_051_db46=5.349379268723705 par_052_db47=6.315342242361547 par_053_db48=3.4397584367724443 par_054_db49=1.223753031871717>\n"
     ]
    }
   ],
   "source": [
    "%%time \n",
    "parameter_standard = dataset_standard.models[0].parameters['amplitude']\n",
    "parameter_N = dataset_N.models[0].parameters['amplitude']\n",
    "parameter_N_frozen = dataset_N.models[0].parameters['amplitude']\n",
    "\n",
    "\n",
    "parameter_standard.scan_values = np.linspace(\n",
    "    parameter_standard.value-2*parameter_N.error,\n",
    "    parameter_standard.value+2*parameter_N.error,\n",
    "    10 )\n",
    "f_standard = fit_standarad.stat_profile(\n",
    "                    datasets =  [dataset_standard],\n",
    "                    parameter=  parameter_standard, \n",
    "                    reoptimize = True ) \n",
    "\n",
    "parameter_N.scan_values = np.linspace(\n",
    "    parameter_N.value-2*parameter_N.error,\n",
    "    parameter_N.value+2*parameter_N.error,\n",
    "    3 )\n",
    "f_N = fit_N.stat_profile(\n",
    "                    datasets =  [dataset_N],\n",
    "                    parameter=  parameter_N, \n",
    "                    reoptimize = True ) \n",
    "parameter_N_frozen.scan_values = np.linspace(\n",
    "    parameter_N.value-2*parameter_N.error,\n",
    "    parameter_N.value+2*parameter_N.error,\n",
    "    10 )\n",
    "f_N_frozen = fit_N.stat_profile(\n",
    "                    datasets =  [dataset_N],\n",
    "                    parameter=  parameter_N_frozen, \n",
    "                    reoptimize = False ) "
   ]
  },
  {
   "cell_type": "code",
   "execution_count": null,
   "id": "8f487fe6",
   "metadata": {},
   "outputs": [],
   "source": [
    "f_standard"
   ]
  },
  {
   "cell_type": "code",
   "execution_count": null,
   "id": "62dffe3b",
   "metadata": {},
   "outputs": [],
   "source": [
    "fig = plt.figure()\n",
    "ax = plt.gca()\n",
    "stat_standard =  f_standard['stat_scan'] -  min(f_standard['stat_scan'])\n",
    "stat_N =  f_N['stat_scan'] -  min(f_N['stat_scan'])\n",
    "stat_N_frozen =  f_N_frozen['stat_scan'] -  min(f_N_frozen['stat_scan'])\n",
    "\n",
    "plt.plot(f_standard['amplitude_scan'],stat_standard, label = \"Standard Analysus\", \n",
    "         color = 'orange' )\n",
    "plt.plot(f_N['amplitude_scan'], stat_N, label = \"With Nuisance Parameters\",\n",
    "        color = 'green')\n",
    "plt.plot(f_N_frozen['amplitude_scan'], stat_N_frozen, label = \"With Nuisance Parameters frozen\",\n",
    "        color = 'blue')\n",
    "\n",
    "ylim = ax.get_ylim()\n",
    "plt.vlines(parameter_standard.value, ylim[0], ylim[1],\n",
    "          color = 'orange')\n",
    "plt.vlines(parameter_standard.value +parameter_standard.error , ylim[0], ylim[1], \n",
    "           linestyle=':',\n",
    "          color = 'orange')\n",
    "plt.vlines(parameter_standard.value -parameter_standard.error , ylim[0], ylim[1], \n",
    "           linestyle=':',\n",
    "          color = 'orange')\n",
    "\n",
    "plt.vlines(parameter_N.value, ylim[0], ylim[1],\n",
    "          color = 'green')\n",
    "plt.vlines(parameter_N.value +parameter_N.error , ylim[0], ylim[1], \n",
    "           linestyle=':',\n",
    "          color = 'green')\n",
    "plt.vlines(parameter_N.value -parameter_N.error , ylim[0], ylim[1], \n",
    "           linestyle=':',\n",
    "          color = 'green')\n",
    "\n",
    "plt.vlines(parameter_N.value, ylim[0], ylim[1],\n",
    "          color = 'green')\n",
    "plt.vlines(parameter_N.value +parameter_N.error , ylim[0], ylim[1], \n",
    "           linestyle=':',\n",
    "          color = 'green')\n",
    "plt.vlines(parameter_N.value -parameter_N.error , ylim[0], ylim[1], \n",
    "           linestyle=':',\n",
    "          color = 'green')\n",
    "\n",
    "plt.legend()"
   ]
  },
  {
   "cell_type": "markdown",
   "id": "0f15ba81",
   "metadata": {},
   "source": [
    "## Fluxpoints of the Standard Analysis"
   ]
  },
  {
   "cell_type": "code",
   "execution_count": null,
   "id": "6753ea3f",
   "metadata": {},
   "outputs": [],
   "source": [
    "fluxpoint_bins = dataset_standard.geoms['geom'].axes[0].edges[4:7].value"
   ]
  },
  {
   "cell_type": "code",
   "execution_count": null,
   "id": "11537a64",
   "metadata": {},
   "outputs": [],
   "source": [
    "from gammapy.estimators import FluxPointsEstimator\n",
    "from my_estimator_points_sed_19 import My_FluxPointsEstimator\n",
    "from my_estimator_points_core_19 import My_FluxPoints"
   ]
  },
  {
   "cell_type": "code",
   "execution_count": null,
   "id": "e6e916e4",
   "metadata": {},
   "outputs": [],
   "source": [
    "fluxpointsestimator_standard = FluxPointsEstimator(\n",
    "        energy_edges=fluxpoint_bins * u.TeV ,\n",
    "        source=0,\n",
    "        norm_min=0.2,\n",
    "        norm_max=5,\n",
    "        norm_n_values=11,\n",
    "        norm_values=None,\n",
    "        n_sigma=1,\n",
    "        n_sigma_ul=2,\n",
    "        reoptimize=False,\n",
    "        selection_optional=[\"errn-errp\", \"ul\",\"scan\"],\n",
    "    )\n",
    "\n",
    "fluxpoints_standard = fluxpointsestimator_standard.run(dataset_standard)"
   ]
  },
  {
   "cell_type": "code",
   "execution_count": null,
   "id": "9893ced8",
   "metadata": {},
   "outputs": [],
   "source": [
    "fluxpoints_standard.to_table()"
   ]
  },
  {
   "cell_type": "code",
   "execution_count": null,
   "id": "5102a2be",
   "metadata": {},
   "outputs": [],
   "source": [
    "from gammapy.datasets import FluxPointsDataset\n",
    "fluxpoints_standard.is_ul = fluxpoints_standard.ts < 4\n",
    "#fluxpoints_standard.write(dataset_name_folder + 'Standard_flux_'+analysis_folder+ '.fits', overwrite= True)\n",
    "flux_points_dataset_standard = FluxPointsDataset(data=fluxpoints_standard,\n",
    "                                               models=dataset_standard.models[0])"
   ]
  },
  {
   "cell_type": "code",
   "execution_count": null,
   "id": "c2d0b4d2",
   "metadata": {},
   "outputs": [],
   "source": [
    "#ax_spectrum, ax_residuals =\n",
    "flux_points_dataset_standard.plot_fit()"
   ]
  },
  {
   "cell_type": "code",
   "execution_count": null,
   "id": "70557fca",
   "metadata": {},
   "outputs": [],
   "source": [
    "fig  = plt.figure()\n",
    "ax = plt.gca()\n",
    "fluxpoints_standard.plot_ts_profiles()"
   ]
  },
  {
   "cell_type": "markdown",
   "id": "ccefbf75",
   "metadata": {},
   "source": [
    "## Fluxpoints of Nuisance Pseudo Dataset"
   ]
  },
  {
   "cell_type": "code",
   "execution_count": null,
   "id": "f84f728e",
   "metadata": {},
   "outputs": [],
   "source": [
    "dataset_pseudo_N = dataset_standard.copy()\n",
    "models = Models.from_dict(nui_model)\n",
    "# gets somehow read into as an int which causes problems when printing with precison\n",
    "models.parameters['reference'].error = float(models.parameters['reference'].error)\n",
    "with open(outputfile+'/nui_bgmodel.yml', 'r') as file:\n",
    "    nui_bg_model = yaml.full_load(file)\n",
    "bkg_model = FoVBackgroundModel(dataset_name = dataset_pseudo_N.name, )\n",
    "models.append(bkg_model)\n",
    "dataset_pseudo_N.models =models\n",
    "dataset_pseudo_N.background_model.parameters['tilt'].frozen = True\n",
    "dataset_pseudo_N.background_model.parameters['norm'].frozen = True\n",
    "dataset_pseudo_N.background = dataset_N.npred_background()\n"
   ]
  },
  {
   "cell_type": "code",
   "execution_count": null,
   "id": "14066abc",
   "metadata": {},
   "outputs": [],
   "source": [
    "fluxpointsestimator_pseudo_N = FluxPointsEstimator(\n",
    "        energy_edges=fluxpoint_bins * u.TeV ,\n",
    "        source=0,\n",
    "        norm_min=0.2,\n",
    "        norm_max=5,\n",
    "        norm_n_values=11,\n",
    "        norm_values=None,\n",
    "        n_sigma=1,\n",
    "        n_sigma_ul=2,\n",
    "        reoptimize=False,\n",
    "        selection_optional=[\"errn-errp\", \"ul\",\"scan\"],\n",
    "    )\n",
    "\n",
    "fluxpoints_pseudo_N = fluxpointsestimator_pseudo_N.run(dataset_pseudo_N)"
   ]
  },
  {
   "cell_type": "code",
   "execution_count": null,
   "id": "02fa3a07",
   "metadata": {},
   "outputs": [],
   "source": [
    "fluxpoints_pseudo_N.to_table()"
   ]
  },
  {
   "cell_type": "code",
   "execution_count": null,
   "id": "e756a181",
   "metadata": {},
   "outputs": [],
   "source": [
    "fluxpoints_pseudo_N.is_ul = fluxpoints_pseudo_N.ts < 4\n",
    "#fluxpoints_standard.write(dataset_name_folder + 'Standard_flux_'+analysis_folder+ '.fits', overwrite= True)\n",
    "flux_points_dataset_pseudo_N = FluxPointsDataset(data=fluxpoints_pseudo_N,\n",
    "                                               models=dataset_pseudo_N.models[0])"
   ]
  },
  {
   "cell_type": "code",
   "execution_count": null,
   "id": "17b7df43",
   "metadata": {},
   "outputs": [],
   "source": [
    "#ax_spectrum, ax_residuals =\n",
    "flux_points_dataset_pseudo_N.plot_fit()"
   ]
  },
  {
   "cell_type": "markdown",
   "id": "f65e9434",
   "metadata": {},
   "source": [
    "\n",
    "## Fluxpoints of the Dataset with Nuisance Parameters"
   ]
  },
  {
   "cell_type": "code",
   "execution_count": null,
   "id": "e918ab96",
   "metadata": {
    "scrolled": true
   },
   "outputs": [],
   "source": [
    "compute = 0\n",
    "if compute :\n",
    "    fluxpointsestimator_N_frozen = My_FluxPointsEstimator(\n",
    "            energy_edges=fluxpoint_bins * u.TeV ,\n",
    "            source=0,\n",
    "            norm_min=0.2,\n",
    "            norm_max=5,\n",
    "            norm_n_values=11,\n",
    "            norm_values=None,\n",
    "            n_sigma=1,\n",
    "            n_sigma_ul=2,\n",
    "            reoptimize=False,\n",
    "            selection_optional=[\"errn-errp\",\"ul\",  \"scan\"],\n",
    "        )\n",
    "\n",
    "    fluxpoints_N_frozen = fluxpointsestimator_N_frozen.run([dataset_N])\n",
    "    fluxpoints_N_frozen.write(outputfile+'/nui_fluxpoints.fits',overwrite= True )\n",
    "else:\n",
    "    fluxpoints_N_frozen = My_FluxPoints.read(outputfile+'/nui_fluxpoints_frozen.fits')\n",
    "\n",
    "\n"
   ]
  },
  {
   "cell_type": "code",
   "execution_count": null,
   "id": "5b2b5292",
   "metadata": {},
   "outputs": [],
   "source": []
  },
  {
   "cell_type": "code",
   "execution_count": null,
   "id": "8e490a76",
   "metadata": {
    "scrolled": true
   },
   "outputs": [],
   "source": [
    "compute = 0\n",
    "if compute :\n",
    "    fluxpointsestimator_N = My_FluxPointsEstimator(\n",
    "            energy_edges=fluxpoint_bins * u.TeV ,\n",
    "            source=0,\n",
    "            norm_min=0.2,\n",
    "            norm_max=5,\n",
    "            norm_n_values=11,\n",
    "            norm_values=None,\n",
    "            n_sigma=1,\n",
    "            n_sigma_ul=2,\n",
    "            reoptimize=True,\n",
    "            selection_optional=[\"errn-errp\",\"ul\",  \"scan\"],\n",
    "        )\n",
    "\n",
    "    fluxpoints_N = fluxpointsestimator_N.run([dataset_N])\n",
    "    fluxpoints_N.write(outputfile+'/nui_fluxpoints.fits',overwrite= True )\n",
    "else:\n",
    "    fluxpoints_N = My_FluxPoints.read(outputfile+'/nui_fluxpoints.fits')\n",
    "\n"
   ]
  },
  {
   "cell_type": "code",
   "execution_count": null,
   "id": "3905745f",
   "metadata": {},
   "outputs": [],
   "source": [
    "fluxpoints_N.to_table()"
   ]
  },
  {
   "cell_type": "code",
   "execution_count": null,
   "id": "67bc7c6c",
   "metadata": {},
   "outputs": [],
   "source": [
    "fluxpoints_N.is_ul = fluxpoints_N.ts < 4\n",
    "\n",
    "flux_points_dataset_N = FluxPointsDataset(data=fluxpoints_N,\n",
    "                                               models=dataset_N.models[0])"
   ]
  },
  {
   "cell_type": "code",
   "execution_count": null,
   "id": "dd2c1ec2",
   "metadata": {
    "scrolled": true
   },
   "outputs": [],
   "source": [
    "ax_spectrum, ax_residuals = flux_points_dataset_N.plot_fit()"
   ]
  },
  {
   "cell_type": "code",
   "execution_count": null,
   "id": "9dc2df76",
   "metadata": {},
   "outputs": [],
   "source": [
    "fig = plt.figure(figsize = (8,9))\n",
    "\n",
    "ax_spectrum, ax_residuals = flux_points_dataset_standard.plot_fit()\n",
    "'''    kwargs_spectrum={ \n",
    "                     'label':'Standard Analyis' },\n",
    "    kwargs_residuals={'color':'blue',\n",
    "                     'label':'Standard Analyis'});'''\n",
    "\n",
    "\n",
    "\n",
    "flux_points_dataset_N.plot_fit(\n",
    "    #kwargs_spectrum={\n",
    "    #                'label':'Analyis Nuisance 2deg'},\n",
    "                               ax_spectrum = ax_spectrum, ax_residuals = ax_residuals,\n",
    "                    kwargs_residuals={'color':'green', \n",
    "                                      'label':'Analyis Nuisance'});\n",
    "ax_spectrum.legend();\n",
    "ax_residuals.legend();\n",
    "ax_residuals.set_ylim(-0.2,0.2)\n"
   ]
  },
  {
   "cell_type": "code",
   "execution_count": null,
   "id": "e3c19830",
   "metadata": {},
   "outputs": [],
   "source": [
    "fig, ax = plt.subplots(1,2, figsize = (15,7))\n",
    "for i in [0,1]:\n",
    "    e_min, e_max = fluxpoints_standard.to_table()['e_min'][i], fluxpoints_standard.to_table()['e_max'][i]\n",
    "    stat_stand = fluxpoints_standard.to_table()['stat_scan'][i] - min(fluxpoints_standard.to_table()['stat_scan'][i])\n",
    "    stat_N = fluxpoints_N.to_table()['stat_scan'][i] - min(fluxpoints_N.to_table()['stat_scan'][i])\n",
    "    stat_N_frozen = fluxpoints_N_frozen.to_table()['stat_scan'][i] - min(fluxpoints_N_frozen.to_table()['stat_scan'][i])\n",
    "\n",
    "\n",
    "    ax[i].plot(fluxpoints_standard.to_table()['norm_scan'][i],\n",
    "             stat_stand,\n",
    "             label =\"standard\",\n",
    "              color = 'orange')\n",
    "    ax[i].plot(fluxpoints_N.to_table()['norm_scan'][i],\n",
    "             stat_N, 'o',\n",
    "             label =\"nuisance\", \n",
    "              color = 'green')\n",
    "    \n",
    "    ax[i].plot(fluxpoints_N_frozen.to_table()['norm_scan'][i],\n",
    "             stat_N,\n",
    "             label =\"nuisance frozen\", \n",
    "              color = 'blue')\n",
    "    \n",
    "        \n",
    "    ax[i].vlines(fluxpoints_N.to_table()['norm'][i], ylim[0],ylim[1],  color = 'green')\n",
    "    '''ax[i].vlines(fluxpoints_N.to_table()['norm'][i]+fluxpoints_N.to_table()['norm_err'][i],\n",
    "                 ylim[0],ylim[1],linestyle=':', color = 'green',)\n",
    "    ax[i].vlines(fluxpoints_N.to_table()['norm'][i]-fluxpoints_N.to_table()['norm_errn'][i],\n",
    "                 ylim[0],ylim[1],linestyle=':', color = 'green',)'''\n",
    "    ax[i].vlines(fluxpoints_N.to_table()['norm_ul'][i],\n",
    "                 ylim[0],ylim[1],linestyle='--', color = 'green',)\n",
    "    ax[i].fill_betweenx(ylim,\n",
    "                        fluxpoints_N.to_table()['norm'][i]-fluxpoints_N.to_table()['norm_errn'][i], \n",
    "                        fluxpoints_N.to_table()['norm'][i]+fluxpoints_N.to_table()['norm_err'][i],\n",
    "                        color = 'green' , alpha = 0.3)\n",
    "    \n",
    "    ax[i].vlines(fluxpoints_N_frozen.to_table()['norm'][i], ylim[0],ylim[1], color = 'blue')\n",
    "    '''ax[i].vlines(fluxpoints_N.to_table()['norm'][i]+fluxpoints_N.to_table()['norm_err'][i],\n",
    "                 ylim[0],ylim[1],linestyle=':', color = 'green',)\n",
    "    ax[i].vlines(fluxpoints_N.to_table()['norm'][i]-fluxpoints_N.to_table()['norm_errn'][i],\n",
    "                 ylim[0],ylim[1],linestyle=':', color = 'green',)'''\n",
    "    ax[i].vlines(fluxpoints_N_frozen.to_table()['norm_ul'][i],\n",
    "                 ylim[0],ylim[1],linestyle='--', color = 'blue',)\n",
    "    ax[i].fill_betweenx(ylim,\n",
    "                        fluxpoints_N_frozen.to_table()['norm'][i]-fluxpoints_N_frozen.to_table()['norm_errn'][i], \n",
    "                        fluxpoints_N_frozen.to_table()['norm'][i]+fluxpoints_N_frozen.to_table()['norm_err'][i],\n",
    "                        color = 'blue' , alpha = 0.1)\n",
    "    ax[i].legend(); ax[i].set_title(\"Energy: [{:.1}:{:.1}] TeV\".format(e_min, e_max))\n",
    "    ax[i].set_ylim(-5,10)"
   ]
  },
  {
   "cell_type": "code",
   "execution_count": null,
   "id": "baadb911",
   "metadata": {},
   "outputs": [],
   "source": [
    "fig, ax = plt.subplots(1,2, figsize = (15,7))\n",
    "for i in [0,1]:\n",
    "    e_min, e_max = fluxpoints_standard.to_table()['e_min'][i], fluxpoints_standard.to_table()['e_max'][i]\n",
    "    stat_stand = fluxpoints_standard.to_table()['stat_scan'][i] - min(fluxpoints_standard.to_table()['stat_scan'][i])\n",
    "    stat_N = fluxpoints_N.to_table()['stat_scan'][i] - min(fluxpoints_N.to_table()['stat_scan'][i])\n",
    "    stat_pseudo_N = fluxpoints_pseudo_N.to_table()['stat_scan'][i] - min(fluxpoints_pseudo_N.to_table()['stat_scan'][i])\n",
    "\n",
    "\n",
    "    ax[i].plot(fluxpoints_standard.to_table()['norm_scan'][i],\n",
    "             stat_stand,\n",
    "             label =\"standard\",\n",
    "              color = 'orange')\n",
    "    ax[i].plot(fluxpoints_N.to_table()['norm_scan'][i],\n",
    "             stat_N, 'o',\n",
    "             label =\"nuisance\", \n",
    "              color = 'green')\n",
    "    \n",
    "    ax[i].plot(fluxpoints_pseudo_N.to_table()['norm_scan'][i],\n",
    "             stat_N,\n",
    "             label =\"pseudo nuisance\", \n",
    "              color = 'blue')\n",
    "    \n",
    "    ylim = ax[i].get_ylim()\n",
    "    ax[i].vlines(fluxpoints_standard.to_table()['norm'][i], ylim[0],ylim[1], color = 'orange')\n",
    "    '''ax[i].vlines(fluxpoints_standard.to_table()['norm'][i]+fluxpoints_standard.to_table()['norm_errp'][i],\n",
    "                 ylim[0],ylim[1],linestyle=':', color = 'orange',)\n",
    "    ax[i].vlines(fluxpoints_standard.to_table()['norm'][i]-fluxpoints_standard.to_table()['norm_errn'][i],\n",
    "                 ylim[0],ylim[1],linestyle=':', color = 'orange',)'''\n",
    "    ax[i].vlines(fluxpoints_standard.to_table()['norm_ul'][i],\n",
    "                 ylim[0],ylim[1],linestyle='--', color = 'orange',)\n",
    "    xmin = fluxpoints_standard.to_table()['norm'][i]-fluxpoints_standard.to_table()['norm_errn'][i]\n",
    "    if np.isnan(xmin):\n",
    "        xmin = 0\n",
    "    ax[i].fill_betweenx(ylim,\n",
    "                        xmin, \n",
    "                        fluxpoints_standard.to_table()['norm'][i]+fluxpoints_standard.to_table()['norm_errp'][i],\n",
    "                        color = 'orange' , alpha = 0.3)\n",
    "    \n",
    "    ax[i].vlines(fluxpoints_N.to_table()['norm'][i], ylim[0],ylim[1],  color = 'green')\n",
    "    '''ax[i].vlines(fluxpoints_N.to_table()['norm'][i]+fluxpoints_N.to_table()['norm_err'][i],\n",
    "                 ylim[0],ylim[1],linestyle=':', color = 'green',)\n",
    "    ax[i].vlines(fluxpoints_N.to_table()['norm'][i]-fluxpoints_N.to_table()['norm_errn'][i],\n",
    "                 ylim[0],ylim[1],linestyle=':', color = 'green',)'''\n",
    "    ax[i].vlines(fluxpoints_N.to_table()['norm_ul'][i],\n",
    "                 ylim[0],ylim[1],linestyle='--', color = 'green',)\n",
    "    ax[i].fill_betweenx(ylim,\n",
    "                        fluxpoints_N.to_table()['norm'][i]-fluxpoints_N.to_table()['norm_errn'][i], \n",
    "                        fluxpoints_N.to_table()['norm'][i]+fluxpoints_N.to_table()['norm_err'][i],\n",
    "                        color = 'green' , alpha = 0.3)\n",
    "    \n",
    "    ax[i].vlines(fluxpoints_pseudo_N.to_table()['norm'][i], ylim[0],ylim[1], color = 'blue')\n",
    "    '''ax[i].vlines(fluxpoints_N.to_table()['norm'][i]+fluxpoints_N.to_table()['norm_err'][i],\n",
    "                 ylim[0],ylim[1],linestyle=':', color = 'green',)\n",
    "    ax[i].vlines(fluxpoints_N.to_table()['norm'][i]-fluxpoints_N.to_table()['norm_errn'][i],\n",
    "                 ylim[0],ylim[1],linestyle=':', color = 'green',)'''\n",
    "    ax[i].vlines(fluxpoints_pseudo_N.to_table()['norm_ul'][i],\n",
    "                 ylim[0],ylim[1],linestyle='--', color = 'blue',)\n",
    "    ax[i].fill_betweenx(ylim,\n",
    "                        fluxpoints_pseudo_N.to_table()['norm'][i]-fluxpoints_pseudo_N.to_table()['norm_errn'][i], \n",
    "                        fluxpoints_pseudo_N.to_table()['norm'][i]+fluxpoints_pseudo_N.to_table()['norm_err'][i],\n",
    "                        color = 'blue' , alpha = 0.1)\n",
    "    ax[i].legend(); ax[i].set_title(\"Energy: [{:.1}:{:.1}] TeV\".format(e_min, e_max))\n",
    "    ax[i].set_ylim(-5,10)"
   ]
  },
  {
   "cell_type": "code",
   "execution_count": null,
   "id": "e9eb1303",
   "metadata": {},
   "outputs": [],
   "source": [
    "sys.path.append('/home/hpc/caph/mppi045h/3D_analysis/')\n",
    "import upper_limit_18_02\n",
    "for i in [0,1]:\n",
    "    print('='*20)\n",
    "    e_min, e_max = fluxpoints_standard.to_table()['e_min'][i], fluxpoints_standard.to_table()['e_max'][i]\n",
    "    print(\"Energy: [{:.1}:{:.1}] TeV\".format(e_min, e_max))\n",
    "    print()\n",
    "    l_standard = dict()\n",
    "    l_standard['scale_scan'] =fluxpoints_standard.to_table()['norm_scan'][i]\n",
    "    stat_stand = fluxpoints_standard.to_table()['stat_scan'][i] - min(fluxpoints_standard.to_table()['stat_scan'][i])\n",
    "    l_standard['stat_scan'] =stat_stand\n",
    "\n",
    "    stat_N = fluxpoints_N.to_table()['stat_scan'][i] - min(fluxpoints_N.to_table()['stat_scan'][i])\n",
    "    print('-'*20)\n",
    "    print(\"Standard:\")\n",
    "    print(\"From Fluxpints:\")\n",
    "    print(\"norm: {:.3} pm {:.3} (UL: {:.3})\".format(fluxpoints_standard.to_table()['norm'][i],\n",
    "                                                   fluxpoints_standard.to_table()['norm_err'][i],\n",
    "                                                   fluxpoints_standard.to_table()['norm_ul'][i]))\n",
    "\n",
    "\n",
    "    ul = upper_limit_18_02.upper_limit(likelihood = l_standard, mass = 0 ,scale = 0)\n",
    "    trippel = ul.likelihood_upper()\n",
    "    print(\"From UL module:\")\n",
    "    print(\"norm: {:.3} pm {:.3} (UL: {:.3})\".format(trippel[0][0],\n",
    "                                                   trippel[1][0],\n",
    "                                                   trippel[2]))\n",
    "    l_N = dict()\n",
    "    l_N['scale_scan'] =fluxpoints_standard.to_table()['norm_scan'][i]\n",
    "    stat_N = fluxpoints_N.to_table()['stat_scan'][i] - min(fluxpoints_N.to_table()['stat_scan'][i])\n",
    "    l_N['stat_scan'] =stat_N\n",
    "\n",
    "    print('-'*20)\n",
    "    print(\"Nuisance:\")\n",
    "    print(\"From Fluxpints:\")\n",
    "    print(\"norm: {:.3} pm {:.3} (UL: {:.3})\".format(fluxpoints_N.to_table()['norm'][i],\n",
    "                                                   fluxpoints_N.to_table()['norm_err'][i],\n",
    "                                                   fluxpoints_N.to_table()['norm_ul'][i]))\n",
    "\n",
    "\n",
    "    ul = upper_limit_18_02.upper_limit(likelihood = l_N, mass = 0 ,scale = 0)\n",
    "    trippel = ul.likelihood_upper()\n",
    "    print(\"From UL module:\")\n",
    "    print(\"norm: {:.3} pm {:.3} (UL: {:.3})\".format(trippel[0][0],\n",
    "                                                   trippel[1][0],\n",
    "                                                   trippel[2]))\n",
    "    \n",
    "    \n",
    "    l_pseudo_N = dict()\n",
    "    l_pseudo_N['scale_scan'] =fluxpoints_standard.to_table()['norm_scan'][i]\n",
    "    stat_pseudo_N = fluxpoints_pseudo_N.to_table()['stat_scan'][i] - min(fluxpoints_pseudo_N.to_table()['stat_scan'][i])\n",
    "    l_pseudo_N['stat_scan'] =stat_pseudo_N\n",
    "\n",
    "    print('-'*20)\n",
    "    print(\" Pseudo Nuisance:\")\n",
    "    print(\"From Fluxpints:\")\n",
    "    print(\"norm: {:.3} pm {:.3} (UL: {:.3})\".format(fluxpoints_pseudo_N.to_table()['norm'][i],\n",
    "                                                   fluxpoints_pseudo_N.to_table()['norm_err'][i],\n",
    "                                                   fluxpoints_pseudo_N.to_table()['norm_ul'][i]))\n",
    "\n",
    "\n",
    "    ul = upper_limit_18_02.upper_limit(likelihood = l_pseudo_N, mass = 0 ,scale = 0)\n",
    "    trippel = ul.likelihood_upper()\n",
    "    print(\"From UL module:\")\n",
    "    print(\"norm: {:.3} pm {:.3} (UL: {:.3})\".format(trippel[0][0],\n",
    "                                                   trippel[1][0],\n",
    "                                                   trippel[2]))\n",
    "\n",
    "    print()"
   ]
  },
  {
   "cell_type": "code",
   "execution_count": null,
   "id": "4ff29e7b",
   "metadata": {},
   "outputs": [],
   "source": []
  }
 ],
 "metadata": {
  "kernelspec": {
   "display_name": "Python [conda env:gammapy-0.19]",
   "language": "python",
   "name": "conda-env-gammapy-0.19-py"
  },
  "language_info": {
   "codemirror_mode": {
    "name": "ipython",
    "version": 3
   },
   "file_extension": ".py",
   "mimetype": "text/x-python",
   "name": "python",
   "nbconvert_exporter": "python",
   "pygments_lexer": "ipython3",
   "version": "3.9.9"
  },
  "varInspector": {
   "cols": {
    "lenName": 16,
    "lenType": 16,
    "lenVar": 40
   },
   "kernels_config": {
    "python": {
     "delete_cmd_postfix": "",
     "delete_cmd_prefix": "del ",
     "library": "var_list.py",
     "varRefreshCmd": "print(var_dic_list())"
    },
    "r": {
     "delete_cmd_postfix": ") ",
     "delete_cmd_prefix": "rm(",
     "library": "var_list.r",
     "varRefreshCmd": "cat(var_dic_list()) "
    }
   },
   "types_to_exclude": [
    "module",
    "function",
    "builtin_function_or_method",
    "instance",
    "_Feature"
   ],
   "window_display": false
  }
 },
 "nbformat": 4,
 "nbformat_minor": 5
}
