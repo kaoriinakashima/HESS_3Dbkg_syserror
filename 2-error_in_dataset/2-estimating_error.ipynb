{
 "cells": [
  {
   "cell_type": "markdown",
   "id": "d58302f2",
   "metadata": {},
   "source": [
    "in this notebook, for a given runlist, the error estimation is done"
   ]
  },
  {
   "cell_type": "code",
   "execution_count": 1,
   "id": "fd09bb7d",
   "metadata": {},
   "outputs": [],
   "source": [
    "import numpy as np\n",
    "import matplotlib.pyplot as plt\n",
    "import yaml\n",
    "\n",
    "from gammapy.data import DataStore\n",
    "\n",
    "import warnings\n",
    "warnings.filterwarnings('ignore')"
   ]
  },
  {
   "cell_type": "markdown",
   "id": "ac6d5574",
   "metadata": {},
   "source": [
    "# ADD HERE YOUR INTEREST"
   ]
  },
  {
   "cell_type": "markdown",
   "id": "7699975c",
   "metadata": {},
   "source": [
    "If you are following this repository and you already have a source folder, check that source_flag is True and add the source name.\n",
    "\n",
    "Else, check that source_flag is False, and add the runslist for what you want to calculate the error and add the output path for it.\n",
    "\n",
    "NOTE: the outputfile will give you the systematic error from 0.1-100TeV divided into 24 bins in units of statistical std.\n",
    "if you want it in units of bkg percentage, multiply this result by 1/sqrt(bkg_i), \n",
    "where bkg_i is the number of bkg events in the entire off region (whole FoV excluded the gamma sources)"
   ]
  },
  {
   "cell_type": "code",
   "execution_count": null,
   "id": "5013e7e2",
   "metadata": {},
   "outputs": [],
   "source": [
    "source_flag= True\n",
    "\n",
    "if source_flag:\n",
    "    source='NGC253'\n",
    "    obsid_list = np.loadtxt(f'{source}/runlist.txt').astype(int)\n",
    "    output_path=source\n",
    "else:\n",
    "    obsid_list = np.loadtxt(f'{source}/runlist.txt').astype(int)\n",
    "    output_path= None"
   ]
  },
  {
   "cell_type": "code",
   "execution_count": 3,
   "id": "abad3331",
   "metadata": {},
   "outputs": [],
   "source": [
    "with open(\"../general_config.yml\", \"r\") as ymlfile:\n",
    "    cfg = yaml.load(ymlfile, Loader=yaml.FullLoader)\n",
    "conf=cfg['conf']\n",
    "repo_path=cfg['repo_path']\n",
    "N_ebins = cfg['N_ebins']\n",
    "zen_bins = cfg['zen_bins']\n",
    "\n",
    "hesseras = ['hess1', 'hess2']\n",
    "model_str = ['B', 'D', 'C']\n",
    "energy_bins = np.logspace(-1, 2, N_ebins+1)"
   ]
  },
  {
   "cell_type": "code",
   "execution_count": 4,
   "id": "c8fb6d85",
   "metadata": {},
   "outputs": [
    {
     "name": "stdout",
     "output_type": "stream",
     "text": [
      "no runs for hess2\n"
     ]
    }
   ],
   "source": [
    "# getting the zenith pointing of them\n",
    "\n",
    "error_list = []\n",
    "for hessera in hesseras:\n",
    "    basedir = f'$FITS_PROD/{hessera}/std_{conf}_fullEnclosure'\n",
    "    ds = DataStore.from_dir(basedir, f'hdu-index-bg-latest-fov-radec.fits.gz', f'obs-index-bg-latest-fov-radec.fits.gz')\n",
    "    table = ds.obs_table\n",
    "    mask = [True if obsid in obsid_list else False for obsid in table['OBS_ID']]\n",
    "    \n",
    "    if np.sum(mask) == 0:\n",
    "        print(f'no runs for {hessera}')\n",
    "    else:\n",
    "        table=table[mask]\n",
    "\n",
    "        ### opening the error estimation\n",
    "        er_est = np.ndarray((7, 3, 24))    \n",
    "        for model in range(3):\n",
    "            er_est[:, model] = np.loadtxt(f'../fixed_material/{hessera}_error_estimation_{model_str[model]}.txt')\n",
    "            \n",
    "        setting=np.ndarray((len(table), 2)) # the first parameter is for zen bin and second for muoneff\n",
    "\n",
    "        for zen_idx in range(7):\n",
    "            mask_zen1 = table['ZEN_PNT'] > zen_bins[zen_idx]\n",
    "            mask_zen2 = table['ZEN_PNT'] < zen_bins[zen_idx+1]\n",
    "            mask_zen = mask_zen1 & mask_zen2\n",
    "            setting[mask_zen, 0] = zen_idx\n",
    "\n",
    "        mask_muoneff1 = table['MUONEFF'] > 0.085\n",
    "        setting[mask_muoneff1, 1] = 0\n",
    "        mask_muoneff2 = table['MUONEFF'] < 0.065\n",
    "        setting[mask_muoneff2, 1] = 2\n",
    "        mask_muoneff3 = mask_muoneff1 + mask_muoneff2\n",
    "        setting[~mask_muoneff3, 1] = 1\n",
    "        \n",
    "        error_hessera = np.zeros((N_ebins))\n",
    "        for e_idx in range(N_ebins):\n",
    "            error2_aux = 0\n",
    "\n",
    "            for az in [0, 1]:\n",
    "                for zen in range(7):\n",
    "                    for model in range(3):\n",
    "                        m1= setting[:, 0] == zen\n",
    "                        m2 = setting[:, 1] == model\n",
    "                        m = m1 & m2\n",
    "                        N_runs = np.sum(m)\n",
    "                        if ~np.isnan(er_est[zen][model][e_idx]) and N_runs != 0:\n",
    "                            error2_aux += N_runs * (er_est[zen][model][e_idx] ** 2)\n",
    "\n",
    "            error_hessera[e_idx] = np.sqrt(error2_aux)\n",
    "        error_list.append(error_hessera)"
   ]
  },
  {
   "cell_type": "code",
   "execution_count": 5,
   "id": "1419b4b4",
   "metadata": {},
   "outputs": [
    {
     "name": "stdout",
     "output_type": "stream",
     "text": [
      "energy range:0.100-0.133, amplitude=0.0 std\n",
      "energy range:0.133-0.178, amplitude=0.0 std\n",
      "energy range:0.178-0.237, amplitude=0.0 std\n",
      "energy range:0.237-0.316, amplitude=63.598635806010975 std\n",
      "energy range:0.316-0.422, amplitude=102.42440563947609 std\n",
      "energy range:0.422-0.562, amplitude=21.25299917413296 std\n",
      "energy range:0.562-0.750, amplitude=10.493912913405342 std\n",
      "energy range:0.750-1.000, amplitude=8.206576945844663 std\n",
      "energy range:1.000-1.334, amplitude=11.800983666171156 std\n",
      "energy range:1.334-1.778, amplitude=6.492622333603591 std\n",
      "energy range:1.778-2.371, amplitude=6.511619433105871 std\n",
      "energy range:2.371-3.162, amplitude=11.017070760870213 std\n",
      "energy range:3.162-4.217, amplitude=11.146957748819958 std\n",
      "energy range:4.217-5.623, amplitude=24.12101171586439 std\n",
      "energy range:5.623-7.499, amplitude=7.634173740568378 std\n",
      "energy range:7.499-10.000, amplitude=31.63914959052322 std\n",
      "energy range:10.000-13.335, amplitude=17.23399474257794 std\n",
      "energy range:13.335-17.783, amplitude=21.022496768593196 std\n",
      "energy range:17.783-23.714, amplitude=4.614769848369193 std\n",
      "energy range:23.714-31.623, amplitude=36.77359506817088 std\n",
      "energy range:31.623-42.170, amplitude=29.54958643288791 std\n",
      "energy range:42.170-56.234, amplitude=1.6015601457809419 std\n",
      "energy range:56.234-74.989, amplitude=8.449312129618123 std\n",
      "energy range:74.989-100.000, amplitude=7.077337791980278 std\n"
     ]
    }
   ],
   "source": [
    "for i, error in enumerate(error_list):\n",
    "    if i==0:\n",
    "        error_final = error**2\n",
    "    else:\n",
    "        error_final += error**2  \n",
    "        \n",
    "for e_idx in range(N_ebins):\n",
    "    print(f'energy range:{energy_bins[e_idx]:.3f}-{energy_bins[e_idx + 1]:.3f}, amplitude={np.sqrt(error_final[e_idx])} std')\n",
    "    error_final[e_idx] = np.sqrt(error_final[e_idx])\n",
    "np.savetxt(f'{output_path}/sysamplitude.txt', error_final)"
   ]
  },
  {
   "cell_type": "code",
   "execution_count": null,
   "id": "15a82dca",
   "metadata": {},
   "outputs": [],
   "source": []
  }
 ],
 "metadata": {
  "kernelspec": {
   "display_name": "Python [conda env:gammapy-0.19]",
   "language": "python",
   "name": "conda-env-gammapy-0.19-py"
  },
  "language_info": {
   "codemirror_mode": {
    "name": "ipython",
    "version": 3
   },
   "file_extension": ".py",
   "mimetype": "text/x-python",
   "name": "python",
   "nbconvert_exporter": "python",
   "pygments_lexer": "ipython3",
   "version": "3.9.9"
  }
 },
 "nbformat": 4,
 "nbformat_minor": 5
}
