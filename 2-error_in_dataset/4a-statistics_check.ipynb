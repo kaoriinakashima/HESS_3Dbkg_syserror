{
 "cells": [
  {
   "cell_type": "code",
   "execution_count": 1,
   "id": "0bd35477",
   "metadata": {},
   "outputs": [
    {
     "name": "stdout",
     "output_type": "stream",
     "text": [
      "loaded gammapy version: 0.20 \n",
      "Supposed to be 0.20 (18-10-2022)\n"
     ]
    }
   ],
   "source": [
    "import gammapy \n",
    "print(f'loaded gammapy version: {gammapy.__version__} ' )\n",
    "print(f'Supposed to be 0.20 (18-10-2022)' )"
   ]
  },
  {
   "cell_type": "markdown",
   "id": "a689e2fb",
   "metadata": {},
   "source": [
    "In this notebook the angular size of the systematic is evaulated. Therefore, we compute the sqrt ts map of the standard anlysis and compute the 2D Fourier trafo of the first energybin. The obtained angular spectrum is compared with the one computed from a dataset consisting of statistical fluctuations only (asimov dataset). The spectrum of 1000 Poission draws of this asimov dataset are plotted and used for the standard deviation estimation of the anuglar spectrum points. "
   ]
  },
  {
   "cell_type": "code",
   "execution_count": 2,
   "id": "eb672457",
   "metadata": {},
   "outputs": [],
   "source": [
    "import matplotlib.image as mpimg\n",
    "import numpy as np\n",
    "import scipy.stats as stats\n",
    "import matplotlib.pyplot as plt\n",
    "import astropy\n",
    "from gammapy.maps import Map\n",
    "from gammapy.datasets import MapDataset\n",
    "from gammapy.modeling.models import Models, Model, SkyModel, FoVBackgroundModel\n",
    "from gammapy.estimators import ExcessMapEstimator\n",
    "from gammapy.modeling import Fit, Parameter, Parameters\n",
    "from astropy.coordinates import SkyCoord, Angle\n",
    "from regions import RectangleSkyRegion\n",
    "\n",
    "import astropy.units as u\n",
    "import yaml\n",
    "import sys\n",
    "#sys.path.append('/home/hpc/caph/mppi045h/3D_analysis/N_parameters_in_L/syserror_3d_bkgmodel/4-Fitting_nuisance_and_model_parameters')\n",
    "\n",
    "import my_dataset_maps_20\n"
   ]
  },
  {
   "cell_type": "code",
   "execution_count": 3,
   "id": "94fb3654",
   "metadata": {},
   "outputs": [
    {
     "name": "stdout",
     "output_type": "stream",
     "text": [
      "time: 6\n",
      "spatial binsize =  [0.02] deg\n"
     ]
    },
    {
     "data": {
      "image/png": "[encoded data removed]",
      "text/plain": [
       "<Figure size 432x288 with 2 Axes>"
      ]
     },
     "metadata": {
      "needs_background": "light"
     },
     "output_type": "display_data"
    }
   ],
   "source": [
    "source = 'GC_dataset_zeta_5_muoneffTrue_edispTrue'\n",
    "path = '/home/vault/caph/mppi062h/repositories/HESS_3Dbkg_syserror/2-error_in_dataset'\n",
    "source = 'GC_timedependent_'\n",
    "time = '6'\n",
    "source = source + time\n",
    "\n",
    "if source == \"Crab\":\n",
    "\n",
    "    # here the dataset with the fine binning is saved\n",
    "    dataset = MapDataset.read(f'{path}/{source}/stacked.fits')\n",
    "    dataset = dataset.downsample(4)\n",
    "    models = Models.read(f\"{source}/standard_model.yml\")\n",
    "    \n",
    "    with open(f\"{source}/nui_bgmodel.yml\", \"r\") as ymlfile:\n",
    "        best_fit_bgmodel = yaml.load(ymlfile, Loader=yaml.FullLoader)\n",
    "    bkg_model = FoVBackgroundModel(dataset_name=dataset.name)\n",
    "    bkg_model.parameters['norm'].value = best_fit_bgmodel['spectral']['parameters'][0]['value']\n",
    "    bkg_model.parameters['tilt'].value = best_fit_bgmodel['spectral']['parameters'][1]['value']\n",
    "    bkg_model.parameters['norm'].error = best_fit_bgmodel['spectral']['parameters'][0]['error']\n",
    "    bkg_model.parameters['tilt'].error = best_fit_bgmodel['spectral']['parameters'][1]['error']\n",
    "    models.append(bkg_model)\n",
    "    dataset.models = models\n",
    "\n",
    "\n",
    "    \n",
    "if \"GC\" in source:\n",
    "    if source ==\"GC\":\n",
    "        path_GC ='/home/hpc/caph/mppi045h/3D_analysis/N_parameters_in_L/syserror_3d_bkgmodel/2-source_dataset/GC_0.19'\n",
    "        dataset = MapDataset.read(f'{path_GC}/20220511_dataset002_hess1_muonflagTrue.fits')\n",
    "        dataset.stack(MapDataset.read(f'{path_GC}/20220511_dataset002_hess2_muonflagTrue.fits'))\n",
    "        dataset = dataset.downsample(4)\n",
    "        \n",
    "    if source == 'GC_dataset_zeta_1_muoneffTrue_edispTrue':\n",
    "        path_GC = '/home/vault/caph/mppi062h/repositories/GC/HESS/datasets_fits'\n",
    "        dataset = MapDataset.read(f'{path_GC}/dataset_zeta_1_muoneffTrue_edispTrue.fits')\n",
    "   \n",
    "    if source == 'GC_dataset_zeta_5_muoneffTrue_edispTrue':\n",
    "        path_GC = '/home/vault/caph/mppi062h/repositories/GC/HESS/datasets_fits'\n",
    "        dataset = MapDataset.read(f'{path_GC}/dataset_zeta_1_muoneffTrue_edispTrue.fits')\n",
    "   \n",
    "if 'GC_timedependent' in source:\n",
    "    if time == 'fulltime':\n",
    "\n",
    "        path_GC = '/home/vault/caph/mppi062h/repositories/GC/20221101/HESS/datasets_fits'\n",
    "        dataset  =  MapDataset.read(f'{path_GC}/dataset_{time}.fits')\n",
    "        model_name = '/home/vault/caph/mppi062h/repositories/GC/20221101/HESS/models/all_free_fulltime.yaml'\n",
    "        models = Models.read(model_name)\n",
    "        bkg_model = FoVBackgroundModel(dataset_name=dataset.name)\n",
    "        # set bg model parameters frozen\n",
    "        bkg_model.parameters['tilt'].frozen  = True\n",
    "        bkg_model.parameters['norm'].frozen  = True\n",
    "\n",
    "        models.append(bkg_model)\n",
    "        dataset.models = models\n",
    "\n",
    "        #set diffuse emission free:\n",
    "        dataset.models['diff-emission'].parameters['tilt'].frozen = False\n",
    "    else:\n",
    "        print(\"time:\", time)\n",
    "        path_GC = '/home/vault/caph/mppi062h/repositories/GC/20221101/HESS/datasets_fits'\n",
    "        dataset  =  MapDataset.read(f'{path_GC}/dataset_{time}.fits')\n",
    "        # read in the best fit model with the nuisance parameters \n",
    "        # From the fulltime analysis\n",
    "        path_best_fit = '/home/hpc/caph/mppi045h/3D_analysis/N_parameters_in_L/syserror_3d_bkgmodel/2-source_dataset/GC_timedependent_fulltime/'\n",
    "        best_fit_name = 'nui_model_002_45centralspectrumfree.yml'\n",
    "        models = Models.read(path_best_fit+ best_fit_name)\n",
    "        bkg_model = FoVBackgroundModel(dataset_name=dataset.name)\n",
    "        # set bg model parameters frozen\n",
    "        bkg_model.parameters['tilt'].frozen  = True\n",
    "        bkg_model.parameters['norm'].frozen  = True\n",
    "\n",
    "        models.append(bkg_model)\n",
    "        dataset.models = models\n",
    "\n",
    "        #set diffuse emission free:\n",
    "        dataset.models['diff-emission'].parameters['tilt'].frozen = True\n",
    "        dataset.models['diff-emission'].parameters['norm'].frozen = True\n",
    "\n",
    "    \n",
    "    \n",
    "dataset.counts.sum_over_axes().plot(add_cbar=1)\n",
    "binsize = dataset.geoms[\"geom\"].width[1] / dataset.geoms[\"geom\"].data_shape[1]\n",
    "print(\n",
    "    \"spatial binsize = \",\n",
    "    binsize\n",
    ")\n"
   ]
  },
  {
   "cell_type": "markdown",
   "id": "87ddbb8e",
   "metadata": {},
   "source": [
    "## Statistics Check"
   ]
  },
  {
   "cell_type": "code",
   "execution_count": 4,
   "id": "265e3f0b",
   "metadata": {},
   "outputs": [
    {
     "name": "stdout",
     "output_type": "stream",
     "text": [
      "(24,)\n",
      "sys_percent [  0.           0.           0.           0.          -8.66522188\n",
      "  10.19079023   2.69154638   1.83614334   0.           0.\n",
      "   0.          -4.54299041 -10.85421572   0.         -13.47661103\n",
      " -16.23769445 -23.32847417 -23.79376982 -24.3777769  -31.5239645\n",
      "   0.           0.           0.           0.        ]\n",
      "stat_percent [        nan         nan         nan         nan   1.8269321   1.9797856\n",
      "   2.3857327   2.816357    3.393401    4.1283026   5.0950365   6.4246535\n",
      "   8.130741   11.582658   16.901903   21.100157   27.135014   35.88431\n",
      "  47.95825    63.847168   80.126915   98.80515   116.40877   130.06425  ]\n"
     ]
    },
    {
     "name": "stderr",
     "output_type": "stream",
     "text": [
      "/tmp/ipykernel_510563/2311417635.py:19: RuntimeWarning: invalid value encountered in true_divide\n",
      "  stat_percent = stat_counts/ bg  * 100\n"
     ]
    },
    {
     "data": {
      "image/png": "[encoded data removed]",
      "text/plain": [
       "<Figure size 432x288 with 1 Axes>"
      ]
     },
     "metadata": {
      "needs_background": "light"
     },
     "output_type": "display_data"
    }
   ],
   "source": [
    "\n",
    "if 'GC_timedependent' in source:\n",
    "    local_path_ = '/home/vault/caph/mppi062h/repositories/GC/20221101/HESS/systematic_levels'\n",
    "    name = 'from_lookuptable_' + time + '_percentage.txt'\n",
    "    sys_percent = np.loadtxt((f'{local_path_}/{name}'))\n",
    "    \n",
    "else:\n",
    "    sys_percent = np.loadtxt((f'{local_path}/{source}/sysamplitude_percentage.txt'))\n",
    "# Convert to %:\n",
    "\n",
    "\n",
    "plt.plot(sys_percent, label = 'sys')\n",
    "plt.ylabel(\"Expected Uncertanty [%]\")\n",
    "plt.xlabel(\"Ebins\")\n",
    "bg = dataset.background.data.sum(axis=2).sum(axis=1)\n",
    "print(np.shape(sys_percent))\n",
    "sys_counts = sys_percent * bg /100\n",
    "\n",
    "stat_counts = np.sqrt(bg)  \n",
    "stat_percent = stat_counts/ bg  * 100\n",
    "print('sys_percent', sys_percent)\n",
    "print(\"stat_percent\", stat_percent )\n",
    "plt.plot(stat_percent, label = 'stat')\n",
    "fig = plt.gcf()\n",
    "plt.title(source)\n",
    "name = f'{source}'+'/plots/stat_sys_comparison_percent'  \n",
    "fig.savefig(name+'.png', dpi=300, bbox_inches = 'tight')"
   ]
  },
  {
   "cell_type": "code",
   "execution_count": 5,
   "id": "1022b860",
   "metadata": {},
   "outputs": [
    {
     "data": {
      "image/png": "[encoded data removed]",
      "text/plain": [
       "<Figure size 432x288 with 1 Axes>"
      ]
     },
     "metadata": {
      "needs_background": "light"
     },
     "output_type": "display_data"
    }
   ],
   "source": [
    "plt.plot(np.abs(sys_counts), label = \"sys\")\n",
    "plt.plot(stat_counts, label = 'stat')\n",
    "plt.ylabel(\"Expected Uncertanty [counts]\")\n",
    "plt.xlabel(\"Ebins\")\n",
    "plt.legend()\n",
    "fig = plt.gcf()\n",
    "plt.title(source)\n",
    "\n",
    "name = f'{source}'+'/plots/stat_sys_comparison_counts'  \n",
    "fig.savefig(name+'.png', dpi=300, bbox_inches = 'tight')"
   ]
  },
  {
   "cell_type": "code",
   "execution_count": null,
   "id": "b3a031ce",
   "metadata": {},
   "outputs": [],
   "source": []
  },
  {
   "cell_type": "code",
   "execution_count": null,
   "id": "f0306517",
   "metadata": {},
   "outputs": [],
   "source": []
  }
 ],
 "metadata": {
  "kernelspec": {
   "display_name": "Python 3 (ipykernel)",
   "language": "python",
   "name": "python3"
  },
  "language_info": {
   "codemirror_mode": {
    "name": "ipython",
    "version": 3
   },
   "file_extension": ".py",
   "mimetype": "text/x-python",
   "name": "python",
   "nbconvert_exporter": "python",
   "pygments_lexer": "ipython3",
   "version": "3.8.13"
  },
  "varInspector": {
   "cols": {
    "lenName": 16,
    "lenType": 16,
    "lenVar": 40
   },
   "kernels_config": {
    "python": {
     "delete_cmd_postfix": "",
     "delete_cmd_prefix": "del ",
     "library": "var_list.py",
     "varRefreshCmd": "print(var_dic_list())"
    },
    "r": {
     "delete_cmd_postfix": ") ",
     "delete_cmd_prefix": "rm(",
     "library": "var_list.r",
     "varRefreshCmd": "cat(var_dic_list()) "
    }
   },
   "types_to_exclude": [
    "module",
    "function",
    "builtin_function_or_method",
    "instance",
    "_Feature"
   ],
   "window_display": false
  }
 },
 "nbformat": 4,
 "nbformat_minor": 5
}
