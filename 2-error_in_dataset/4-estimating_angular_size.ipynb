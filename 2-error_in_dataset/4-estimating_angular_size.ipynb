{
 "cells": [
  {
   "cell_type": "markdown",
   "id": "a689e2fb",
   "metadata": {},
   "source": [
    "In this notebook the angular size of the systematic is evaulated. Therefore, we compute the sqrt ts map of the standard anlysis and compute the 2D Fourier trafo of the first energybin. The obtained angular spectrum is compared with the one computed from a dataset consisting of statistical fluctuations only (asimov dataset). The spectrum of 1000 Poission draws of this asimov dataset are plotted and used for the standard deviation estimation of the anuglar spectrum points. "
   ]
  },
  {
   "cell_type": "code",
   "execution_count": 1,
   "id": "eb672457",
   "metadata": {},
   "outputs": [],
   "source": [
    "import matplotlib.image as mpimg\n",
    "import numpy as np\n",
    "import scipy.stats as stats\n",
    "import matplotlib.pyplot as plt\n",
    "import astropy\n",
    "from gammapy.maps import Map\n",
    "from gammapy.datasets import MapDataset\n",
    "from gammapy.modeling.models import Models, Model, SkyModel, FoVBackgroundModel\n",
    "from gammapy.estimators import ExcessMapEstimator\n",
    "from gammapy.modeling import Fit, Parameter, Parameters\n",
    "from astropy.coordinates import SkyCoord, Angle\n",
    "from regions import RectangleSkyRegion\n",
    "\n",
    "import astropy.units as u\n",
    "import yaml\n",
    "import sys\n",
    "sys.path.append('/home/hpc/caph/mppi045h/3D_analysis/N_parameters_in_L/syserror_3d_bkgmodel/4-Fitting_nuisance_and_model_parameters')\n",
    "\n",
    "import my_dataset_maps_19\n"
   ]
  },
  {
   "cell_type": "code",
   "execution_count": 2,
   "id": "94fb3654",
   "metadata": {},
   "outputs": [
    {
     "name": "stdout",
     "output_type": "stream",
     "text": [
      "spatial binsize =  [0.08] deg\n"
     ]
    },
    {
     "data": {
      "image/png": "[encoded data removed]",
      "text/plain": [
       "<Figure size 432x288 with 2 Axes>"
      ]
     },
     "metadata": {
      "needs_background": "light"
     },
     "output_type": "display_data"
    }
   ],
   "source": [
    "source = 'GC'\n",
    "path = '/home/vault/caph/mppi062h/repositories/HESS_3Dbkg_syserror/2-error_in_dataset'\n",
    "\n",
    "if source == \"Crab\":\n",
    "\n",
    "    # here the dataset with the fine binning is saved\n",
    "    #dataset = MapDataset.read(f'{path}/{source}/stacked.fits')\n",
    "    # This is for now the binning of 0.08 deg\n",
    "    dataset = MapDataset.read(f'{source}/stacked.fits')\n",
    "\n",
    "    models = Models.read(f\"{source}/standard_model.yml\")\n",
    "    \n",
    "    with open(f\"{source}/nui_bgmodel.yml\", \"r\") as ymlfile:\n",
    "        best_fit_bgmodel = yaml.load(ymlfile, Loader=yaml.FullLoader)\n",
    "    bkg_model = FoVBackgroundModel(dataset_name=dataset.name)\n",
    "    bkg_model.parameters['norm'].value = best_fit_bgmodel['spectral']['parameters'][0]['value']\n",
    "    bkg_model.parameters['tilt'].value = best_fit_bgmodel['spectral']['parameters'][1]['value']\n",
    "    bkg_model.parameters['norm'].error = best_fit_bgmodel['spectral']['parameters'][0]['error']\n",
    "    bkg_model.parameters['tilt'].error = best_fit_bgmodel['spectral']['parameters'][1]['error']\n",
    "    models.append(bkg_model)\n",
    "    dataset.models = models\n",
    "\n",
    "\n",
    "    \n",
    "if source ==\"GC\":\n",
    "    path_GC ='/home/hpc/caph/mppi045h/3D_analysis/N_parameters_in_L/syserror_3d_bkgmodel/2-source_dataset/GC_0.19'\n",
    "    dataset = MapDataset.read(f'{path_GC}/20220511_dataset002_hess1_muonflagTrue.fits')\n",
    "    dataset.stack(MapDataset.read(f'{path_GC}/20220511_dataset002_hess2_muonflagTrue.fits'))\n",
    "    dataset = dataset.downsample(4)\n",
    "\n",
    "\n",
    "\n",
    "    # Define source model for stacked fit\n",
    "    from gammapy.modeling.models import (PointSpatialModel, \n",
    "                                         ExpCutoffPowerLawSpectralModel,\n",
    "                                         PowerLawSpectralModel,\n",
    "                                         GaussianSpatialModel,TemplateSpatialModel,\n",
    "                                        PowerLawNormSpectralModel)\n",
    "    spatial_model_center = PointSpatialModel(lon_0=359.9439608*u.deg, lat_0=-0.0418969*u.deg, frame='galactic') \n",
    "    spectral_model_center = ExpCutoffPowerLawSpectralModel(index=2.14, amplitude=\"2.55e-12 cm-2 s-1 TeV-1\", reference=\"1 TeV\", lambda_='0.093 TeV-1')\n",
    "    source_model_center = SkyModel(spatial_model=spatial_model_center, spectral_model=spectral_model_center, name=\"src\")\n",
    "\n",
    "    spatial_model_g09 = PointSpatialModel(lon_0=0.8717549*u.deg, lat_0=0.0767488*u.deg, frame='galactic')\n",
    "    spectral_model_g09 = PowerLawSpectralModel(index=2.4, amplitude=\"0.838e-12 cm-2 s-1 TeV-1\", reference=\"1 TeV\") # was 3e-12\n",
    "    source_model_g09 = SkyModel(spatial_model=spatial_model_g09, spectral_model=spectral_model_g09, name=\"g09\")\n",
    "\n",
    "    spatial_model_1745 = GaussianSpatialModel(lon_0=358.6435538*u.deg, lat_0=-0.5617789*u.deg, sigma=0.179*u.deg, frame='galactic')\n",
    "    spectral_model_1745 = PowerLawSpectralModel(index=2.57, amplitude=\"1.73e-12 cm-2 s-1 TeV-1\", reference=\"1 TeV\") # \n",
    "    source_model_1745 = SkyModel(spatial_model=spatial_model_1745, spectral_model=spectral_model_1745, name=\"1745\")\n",
    "\n",
    "    spatial_model_1746 = PointSpatialModel(lon_0=0.1384563*u.deg, lat_0=-0.1112664*u.deg, frame='galactic')\n",
    "    spectral_model_1746 = PowerLawSpectralModel(index=2.17, amplitude=\"0.18e-12 cm-2 s-1 TeV-1\", reference=\"1 TeV\") # was 3e-12\n",
    "    source_model_1746 = SkyModel(spatial_model=spatial_model_1746, spectral_model=spectral_model_1746, name=\"1746\")\n",
    "\n",
    "    spatial_model_1746308 = GaussianSpatialModel(lon_0=358.4479799*u.deg, lat_0=-1.1140008*u.deg, sigma=0.162*u.deg, frame='galactic')\n",
    "    spectral_model_1746308 = PowerLawSpectralModel(index=3.27, amplitude=\"0.70e-12 cm-2 s-1 TeV-1\", reference=\"1 TeV\") #\n",
    "    source_model_1746308 = SkyModel(spatial_model=spatial_model_1746308, spectral_model=spectral_model_1746308, name=\"1746308\")\n",
    "\n",
    "    spatial_model_1741 = PointSpatialModel(lon_0=358.2753545*u.deg, lat_0=0.0515537*u.deg, frame='galactic')\n",
    "    spectral_model_1741 = PowerLawSpectralModel(index=2.30, amplitude=\"0.21e-12 cm-2 s-1 TeV-1\", reference=\"1 TeV\") # was 3e-12\n",
    "    source_model_1741 = SkyModel(spatial_model=spatial_model_1741, spectral_model=spectral_model_1741, name=\"1741\")\n",
    "\n",
    "    diffuse_gal = Map.read(\"/home/saturn/caph/mppi043h/diffusiontemplate/cont_pcut_v3.fits\")\n",
    "    diffuse_gal.geom.axes[0].name= 'energy_true'\n",
    "    template_diffuse = TemplateSpatialModel(\n",
    "        diffuse_gal, normalize=False\n",
    "    )\n",
    "    diffuse_model = SkyModel(\n",
    "        spectral_model=PowerLawNormSpectralModel(),\n",
    "        spatial_model=template_diffuse,\n",
    "        name=\"Diffuse Emission\",)\n",
    "    \n",
    "    bkg_model = FoVBackgroundModel(dataset_name=dataset.name)\n",
    "    bkg_model.parameters['tilt'].frozen  = False\n",
    "\n",
    "    models = Models([source_model_center, source_model_g09, source_model_1745, source_model_1746, \n",
    "                     source_model_1746308, source_model_1741, diffuse_model, bkg_model ])\n",
    "    \n",
    "    \n",
    "    j1745_coord = SkyCoord(358.6435538, -0.5617789, unit='deg',frame='galactic')\n",
    "\n",
    "    skyregion_1745 = RectangleSkyRegion(center=j1745_coord, width=1*u.deg,height=1*u.deg)\n",
    "    geom_2d = dataset.geoms['geom'].drop('energy')\n",
    "    dataset.mask_safe.data[:] &= Map.from_geom(geom_2d, \n",
    "                                                        data=geom_2d.region_mask([skyregion_1745], \n",
    "                                                                                          inside=False).data).data\n",
    "    \n",
    "    dataset.models = models\n",
    "    \n",
    "dataset.counts.sum_over_axes().plot(add_cbar=1)\n",
    "binsize = dataset.geoms[\"geom\"].width[1] / dataset.geoms[\"geom\"].data_shape[1]\n",
    "print(\n",
    "    \"spatial binsize = \",\n",
    "    binsize\n",
    ")\n",
    "\n",
    "\n",
    "\n"
   ]
  },
  {
   "cell_type": "code",
   "execution_count": 3,
   "id": "50d700b9",
   "metadata": {
    "scrolled": true
   },
   "outputs": [
    {
     "name": "stderr",
     "output_type": "stream",
     "text": [
      "Position <SkyCoord (Galactic): (l, b) in deg\n",
      "    (88.08893066, -0.0418969)> is outside valid IRF map range, using nearest IRF defined within\n",
      "Position <SkyCoord (Galactic): (l, b) in deg\n",
      "    (88.08893066, -0.0418969)> is outside valid IRF map range, using nearest IRF defined within\n",
      "Position <SkyCoord (Galactic): (l, b) in deg\n",
      "    (271.79899094, -0.0418969)> is outside valid IRF map range, using nearest IRF defined within\n",
      "Position <SkyCoord (Galactic): (l, b) in deg\n",
      "    (271.79899094, -0.0418969)> is outside valid IRF map range, using nearest IRF defined within\n",
      "Position <SkyCoord (Galactic): (l, b) in deg\n",
      "    (8.75845779, -0.0418969)> is outside valid IRF map range, using nearest IRF defined within\n",
      "Position <SkyCoord (Galactic): (l, b) in deg\n",
      "    (8.75845779, -0.0418969)> is outside valid IRF map range, using nearest IRF defined within\n",
      "Position <SkyCoord (Galactic): (l, b) in deg\n",
      "    (351.12946381, -0.0418969)> is outside valid IRF map range, using nearest IRF defined within\n",
      "Position <SkyCoord (Galactic): (l, b) in deg\n",
      "    (351.12946381, -0.0418969)> is outside valid IRF map range, using nearest IRF defined within\n",
      "Position <SkyCoord (Galactic): (l, b) in deg\n",
      "    (86.78852366, -0.5617789)> is outside valid IRF map range, using nearest IRF defined within\n",
      "Position <SkyCoord (Galactic): (l, b) in deg\n",
      "    (86.78852366, -0.5617789)> is outside valid IRF map range, using nearest IRF defined within\n",
      "Position <SkyCoord (Galactic): (l, b) in deg\n",
      "    (270.49858394, -0.5617789)> is outside valid IRF map range, using nearest IRF defined within\n",
      "Position <SkyCoord (Galactic): (l, b) in deg\n",
      "    (270.49858394, -0.5617789)> is outside valid IRF map range, using nearest IRF defined within\n",
      "Position <SkyCoord (Galactic): (l, b) in deg\n",
      "    (18.45050122, -0.5617789)> is outside valid IRF map range, using nearest IRF defined within\n",
      "Position <SkyCoord (Galactic): (l, b) in deg\n",
      "    (18.45050122, -0.5617789)> is outside valid IRF map range, using nearest IRF defined within\n",
      "Position <SkyCoord (Galactic): (l, b) in deg\n",
      "    (338.83660638, -0.5617789)> is outside valid IRF map range, using nearest IRF defined within\n",
      "Position <SkyCoord (Galactic): (l, b) in deg\n",
      "    (338.83660638, -0.5617789)> is outside valid IRF map range, using nearest IRF defined within\n",
      "Position <SkyCoord (Galactic): (l, b) in deg\n",
      "    (86.59294976, -1.1140008)> is outside valid IRF map range, using nearest IRF defined within\n",
      "Position <SkyCoord (Galactic): (l, b) in deg\n",
      "    (86.59294976, -1.1140008)> is outside valid IRF map range, using nearest IRF defined within\n",
      "Position <SkyCoord (Galactic): (l, b) in deg\n",
      "    (270.30301004, -1.1140008)> is outside valid IRF map range, using nearest IRF defined within\n",
      "Position <SkyCoord (Galactic): (l, b) in deg\n",
      "    (270.30301004, -1.1140008)> is outside valid IRF map range, using nearest IRF defined within\n",
      "Position <SkyCoord (Galactic): (l, b) in deg\n",
      "    (7.92780855, -1.1140008)> is outside valid IRF map range, using nearest IRF defined within\n",
      "Position <SkyCoord (Galactic): (l, b) in deg\n",
      "    (7.92780855, -1.1140008)> is outside valid IRF map range, using nearest IRF defined within\n",
      "Position <SkyCoord (Galactic): (l, b) in deg\n",
      "    (348.96815125, -1.1140008)> is outside valid IRF map range, using nearest IRF defined within\n",
      "Position <SkyCoord (Galactic): (l, b) in deg\n",
      "    (348.96815125, -1.1140008)> is outside valid IRF map range, using nearest IRF defined within\n",
      "Position <SkyCoord (Galactic): (l, b) in deg\n",
      "    (86.42032436, 0.0515537)> is outside valid IRF map range, using nearest IRF defined within\n",
      "Position <SkyCoord (Galactic): (l, b) in deg\n",
      "    (86.42032436, 0.0515537)> is outside valid IRF map range, using nearest IRF defined within\n",
      "Position <SkyCoord (Galactic): (l, b) in deg\n",
      "    (270.13038464, 0.0515537)> is outside valid IRF map range, using nearest IRF defined within\n",
      "Position <SkyCoord (Galactic): (l, b) in deg\n",
      "    (270.13038464, 0.0515537)> is outside valid IRF map range, using nearest IRF defined within\n",
      "Position <SkyCoord (Galactic): (l, b) in deg\n",
      "    (8.8257814, 0.0515537)> is outside valid IRF map range, using nearest IRF defined within\n",
      "Position <SkyCoord (Galactic): (l, b) in deg\n",
      "    (8.8257814, 0.0515537)> is outside valid IRF map range, using nearest IRF defined within\n",
      "Position <SkyCoord (Galactic): (l, b) in deg\n",
      "    (347.7249276, 0.0515537)> is outside valid IRF map range, using nearest IRF defined within\n",
      "Position <SkyCoord (Galactic): (l, b) in deg\n",
      "    (347.7249276, 0.0515537)> is outside valid IRF map range, using nearest IRF defined within\n",
      "Position <SkyCoord (Galactic): (l, b) in deg\n",
      "    (354.19273675, -0.5617789)> is outside valid IRF map range, using nearest IRF defined within\n",
      "Position <SkyCoord (Galactic): (l, b) in deg\n",
      "    (354.19273675, -0.5617789)> is outside valid IRF map range, using nearest IRF defined within\n",
      "Position <SkyCoord (Galactic): (l, b) in deg\n",
      "    (354.92151599, 0.0515537)> is outside valid IRF map range, using nearest IRF defined within\n",
      "Position <SkyCoord (Galactic): (l, b) in deg\n",
      "    (354.92151599, 0.0515537)> is outside valid IRF map range, using nearest IRF defined within\n"
     ]
    }
   ],
   "source": [
    "fit_standarad = Fit(store_trace=False)\n",
    "result_standarad = fit_standarad.run([dataset])"
   ]
  },
  {
   "cell_type": "markdown",
   "id": "30246c27",
   "metadata": {},
   "source": [
    "import dataset and best fit model"
   ]
  },
  {
   "cell_type": "code",
   "execution_count": null,
   "id": "d287ca8e",
   "metadata": {},
   "outputs": [],
   "source": [
    "print(\n",
    "    \"spatial binsize = \",\n",
    "    dataset.geoms[\"geom\"].width[1]\n",
    "    / dataset.geoms[\"geom\"].data_shape[1],\n",
    ")\n"
   ]
  },
  {
   "cell_type": "markdown",
   "id": "2834f1c8",
   "metadata": {},
   "source": [
    "computation of the sqrt ts map"
   ]
  },
  {
   "cell_type": "code",
   "execution_count": null,
   "id": "81b93778",
   "metadata": {},
   "outputs": [],
   "source": [
    "def get_residual(estart, eend, dataset_1 , smooth):\n",
    "    res_1 = dataset_1.slice_by_energy(estart*u.TeV, eend*u.TeV).residuals( 'diff/sqrt(model)')\n",
    "    return res_1.smooth(smooth*u.deg).sum_over_axes()\n",
    "def get_residual3(estart, eend, dataset_1 , smooth):\n",
    "    dat_1 = dataset_1\n",
    "    res_1 = dat_1.counts - dat_1.npred()\n",
    "    res_1.data /= np.sqrt(dat_1.npred().data)\n",
    "    return res_1.smooth(smooth*u.deg).slice_by_idx(dict(energy = slice(estart, eend))).sum_over_axes()\n",
    "def get_residual2(estart,eend, dataset_1, smooth):\n",
    "    res_standard = (\n",
    "        dataset_1.residuals(\"diff/sqrt(model)\")\n",
    "        .slice_by_idx(dict(energy=slice(estart,eend)))\n",
    "        .smooth(smooth * u.deg)\n",
    "            )\n",
    "    return res_standard.sum_over_axes()"
   ]
  },
  {
   "cell_type": "code",
   "execution_count": null,
   "id": "c35f4c90",
   "metadata": {},
   "outputs": [],
   "source": [
    "start, end =6,24\n",
    "cutout = 6 *u.deg\n",
    "N= 100\n",
    "geom = dataset.geoms['geom']\n",
    "result = get_residual2(start, end , dataset ,0.).cutout(geom.center_skydir, cutout)#.smooth(0.1*u.deg)\n",
    "vmax =4\n",
    "result.plot(add_cbar = 1, cmap = 'coolwarm', vmax = vmax, vmin = -vmax);"
   ]
  },
  {
   "cell_type": "markdown",
   "id": "1eb1fb68",
   "metadata": {},
   "source": [
    "1000 Poission drawns of the Asimov dataset."
   ]
  },
  {
   "cell_type": "code",
   "execution_count": null,
   "id": "8b420d52",
   "metadata": {
    "scrolled": true
   },
   "outputs": [],
   "source": [
    "e_start, e_end = dataset.geoms['geom'].axes[0].edges[start],dataset.geoms['geom'].axes[0].edges[end]\n",
    "observed  = result#.slice_by_idx(dict(energy=slice(start, end)))\n",
    "\n",
    "\n",
    "res_stat_N = []\n",
    "datasets_stat = dataset.copy()\n",
    "datasets_stat.counts =  Map.from_geom(geom = datasets_stat.geoms['geom'])\n",
    "for n in range(N):\n",
    "    rng = np.random.RandomState()\n",
    "    datasets_stat.counts.data = rng.poisson(datasets_stat.npred().data)\n",
    "    \n",
    "    result = get_residual2(start, end , datasets_stat ,0.).cutout(geom.center_skydir,cutout)\n",
    "    res_stat_N.append(result)#[\"sqrt_ts\"].slice_by_idx(dict(energy=slice(start, end))))"
   ]
  },
  {
   "cell_type": "code",
   "execution_count": null,
   "id": "8b436d98",
   "metadata": {},
   "outputs": [],
   "source": [
    "if source == \"Crab\":\n",
    "    datasetN_path2 = '/home/hpc/caph/mppi045h/3D_analysis/N_parameters_in_L/syserror_3d_bkgmodel/output/'\n",
    "    datasetN_path2 += '2022-03-22/'\n",
    "    datasetN_path2 += 'Crab_max_sysamplitude_48.7_downsampling_factor_25_statthreshold1_estart_0.3_eend_120.0/'\n",
    "\n",
    "    path = datasetN_path2\n",
    "    dataset_N_10 = my_dataset_maps_19.MapDatasetNuisance.read(path+ 'nui_dataset.fits')\n",
    "    with open(path+ 'nui_par.yml', \"r\") as ymlfile:\n",
    "        nui_par = yaml.load(ymlfile, Loader=yaml.FullLoader)\n",
    "    dataset_N_10.N_parameters = Parameters.from_dict(nui_par )\n",
    "    with open(path+ 'nui_model.yml', \"r\") as ymlfile:\n",
    "        best_fit_model = yaml.load(ymlfile, Loader=yaml.FullLoader)\n",
    "    with open(path+ 'nui_bgmodel.yml', \"r\") as ymlfile:\n",
    "        best_fit_bgmodel = yaml.load(ymlfile, Loader=yaml.FullLoader)\n",
    "    bkg_model = FoVBackgroundModel(dataset_name=dataset_N_10.name)\n",
    "    bkg_model.parameters['norm'].value = best_fit_bgmodel['spectral']['parameters'][0]['value']\n",
    "    bkg_model.parameters['tilt'].value = best_fit_bgmodel['spectral']['parameters'][1]['value']\n",
    "    models = Models.from_dict(best_fit_model )\n",
    "    models.append(bkg_model)\n",
    "    dataset_N_10.models =models\n",
    "    print(dataset_N_10.models)\n",
    "\n",
    "    emask_map = dataset_N_10.background.geom.energy_mask(\n",
    "                    energy_min = 0.3*u.TeV,  energy_max =  120*u.TeV)\n",
    "    dataset_N_10.mask_fit = emask_map\n",
    "    dataset_N_10.mask_safe = emask_map\n",
    "\n",
    "    result_N = get_residual2(start, end , dataset_N_10 ,0.).cutout(geom.center_skydir, cutout)\n",
    "    result_N.plot()"
   ]
  },
  {
   "cell_type": "code",
   "execution_count": null,
   "id": "524dbf18",
   "metadata": {},
   "outputs": [],
   "source": []
  },
  {
   "cell_type": "markdown",
   "id": "873d8227",
   "metadata": {},
   "source": [
    "Function used to compute the fourier tranfos of the observed residual and the statistical datasets"
   ]
  },
  {
   "cell_type": "code",
   "execution_count": null,
   "id": "7e268aaf",
   "metadata": {},
   "outputs": [],
   "source": [
    "half_width_fov = cutout.value /2\n",
    "\n",
    "def plot_fourier (res_dataset_v0s, stats_res = None, labels_datasets = None):\n",
    "    #image = mpimg.imread(\"clouds.png\")\n",
    "    for i,res_dataset_v0 in enumerate(res_dataset_v0s):\n",
    "        image =res_dataset_v0[0].data\n",
    "        npix = image.shape[1]\n",
    "        kfreq = np.fft.fftfreq(npix) * npix\n",
    "        kfreq2D = np.meshgrid(kfreq, kfreq)\n",
    "        knrm = np.sqrt(kfreq2D[0]**2 + kfreq2D[1]**2)\n",
    "        knrm = knrm.flatten()\n",
    "        kbins = np.arange(0.5, npix//2+1, 1.)\n",
    "        kvals = 0.5 * (kbins[1:] + kbins[:-1])\n",
    "        print('knrm', len(knrm))\n",
    "        Abinss = []\n",
    "        if labels_datasets[i] == 'Standard':\n",
    "            color = default_colors[1]\n",
    "        else:\n",
    "            color = default_colors[1:][i]\n",
    "        for d in res_dataset_v0:\n",
    "            image =d.data\n",
    "            image = np.nan_to_num(image)\n",
    "            fourier_image = np.fft.fftn(image)\n",
    "            fourier_amplitudes = np.abs(fourier_image)**2\n",
    "\n",
    "            fourier_amplitudes = fourier_amplitudes.flatten()\n",
    "            Abins, _, _ = stats.binned_statistic(knrm, fourier_amplitudes,\n",
    "                                                 statistic = \"mean\",\n",
    "                                                 bins = kbins)\n",
    "            Abins *= np.pi * (kbins[1:]**2 - kbins[:-1]**2)\n",
    "            plt.loglog(kvals, Abins, '-',#alpha = 0.001963,\n",
    "                       alpha = 0.02, color = color, label = '')\n",
    "            Abinss.append(Abins)\n",
    "        label = ''\n",
    "        if labels_datasets is not None:\n",
    "            label += labels_datasets[i]\n",
    "        plt.errorbar(x = kvals,y =  np.mean(Abinss, axis = 0),\n",
    "                     yerr = np.std(Abinss,axis = 0), fmt= 'x-', \n",
    "                     alpha = 0.9,  label = label ,\n",
    "                    color = color)\n",
    "    if stats_res is not None:\n",
    "        Abinss_stat = []\n",
    "        for stats_re in stats_res:\n",
    "            image =stats_re.data\n",
    "            image = np.nan_to_num(image)\n",
    "\n",
    "            fourier_image = np.fft.fftn(image)\n",
    "            fourier_amplitudes = np.abs(fourier_image)**2\n",
    "            fourier_amplitudes = fourier_amplitudes.flatten()\n",
    "            Abins, _, _ = stats.binned_statistic(knrm, fourier_amplitudes,\n",
    "                                                 statistic = \"mean\",\n",
    "                                                 bins = kbins)\n",
    "            Abins *= np.pi * (kbins[1:]**2 - kbins[:-1]**2)\n",
    "            plt.loglog(kvals, Abins, '-',alpha = 5/N, color = 'black', label = '')\n",
    "            Abinss_stat.append(Abins)\n",
    "        #plt.loglog(kvals, np.mean(Abinss, axis = 0), 'x-',alpha = 0.9, color = 'black' ,label = 'Stat')\n",
    "        plt.errorbar(x = kvals,y =  np.mean(Abinss_stat, axis = 0),\n",
    "                     yerr = np.std(Abinss_stat,axis = 0),\n",
    "                     fmt = '-',alpha = 0.9, color = 'black' ,label = 'Stat')\n",
    "\n",
    "\n",
    "    ax = plt.gca() ;    fig = plt.gcf() ;    ax2 = ax.twiny()\n",
    "    labels = ['1', '2', '5', '10', '20','25']\n",
    "\n",
    "    def tick_function(X):\n",
    "        return [\"%.2f$^\\circ$\" % (half_width_fov/x) for x in X]\n",
    "    ax2.set_xlim(ax.get_xlim())\n",
    "    new_tick_locations = [1.,2.,5.,10.,20., 25.,]\n",
    "    ax2.set_xticks(new_tick_locations) ;    ax2.set_xticklabels(tick_function(new_tick_locations))\n",
    "    yy = ax.get_ylim()\n",
    "    for i, data in enumerate(new_tick_locations):\n",
    "        if i >-1:\n",
    "            ax2.vlines(50/float(labels[::-1][i]), yy[0], yy[1], \n",
    "                       color = default_colors[:6][::-1][i],\n",
    "                      alpha = 0.5)\n",
    "    ax2.set_xscale('log') ;   ax2.set_xticks(new_tick_locations) ;ax2.set_xticklabels(tick_function(new_tick_locations))\n",
    "    ax.set_xlabel(\"$k$\") ;    ax2.set_xlabel(\"Angular Scale\") ;    ax2.set_ylabel(\"Fourier Amplitude\")\n",
    "    ax.set_ylabel(\"$P(k)$\") ;    plt.tight_layout();    plt.grid() ; \n",
    "    ax.legend(title= 'Stat+sys', loc = 'lower right')\n",
    "    #plt.savefig(\"cloud_power_spectrum.png\", dpi = 300, bbox_inches = \"tight\")\n",
    "    \n",
    "    \n",
    "    ## compute the size of the sys (i.e. look where the observed fourier is not within\n",
    "    ## the 2simga of the mean\n",
    "    \n",
    "    i =0 \n",
    "    stat_mean, stat_std = np.mean(Abinss_stat, axis = 0), np.std(Abinss_stat, axis = 0)\n",
    "    observed = np.mean(Abinss, axis = 0)\n",
    "    while ( ( (stat_mean[i]+ 2*stat_std[i]) < observed[i]) or ((stat_mean[i]- 2*stat_std[i]) > observed[i])):\n",
    "        #print(((stat_mean[i]- 2*stat_std[i]) > observed[i]))\n",
    "        i +=1\n",
    "    size = half_width_fov/(i+1)\n",
    "    print(\"Estimated angular size of the Sys:\",size , \" deg\")\n",
    "\n",
    "    return fig ,  size"
   ]
  },
  {
   "cell_type": "code",
   "execution_count": null,
   "id": "44342346",
   "metadata": {},
   "outputs": [],
   "source": [
    "default_colors = plt.rcParams['axes.prop_cycle'].by_key()['color']"
   ]
  },
  {
   "cell_type": "markdown",
   "id": "e0406fae",
   "metadata": {},
   "source": [
    "Resulting plot"
   ]
  },
  {
   "cell_type": "code",
   "execution_count": null,
   "id": "cf643f89",
   "metadata": {},
   "outputs": [],
   "source": [
    "fig, size  = plot_fourier ([[observed]], res_stat_N, labels_datasets=['Observed'])\n",
    "ax = plt.gca() ;ax.set_title(\"{} at [{:.1}:{:.1}] TeV\".format(source, e_start, e_end));\n",
    "fig = plt.gcf()\n",
    "name = f'{source}'+'/plots/Angular_spectrum'  \n",
    "fig.savefig(name+'.png', dpi=300, bbox_inches = 'tight')\n",
    "\n",
    "outputpath = f'{source}/angular_size.txt'\n",
    "print(f\"saving in {outputpath} ...\")\n",
    "with open(outputpath, 'w') as f:\n",
    "    f.write(str(size))"
   ]
  },
  {
   "cell_type": "markdown",
   "id": "ae1a973a",
   "metadata": {},
   "source": [
    "Interpretation:\n",
    "- Diffraction pattern due to the edges visible in both the observed spectrum and stat \n",
    "- Deviation up to an angular scale of approx. 0.8 deg\n",
    "- For this pariticular dataset the bisize of the nuisance parameters is recommendend in the same size. (downsampling : 10)"
   ]
  },
  {
   "cell_type": "code",
   "execution_count": null,
   "id": "41014f66",
   "metadata": {},
   "outputs": [],
   "source": [
    "fig  = plot_fourier ([[observed],[result_N]], res_stat_N, labels_datasets=['Observed', \"Nuisance 0.8deg\"])\n",
    "ax = plt.gca() ;ax.set_title(\"{} at [{:.1}:{:.1}] TeV\".format(source, e_start, e_end));\n",
    "fig = plt.gcf()\n",
    "name = f'{source}'+'/plots/Angular_spectrum_N'  \n",
    "fig.savefig(name+'.png', dpi=300, bbox_inches = 'tight')\n",
    "\n",
    "\n"
   ]
  },
  {
   "cell_type": "code",
   "execution_count": null,
   "id": "652e2099",
   "metadata": {},
   "outputs": [],
   "source": []
  }
 ],
 "metadata": {
  "kernelspec": {
   "display_name": "Python 3 (ipykernel)",
   "language": "python",
   "name": "python3"
  },
  "language_info": {
   "codemirror_mode": {
    "name": "ipython",
    "version": 3
   },
   "file_extension": ".py",
   "mimetype": "text/x-python",
   "name": "python",
   "nbconvert_exporter": "python",
   "pygments_lexer": "ipython3",
   "version": "3.9.10"
  },
  "varInspector": {
   "cols": {
    "lenName": 16,
    "lenType": 16,
    "lenVar": 40
   },
   "kernels_config": {
    "python": {
     "delete_cmd_postfix": "",
     "delete_cmd_prefix": "del ",
     "library": "var_list.py",
     "varRefreshCmd": "print(var_dic_list())"
    },
    "r": {
     "delete_cmd_postfix": ") ",
     "delete_cmd_prefix": "rm(",
     "library": "var_list.r",
     "varRefreshCmd": "cat(var_dic_list()) "
    }
   },
   "types_to_exclude": [
    "module",
    "function",
    "builtin_function_or_method",
    "instance",
    "_Feature"
   ],
   "window_display": false
  }
 },
 "nbformat": 4,
 "nbformat_minor": 5
}
