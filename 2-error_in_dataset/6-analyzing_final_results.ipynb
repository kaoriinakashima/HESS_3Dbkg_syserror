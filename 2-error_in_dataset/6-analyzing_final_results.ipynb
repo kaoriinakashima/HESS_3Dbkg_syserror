{
 "cells": [
  {
   "cell_type": "code",
   "execution_count": 1,
   "id": "70476036",
   "metadata": {},
   "outputs": [],
   "source": [
    "import numpy as np\n",
    "import matplotlib.pyplot as plt\n",
    "import astropy.units as u\n",
    "from scipy import stats\n",
    "import yaml\n",
    "from astropy.coordinates import SkyCoord\n",
    "\n",
    "from gammapy.data import DataStore\n",
    "from regions import CircleSkyRegion\n",
    "from gammapy.modeling import Fit\n",
    "from gammapy.datasets import MapDataset\n",
    "from gammapy.estimators import ExcessMapEstimator\n",
    "from gammapy.modeling.models import Models, Model, SkyModel, FoVBackgroundModel\n",
    "from gammapy.maps import MapAxis, WcsGeom, Map\n",
    "\n",
    "import warnings\n",
    "warnings.filterwarnings('ignore')"
   ]
  },
  {
   "cell_type": "code",
   "execution_count": 2,
   "id": "f40af18e",
   "metadata": {},
   "outputs": [],
   "source": [
    "source = \"Crab\""
   ]
  },
  {
   "cell_type": "code",
   "execution_count": 3,
   "id": "596ae0db",
   "metadata": {},
   "outputs": [],
   "source": [
    "dataset = MapDataset.read(f'{source}/stacked.fits')\n",
    "models = Models.read(f'{source}/standard_model.yml')\n",
    "dataset.models = models"
   ]
  },
  {
   "cell_type": "code",
   "execution_count": null,
   "id": "96fadfc5",
   "metadata": {},
   "outputs": [],
   "source": []
  }
 ],
 "metadata": {
  "kernelspec": {
   "display_name": "Python 3 (ipykernel)",
   "language": "python",
   "name": "python3"
  },
  "language_info": {
   "codemirror_mode": {
    "name": "ipython",
    "version": 3
   },
   "file_extension": ".py",
   "mimetype": "text/x-python",
   "name": "python",
   "nbconvert_exporter": "python",
   "pygments_lexer": "ipython3",
   "version": "3.9.10"
  },
  "varInspector": {
   "cols": {
    "lenName": 16,
    "lenType": 16,
    "lenVar": 40
   },
   "kernels_config": {
    "python": {
     "delete_cmd_postfix": "",
     "delete_cmd_prefix": "del ",
     "library": "var_list.py",
     "varRefreshCmd": "print(var_dic_list())"
    },
    "r": {
     "delete_cmd_postfix": ") ",
     "delete_cmd_prefix": "rm(",
     "library": "var_list.r",
     "varRefreshCmd": "cat(var_dic_list()) "
    }
   },
   "types_to_exclude": [
    "module",
    "function",
    "builtin_function_or_method",
    "instance",
    "_Feature"
   ],
   "window_display": false
  }
 },
 "nbformat": 4,
 "nbformat_minor": 5
}
