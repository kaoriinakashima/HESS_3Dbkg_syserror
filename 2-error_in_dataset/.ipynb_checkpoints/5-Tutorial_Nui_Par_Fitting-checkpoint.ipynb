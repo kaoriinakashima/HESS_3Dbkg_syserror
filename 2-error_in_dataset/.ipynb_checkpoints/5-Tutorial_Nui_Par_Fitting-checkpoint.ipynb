{
 "cells": [
  {
   "cell_type": "markdown",
   "id": "65d7aac7",
   "metadata": {},
   "source": [
    "# Import the Dataset\n",
    "\n",
    "In this notebook a 3D analysis of the -- is demonstated. In addition to the usuall model parameters so called 'nuisance parameters' are fitted which account for any systematical uncertainties. These sysetmatical uncertainties are assumed to be due a missmodelling of the hardronic background. \n",
    "\n",
    "The nuisance parameters are correlated so they can only eliminate the systemtic uncertainties but not the uncorrelated statistical uncertainicies.  \n",
    "\n",
    "The notebook is structed as follows:\n",
    "\n",
    "- Setting up the correlation of the nuisacane parameters\n",
    "- Fitting the model and the nuisance parameters to the data\n",
    "- Compare the results to the standard 3D fit"
   ]
  },
  {
   "cell_type": "code",
   "execution_count": null,
   "id": "9e584d07",
   "metadata": {},
   "outputs": [],
   "source": []
  },
  {
   "cell_type": "code",
   "execution_count": 1,
   "id": "e0c4dcf1",
   "metadata": {
    "execution": {
     "iopub.execute_input": "2022-03-17T11:24:36.091662Z",
     "iopub.status.busy": "2022-03-17T11:24:36.091167Z",
     "iopub.status.idle": "2022-03-17T11:25:00.872876Z",
     "shell.execute_reply": "2022-03-17T11:25:00.871690Z"
    }
   },
   "outputs": [],
   "source": [
    "import pyximport\n",
    "\n",
    "pyximport.install()\n",
    "import matplotlib.pyplot as plt\n",
    "import numpy as np\n",
    "import astropy.units as u\n",
    "import gammapy\n",
    "\n",
    "# from gammapy.datasets import MapDataset\n",
    "from gammapy.maps import Map\n",
    "from astropy.coordinates import SkyCoord, Angle\n",
    "from gammapy.modeling import Fit, Parameter, Parameters, Covariance\n",
    "from gammapy.datasets import MapDataset #, MapDatasetNuisance\n",
    "from gammapy.modeling.models import (\n",
    "    PowerLawSpectralModel,\n",
    "    create_crab_spectral_model,\n",
    "    SkyModel,\n",
    "    PointSpatialModel,\n",
    "    ShellSpatialModel,\n",
    "    GeneralizedGaussianSpatialModel,\n",
    "    TemplateSpatialModel,\n",
    "    LogParabolaSpectralModel,\n",
    "    GaussianSpatialModel,\n",
    "    DiskSpatialModel,\n",
    "    PowerLawNormSpectralModel,\n",
    "    Models,\n",
    "    SpatialModel,\n",
    "    FoVBackgroundModel,\n",
    ")\n",
    "from regions import CircleSkyRegion\n",
    "\n",
    "import sys\n",
    "\n",
    "sys.path.append(\n",
    "    \"/home/hpc/caph/mppi045h/3D_analysis/N_parameters_in_L/syserror_3d_bkgmodel/4-Fitting_nuisance_and_model_parameters\"\n",
    ")\n",
    "from my_dataset_maps_19 import MapDatasetNuisance\n",
    "from  my_fit_19 import Fit"
   ]
  },
  {
   "cell_type": "code",
   "execution_count": 2,
   "id": "5522d491",
   "metadata": {
    "execution": {
     "iopub.execute_input": "2022-03-17T11:25:00.878981Z",
     "iopub.status.busy": "2022-03-17T11:25:00.878685Z",
     "iopub.status.idle": "2022-03-17T11:25:02.883181Z",
     "shell.execute_reply": "2022-03-17T11:25:02.882196Z"
    }
   },
   "outputs": [],
   "source": [
    "dataset_path = \"/home/hpc/caph/mppi045h/3D_analysis/N_parameters_in_L/syserror_3d_bkgmodel/2-source_dataset/NGC253/NGC253_fullsys.fits\"\n",
    "dataset_standard = MapDataset.read(dataset_path)\n",
    "dataset_standard = dataset_standard.cutout(\n",
    "    position=dataset_standard.geoms[\"geom\"].center_skydir, width=4 * u.deg\n",
    ")"
   ]
  },
  {
   "cell_type": "markdown",
   "id": "a99efa09",
   "metadata": {},
   "source": [
    "## Standard Analysis\n",
    "Setting up the model"
   ]
  },
  {
   "cell_type": "code",
   "execution_count": 3,
   "id": "245c6a48",
   "metadata": {
    "execution": {
     "iopub.execute_input": "2022-03-17T11:25:02.888343Z",
     "iopub.status.busy": "2022-03-17T11:25:02.888082Z",
     "iopub.status.idle": "2022-03-17T11:25:06.781508Z",
     "shell.execute_reply": "2022-03-17T11:25:06.780437Z"
    }
   },
   "outputs": [
    {
     "name": "stdout",
     "output_type": "stream",
     "text": [
      "spatial binsize =  [0.08] deg\n"
     ]
    },
    {
     "data": {
      "image/png": "[encoded data removed]",
      "text/plain": [
       "<Figure size 432x288 with 2 Axes>"
      ]
     },
     "metadata": {
      "needs_background": "light"
     },
     "output_type": "display_data"
    }
   ],
   "source": [
    "spatial_model_NGC253 = PointSpatialModel(\n",
    "    lon_0=\"11.8875 deg\", lat_0=\"-25.2883 deg\", frame=\"icrs\"\n",
    ")\n",
    "spectral_model_NGC253 = PowerLawSpectralModel(\n",
    "    index=2.39, amplitude=\"1.34e-13 cm-2 s-1 TeV-1\", reference=\"1 TeV\"\n",
    ")\n",
    "modelNGC253 = SkyModel(\n",
    "    spatial_model=spatial_model_NGC253,\n",
    "    spectral_model=spectral_model_NGC253,\n",
    "    name=\"NGC253\",\n",
    ")\n",
    "models_NGC253 = Models([modelNGC253])\n",
    "\n",
    "bkg_model = FoVBackgroundModel(dataset_name=dataset_standard.name)\n",
    "bkg_model.parameters[\"tilt\"].frozen = False\n",
    "# models_NGC253.parameters['lon_0'].frozen = True\n",
    "# models_NGC253.parameters['lat_0'].frozen = True\n",
    "models_NGC253.append(bkg_model)\n",
    "dataset_standard.models = models_NGC253\n",
    "dataset_standard.counts.sum_over_axes().plot(add_cbar=1)\n",
    "print(\n",
    "    \"spatial binsize = \",\n",
    "    dataset_standard.geoms[\"geom\"].width[1]\n",
    "    / dataset_standard.geoms[\"geom\"].data_shape[1],\n",
    ")"
   ]
  },
  {
   "cell_type": "markdown",
   "id": "82895948",
   "metadata": {},
   "source": [
    "Performing the standard fit. "
   ]
  },
  {
   "cell_type": "code",
   "execution_count": 4,
   "id": "c39c398b",
   "metadata": {
    "execution": {
     "iopub.execute_input": "2022-03-17T11:25:06.786999Z",
     "iopub.status.busy": "2022-03-17T11:25:06.786727Z",
     "iopub.status.idle": "2022-03-17T11:25:06.848836Z",
     "shell.execute_reply": "2022-03-17T11:25:06.848003Z"
    }
   },
   "outputs": [
    {
     "name": "stderr",
     "output_type": "stream",
     "text": [
      "Position <SkyCoord (ICRS): (ra, dec) in deg\n",
      "    (17.84165947, -25.2883)> is outside valid IRF map range, using nearest IRF defined within\n",
      "Position <SkyCoord (ICRS): (ra, dec) in deg\n",
      "    (17.84165947, -25.2883)> is outside valid IRF map range, using nearest IRF defined within\n",
      "Position <SkyCoord (ICRS): (ra, dec) in deg\n",
      "    (5.93334053, -25.2883)> is outside valid IRF map range, using nearest IRF defined within\n",
      "Position <SkyCoord (ICRS): (ra, dec) in deg\n",
      "    (5.93334053, -25.2883)> is outside valid IRF map range, using nearest IRF defined within\n",
      "Position <SkyCoord (ICRS): (ra, dec) in deg\n",
      "    (11.8875, -19.26161333)> is outside valid IRF map range, using nearest IRF defined within\n",
      "Position <SkyCoord (ICRS): (ra, dec) in deg\n",
      "    (11.8875, -19.26161333)> is outside valid IRF map range, using nearest IRF defined within\n",
      "Position <SkyCoord (ICRS): (ra, dec) in deg\n",
      "    (11.8875, -31.19418343)> is outside valid IRF map range, using nearest IRF defined within\n",
      "Position <SkyCoord (ICRS): (ra, dec) in deg\n",
      "    (11.8875, -31.19418343)> is outside valid IRF map range, using nearest IRF defined within\n"
     ]
    },
    {
     "name": "stdout",
     "output_type": "stream",
     "text": [
      "<ValueView par_000_index=2.5897603058039533 par_001_amplitude=1.5055880935547743 par_002_lon_0=1.1890995595026947 par_003_lat_0=-2.530647185183313 par_004_norm=0.9717953634167651 par_005_tilt=-0.03605460335437005>\n"
     ]
    }
   ],
   "source": [
    "fit_standarad = Fit(store_trace=False)\n",
    "result_standarad = fit_standarad.run([dataset_standard])"
   ]
  },
  {
   "cell_type": "markdown",
   "id": "b969163a",
   "metadata": {},
   "source": [
    "The first two energybins of the dataset are not fitted well ..."
   ]
  },
  {
   "cell_type": "code",
   "execution_count": 5,
   "id": "398c0c7c",
   "metadata": {
    "execution": {
     "iopub.execute_input": "2022-03-17T11:25:06.853353Z",
     "iopub.status.busy": "2022-03-17T11:25:06.853111Z",
     "iopub.status.idle": "2022-03-17T11:25:07.741541Z",
     "shell.execute_reply": "2022-03-17T11:25:07.740677Z"
    }
   },
   "outputs": [
    {
     "name": "stderr",
     "output_type": "stream",
     "text": [
      "/home/hpc/caph/mppi045h/anaconda3/envs/gammapy-0.19/lib/python3.9/site-packages/astropy/visualization/wcsaxes/core.py:211: MatplotlibDeprecationWarning: Passing parameters norm and vmin/vmax simultaneously is deprecated since 3.3 and will become an error two minor releases later. Please pass vmin/vmax directly to the norm when creating it.\n",
      "  return super().imshow(X, *args, origin=origin, **kwargs)\n"
     ]
    },
    {
     "data": {
      "image/png": "[encoded data removed]",
      "text/plain": [
       "<Figure size 864x432 with 4 Axes>"
      ]
     },
     "metadata": {
      "needs_background": "light"
     },
     "output_type": "display_data"
    }
   ],
   "source": [
    "res_standard = (\n",
    "    dataset_standard.residuals(\"diff/sqrt(model)\")\n",
    "    .slice_by_idx(dict(energy=slice(4, 6)))\n",
    "    .smooth(0.1 * u.deg)\n",
    ")\n",
    "vmax = np.max(np.abs(res_standard.data))\n",
    "res_standard.plot_grid(add_cbar=1, vmax=vmax, vmin=-vmax, cmap=\"coolwarm\");"
   ]
  },
  {
   "cell_type": "markdown",
   "id": "1db20521",
   "metadata": {},
   "source": [
    "## Nuisance Parameters\n",
    "\n",
    "Here, two things are used to save computation time:\n",
    "- The nuisance parameters are computed only within the first two energybins of the analysis (index 4 and 5) exemplary to save computation time. The indices are defined as `i_start` and `i_end`. This approximation is fine since the systematic uncertainites are known to be the largest at the smaller energies. \n",
    "- The nuisance parameter have a larger binsize than the counts cube. The downsampling factor `downsampling_factor` denotes that. This way, one nuisance parameter acts on multiple neighbor bins and the systematic uncertainty is averaged over them. The geometry of this downsampled nuisance parameter cube is saved in `dataset.geoms['geom_down']`.\n",
    "\n"
   ]
  },
  {
   "cell_type": "code",
   "execution_count": 6,
   "id": "b5f18e75",
   "metadata": {
    "execution": {
     "iopub.execute_input": "2022-03-17T11:25:07.746082Z",
     "iopub.status.busy": "2022-03-17T11:25:07.745920Z",
     "iopub.status.idle": "2022-03-17T11:25:07.749910Z",
     "shell.execute_reply": "2022-03-17T11:25:07.749185Z"
    }
   },
   "outputs": [],
   "source": [
    "downsampling_factor = 10\n",
    "i_start, i_end = 4, 6"
   ]
  },
  {
   "cell_type": "markdown",
   "id": "eda44a2b",
   "metadata": {},
   "source": [
    "The `nuisance_mask` describes where in the dataset the nuisance parameters are evaulated. It has the same geometry as `dataset.geoms['geom_down']`. "
   ]
  },
  {
   "cell_type": "code",
   "execution_count": 7,
   "id": "edac2d39",
   "metadata": {
    "execution": {
     "iopub.execute_input": "2022-03-17T11:25:07.753970Z",
     "iopub.status.busy": "2022-03-17T11:25:07.753818Z",
     "iopub.status.idle": "2022-03-17T11:25:07.760078Z",
     "shell.execute_reply": "2022-03-17T11:25:07.759243Z"
    }
   },
   "outputs": [],
   "source": [
    "nuisance_mask = (\n",
    "    dataset_standard.geoms[\"geom\"]\n",
    "    .energy_mask(\n",
    "        energy_min=dataset_standard.geoms[\"geom\"].axes[0].edges[i_start],\n",
    "        energy_max=dataset_standard.geoms[\"geom\"].axes[0].edges[i_end],\n",
    "    )\n",
    "    .downsample(downsampling_factor)\n",
    ")"
   ]
  },
  {
   "cell_type": "markdown",
   "id": "c7f53ba3",
   "metadata": {},
   "source": [
    "The total amount of nuisance parameters in the dataset can now be computed (defined as `ndim_3D_nui`). The number of spatial and spectral dimensions of the nuisance parameter cube is defined as `ndim_spatial_nui` and `ndim_spectral_nui` since it is needed for the computation of the correlation matrix. Note that here the FoV is expected to be squared. \n",
    "The nuisance parameters are defined with their initial value set to `0`."
   ]
  },
  {
   "cell_type": "code",
   "execution_count": 8,
   "id": "8af782fa",
   "metadata": {
    "execution": {
     "iopub.execute_input": "2022-03-17T11:25:07.762909Z",
     "iopub.status.busy": "2022-03-17T11:25:07.762723Z",
     "iopub.status.idle": "2022-03-17T11:25:07.773489Z",
     "shell.execute_reply": "2022-03-17T11:25:07.772603Z"
    }
   },
   "outputs": [
    {
     "name": "stdout",
     "output_type": "stream",
     "text": [
      "Number of nuisance parameters: 50\n",
      "at energy: 0.32 TeV : 0.56 TeV\n"
     ]
    }
   ],
   "source": [
    "ndim_3D_nui = sum(nuisance_mask.data.flatten())\n",
    "ndim_spatial_nui_1D = (\n",
    "    dataset_standard.geoms[\"geom\"]\n",
    "    .downsample(downsampling_factor)\n",
    "    .data_shape[1]\n",
    ")\n",
    "ndim_spatial_nui = ndim_spatial_nui_1D ** 2\n",
    "ndim_spectral_nui = int(i_end - i_start)\n",
    "\n",
    "print(f\"Number of nuisance parameters: {ndim_3D_nui}\")\n",
    "print(\n",
    "    \"at energy: {:.2} : {:.2}\".format(\n",
    "        dataset_standard.geoms[\"geom\"].axes[0].edges[i_start],\n",
    "        dataset_standard.geoms[\"geom\"].axes[0].edges[i_end],\n",
    "    )\n",
    ")\n",
    "\n",
    "Nuisance_parameters = Parameters(\n",
    "    [\n",
    "        Parameter(name=\"db\" + str(i), value=0, frozen=False)\n",
    "        for i in range(ndim_3D_nui)\n",
    "    ]\n",
    ")"
   ]
  },
  {
   "cell_type": "markdown",
   "id": "85cd9b49",
   "metadata": {},
   "source": [
    "## Correlation of Nuisance Parameters"
   ]
  },
  {
   "cell_type": "markdown",
   "id": "4e2504cd",
   "metadata": {},
   "source": [
    "The Gaussian correlation matrix is the kronecker product of the spatial $K_{ij}$ and the spectral correlation matrix $K_{e}$: \\\n",
    "$ K_{ije} = K_{e} \\cdot K_{ij} $\n",
    "\n",
    "The spatial correlation matrix is defined as follows:\n",
    "\n",
    "$K_{ij} = \\exp \\left( \\frac{ -  (r_i - r_j ) ^2} {2\\cdot l_{corr}^2}    \\right)$,\\\n",
    "where $l_{corr}$ describes the spatial correlation length. Note that the correlation amplitude in the spatial correlation matrix is set to $1$. This is due to the fact, that we assume in the first order a uniformly distributed systematic uncertainty over the FoV. The correaltion amplitude was evaluated over the summed up FoV for each of the energybins and is therefore used in the spectral correlation desciption only.\n",
    "\n",
    "The spectral correaltion matrix is:\n",
    "\n",
    "$K_{s} = \\sigma_s $, \\\n",
    "where $\\sigma_s$ is the correlation amplitude in the spectral bin $s$. Note that here the correlation is in fact not Gaussian and there is no correlation between the energy bins. The correaltion is intrinsically included in the way the spectral correlation amplitude is defined. \n",
    "\n",
    "\n",
    "Therefor for the Gaussian correlation matrix $K_{ije}$ of the nuisance parameter one needs two parameters:\n",
    "- `l_corr`: the spatial correlation length in deg. For instance, a Fourier transformation of the residual map of the standard analysis can be used to estimate the correlation length. Generally, it is important to choose a correaltion length greater than the bin size of the counts cube to avoid fitting the nuisance parameters without any correlation which can lead to overfitting the data. \n",
    "- `sysamplitude`: list of correlation amplitudes for the different energybins. The strength of the systematics can be estimated of the spectral residual points when taking only the OFF regions of all runs into account. Here, these obtained values are divided by the amount of spatial bins they were computed for.   "
   ]
  },
  {
   "cell_type": "code",
   "execution_count": 9,
   "id": "ada65005",
   "metadata": {
    "execution": {
     "iopub.execute_input": "2022-03-17T11:25:07.776943Z",
     "iopub.status.busy": "2022-03-17T11:25:07.776761Z",
     "iopub.status.idle": "2022-03-17T11:25:07.780451Z",
     "shell.execute_reply": "2022-03-17T11:25:07.779702Z"
    }
   },
   "outputs": [],
   "source": [
    "l_corr = 0.8\n",
    "sysamplitude = [11, 4 ,4,4] / ndim_spatial_nui"
   ]
  },
  {
   "cell_type": "markdown",
   "id": "24c8295b",
   "metadata": {},
   "source": [
    "The `sysamplitude` can also be expressed in terms of expected counts due to systematic uncertainties in one energy bin and in terms of percent of the background counts. "
   ]
  },
  {
   "cell_type": "code",
   "execution_count": 19,
   "id": "9a731577",
   "metadata": {
    "execution": {
     "iopub.execute_input": "2022-03-17T11:25:07.784101Z",
     "iopub.status.busy": "2022-03-17T11:25:07.783873Z",
     "iopub.status.idle": "2022-03-17T11:25:07.795138Z",
     "shell.execute_reply": "2022-03-17T11:25:07.794268Z"
    }
   },
   "outputs": [
    {
     "name": "stdout",
     "output_type": "stream",
     "text": [
      "[105358.02   87287.625]\n",
      "Estimated systematic uncertainty: \n",
      "\n",
      "Ebin                 [Counts]          [% BG]\n",
      "0.32 : 0.42 TeV           3.57e+03               3.39  \n",
      "0.42 : 0.56 TeV           1.18e+03               1.35  \n"
     ]
    }
   ],
   "source": [
    "bg = (\n",
    "    dataset_standard.background.slice_by_idx(\n",
    "        dict(energy=slice(i_start, i_end))\n",
    "    )\n",
    "    .data.sum(axis=2)\n",
    "    .sum(axis=1)\n",
    ")\n",
    "print(bg)\n",
    "print(\"Estimated systematic uncertainty: \")\n",
    "print()\n",
    "print(\"Ebin                 [Counts]          [% BG]\")\n",
    "\n",
    "for e in range(ndim_spectral_nui):\n",
    "    e_start, e_end = (\n",
    "        dataset_standard.geoms[\"geom\"].axes[0].edges[i_start + e],\n",
    "        dataset_standard.geoms[\"geom\"].axes[0].edges[i_start + e + 1],\n",
    "    )\n",
    "    sys_counts = sysamplitude[e] * ndim_spatial_nui * np.sqrt(bg[e])\n",
    "    sys_percent = sys_counts / bg[e]\n",
    "\n",
    "    print(\n",
    "        \"{:.2} : {:.2} TeV           {:.3}               {:.3}  \".format(\n",
    "            e_start.value, e_end.value, sys_counts, sys_percent * 100\n",
    "        )\n",
    "    )"
   ]
  },
  {
   "cell_type": "markdown",
   "id": "f29931a3",
   "metadata": {},
   "source": [
    "The spatial correlation matrix is computed with two helper maps to compute the separation angle between two spatial bins. Afterwards, the systematic amplitude is set as the diagonal of the spectral correlation matrix and the kroneker product of the two is returned as the overall correlation matrix. "
   ]
  },
  {
   "cell_type": "code",
   "execution_count": 11,
   "id": "8ce2a4c0",
   "metadata": {
    "execution": {
     "iopub.execute_input": "2022-03-17T11:25:07.798679Z",
     "iopub.status.busy": "2022-03-17T11:25:07.798368Z",
     "iopub.status.idle": "2022-03-17T11:25:07.809798Z",
     "shell.execute_reply": "2022-03-17T11:25:07.809126Z"
    }
   },
   "outputs": [],
   "source": [
    "geom_down = nuisance_mask.geom\n",
    "helper_map = Map.from_geom(geom_down).slice_by_idx(dict(energy=slice(0, 1)))\n",
    "helper_map2 = helper_map.copy()\n",
    "\n",
    "\n",
    "def compute_K_matrix(l_deg):\n",
    "    corr_matrix_spatial = np.identity(ndim_spatial_nui)\n",
    "    for b_0 in range(ndim_spatial_nui_1D):\n",
    "        for l_0 in range(ndim_spatial_nui_1D):\n",
    "            i = b_0 * ndim_spatial_nui_1D + l_0\n",
    "            C = SkyCoord(\n",
    "                helper_map.geom.pix_to_coord((l_0, b_0, 0))[0],\n",
    "                helper_map.geom.pix_to_coord((l_0, b_0, 0))[1],\n",
    "                frame=geom_down.frame,\n",
    "            )\n",
    "            helper_map.data[0, :, :] = C.separation(\n",
    "                geom_down.to_image().get_coord().skycoord\n",
    "            ).value\n",
    "            helper_map2.data = np.zeros(ndim_spatial_nui_1D ** 2).reshape(\n",
    "                helper_map2.geom.data_shape\n",
    "            )\n",
    "            helper_map2.data[0, :, :] = np.exp(\n",
    "                -0.5 * helper_map.data[0, :, :] ** 2 / l_deg ** 2\n",
    "            )\n",
    "            corr_matrix_spatial[i, :] = helper_map2.data.flatten()\n",
    "\n",
    "    corr_matrix_spectral = np.identity(ndim_spectral_nui)\n",
    "    for e in range((ndim_spectral_nui)):\n",
    "        corr_matrix_spectral[e, e] = sysamplitude[e] ** 2\n",
    "    return np.kron(corr_matrix_spectral, corr_matrix_spatial)"
   ]
  },
  {
   "cell_type": "code",
   "execution_count": 12,
   "id": "4ac25831",
   "metadata": {
    "execution": {
     "iopub.execute_input": "2022-03-17T11:25:07.813611Z",
     "iopub.status.busy": "2022-03-17T11:25:07.813406Z",
     "iopub.status.idle": "2022-03-17T11:25:08.111207Z",
     "shell.execute_reply": "2022-03-17T11:25:08.110418Z"
    }
   },
   "outputs": [
    {
     "data": {
      "image/png": "[encoded data removed]",
      "text/plain": [
       "<Figure size 432x288 with 2 Axes>"
      ]
     },
     "metadata": {
      "needs_background": "light"
     },
     "output_type": "display_data"
    }
   ],
   "source": [
    "correlation_matrix = compute_K_matrix(l_corr)\n",
    "fig = plt.figure()\n",
    "ax = fig.add_subplot(111)\n",
    "cax = ax.matshow(correlation_matrix)  # interpolation='nearest')\n",
    "fig.colorbar(cax);"
   ]
  },
  {
   "cell_type": "markdown",
   "id": "b0334e7d",
   "metadata": {},
   "source": [
    "# Initiate the MapDatasetNuisance\n",
    "\n",
    "The MapDatasetNuisance class takes in addition to the MapDataset class:\n",
    "- `inv_corr_matrix`: The inverse of the correlation matrix \n",
    "- ` N_parameters`: The nuisance parameters\n",
    "- `nuisance_mask`: Mask to help evaluating the nuisance parameters in the background prediction"
   ]
  },
  {
   "cell_type": "code",
   "execution_count": 13,
   "id": "bb021588",
   "metadata": {
    "execution": {
     "iopub.execute_input": "2022-03-17T11:25:08.115389Z",
     "iopub.status.busy": "2022-03-17T11:25:08.115234Z",
     "iopub.status.idle": "2022-03-17T11:25:08.344031Z",
     "shell.execute_reply": "2022-03-17T11:25:08.343240Z"
    }
   },
   "outputs": [
    {
     "name": "stdout",
     "output_type": "stream",
     "text": [
      "MapDatasetNuisance\n",
      "------------------\n",
      "\n",
      "  Name                            : vziHl6su \n",
      "\n",
      "  Total counts                    : 351832 \n",
      "  Total background counts         : 367072.25\n",
      "  Total excess counts             : -15240.25\n",
      "\n",
      "  Predicted counts                : 367401.71\n",
      "  Predicted background counts     : 367072.23\n",
      "  Predicted excess counts         : 329.48\n",
      "\n",
      "  Exposure min                    : 3.07e+05 m2 s\n",
      "  Exposure max                    : 1.28e+11 m2 s\n",
      "\n",
      "  Number of total bins            : 60000 \n",
      "  Number of fit bins              : 50000 \n",
      "\n",
      "  Fit statistic type              : cash\n",
      "  Fit statistic value (-2 log(L)) : -1486963.94\n",
      "\n",
      "  Number of models                : 2 \n",
      "  Number of parameters            : 8\n",
      "  Number of free parameters       : 6\n",
      "\n",
      "  Component 0: SkyModel\n",
      "  \n",
      "    Name                      : NGC253\n",
      "    Datasets names            : None\n",
      "    Spectral model type       : PowerLawSpectralModel\n",
      "    Spatial  model type       : PointSpatialModel\n",
      "    Temporal model type       : \n",
      "    Parameters:\n",
      "      index                   :      2.590   +/-    0.17             \n",
      "      amplitude               :   1.51e-13   +/- 2.4e-14 1 / (cm2 s TeV)\n",
      "      reference    (frozen)   :      1.000       TeV         \n",
      "      lon_0                   :     11.891   +/-    0.01 deg         \n",
      "      lat_0                   :    -25.306   +/-    0.01 deg         \n",
      "  \n",
      "  Component 1: FoVBackgroundModel\n",
      "  \n",
      "    Name                      : vziHl6su-bkg\n",
      "    Datasets names            : ['vziHl6su']\n",
      "    Spectral model type       : PowerLawNormSpectralModel\n",
      "    Parameters:\n",
      "      norm                    :      1.000   +/-    0.00             \n",
      "      tilt                    :      0.000   +/-    0.00             \n",
      "      reference    (frozen)   :      1.000       TeV         \n",
      "  \n",
      "    Number of Nuisance parameters   : 50\n",
      "  Number of free Nuisance parameters: 50\n",
      "\n",
      "\n"
     ]
    }
   ],
   "source": [
    "dataset_N = MapDatasetNuisance(\n",
    "    background=dataset_standard.background,\n",
    "    exposure=dataset_standard.exposure,\n",
    "    psf=dataset_standard.psf,\n",
    "    edisp=dataset_standard.edisp,\n",
    "    mask_fit=dataset_standard.mask_fit,\n",
    "    mask_safe=dataset_standard.mask_safe,\n",
    "    counts=dataset_standard.counts,\n",
    "    inv_corr_matrix=np.linalg.inv(correlation_matrix),\n",
    "    N_parameters=Nuisance_parameters,\n",
    "    nuisance_mask=nuisance_mask,\n",
    ")\n",
    "\n",
    "bkg_model = FoVBackgroundModel(dataset_name=dataset_N.name)\n",
    "bkg_model.parameters[\"tilt\"].frozen = False\n",
    "models_NGC253.append(bkg_model)\n",
    "dataset_N.models = models_NGC253\n",
    "print(dataset_N)"
   ]
  },
  {
   "cell_type": "markdown",
   "id": "aca96f5d",
   "metadata": {},
   "source": [
    "## Running the Fit"
   ]
  },
  {
   "cell_type": "code",
   "execution_count": 14,
   "id": "de597f8b",
   "metadata": {
    "execution": {
     "iopub.execute_input": "2022-03-17T11:25:08.347607Z",
     "iopub.status.busy": "2022-03-17T11:25:08.347431Z",
     "iopub.status.idle": "2022-03-17T11:25:08.364131Z",
     "shell.execute_reply": "2022-03-17T11:25:08.363341Z"
    }
   },
   "outputs": [
    {
     "ename": "KeyboardInterrupt",
     "evalue": "",
     "output_type": "error",
     "traceback": [
      "\u001b[0;31m---------------------------------------------------------------------------\u001b[0m",
      "\u001b[0;31mKeyboardInterrupt\u001b[0m                         Traceback (most recent call last)",
      "\u001b[0;32m/tmp/ipykernel_19166/2676044302.py\u001b[0m in \u001b[0;36m<module>\u001b[0;34m\u001b[0m\n\u001b[1;32m      1\u001b[0m \u001b[0mfit_N\u001b[0m \u001b[0;34m=\u001b[0m \u001b[0mFit\u001b[0m\u001b[0;34m(\u001b[0m\u001b[0mstore_trace\u001b[0m\u001b[0;34m=\u001b[0m\u001b[0;32mFalse\u001b[0m\u001b[0;34m)\u001b[0m\u001b[0;34m\u001b[0m\u001b[0;34m\u001b[0m\u001b[0m\n\u001b[0;32m----> 2\u001b[0;31m \u001b[0mresult_N\u001b[0m \u001b[0;34m=\u001b[0m \u001b[0mfit_N\u001b[0m\u001b[0;34m.\u001b[0m\u001b[0mrun\u001b[0m\u001b[0;34m(\u001b[0m\u001b[0;34m[\u001b[0m\u001b[0mdataset_N\u001b[0m\u001b[0;34m]\u001b[0m\u001b[0;34m)\u001b[0m\u001b[0;34m\u001b[0m\u001b[0;34m\u001b[0m\u001b[0m\n\u001b[0m",
      "\u001b[0;32m~/3D_analysis/N_parameters_in_L/syserror_3d_bkgmodel/4-Fitting_nuisance_and_model_parameters/my_fit_19.py\u001b[0m in \u001b[0;36mrun\u001b[0;34m(self, datasets)\u001b[0m\n\u001b[1;32m    160\u001b[0m             \u001b[0mFit\u001b[0m \u001b[0mresult\u001b[0m\u001b[0;34m\u001b[0m\u001b[0;34m\u001b[0m\u001b[0m\n\u001b[1;32m    161\u001b[0m         \"\"\"\n\u001b[0;32m--> 162\u001b[0;31m         \u001b[0moptimize_result\u001b[0m \u001b[0;34m=\u001b[0m \u001b[0mself\u001b[0m\u001b[0;34m.\u001b[0m\u001b[0moptimize\u001b[0m\u001b[0;34m(\u001b[0m\u001b[0mdatasets\u001b[0m\u001b[0;34m=\u001b[0m\u001b[0mdatasets\u001b[0m\u001b[0;34m)\u001b[0m\u001b[0;34m\u001b[0m\u001b[0;34m\u001b[0m\u001b[0m\n\u001b[0m\u001b[1;32m    163\u001b[0m \u001b[0;34m\u001b[0m\u001b[0m\n\u001b[1;32m    164\u001b[0m         \u001b[0;32mif\u001b[0m \u001b[0mself\u001b[0m\u001b[0;34m.\u001b[0m\u001b[0mbackend\u001b[0m \u001b[0;32mnot\u001b[0m \u001b[0;32min\u001b[0m \u001b[0mregistry\u001b[0m\u001b[0;34m.\u001b[0m\u001b[0mregister\u001b[0m\u001b[0;34m[\u001b[0m\u001b[0;34m\"covariance\"\u001b[0m\u001b[0;34m]\u001b[0m\u001b[0;34m:\u001b[0m\u001b[0;34m\u001b[0m\u001b[0;34m\u001b[0m\u001b[0m\n",
      "\u001b[0;32m~/3D_analysis/N_parameters_in_L/syserror_3d_bkgmodel/4-Fitting_nuisance_and_model_parameters/my_fit_19.py\u001b[0m in \u001b[0;36moptimize\u001b[0;34m(self, datasets)\u001b[0m\n\u001b[1;32m    200\u001b[0m         \u001b[0;31m# probably should pass a fit statistic, which has a model, which has parameters\u001b[0m\u001b[0;34m\u001b[0m\u001b[0;34m\u001b[0m\u001b[0m\n\u001b[1;32m    201\u001b[0m         \u001b[0;31m# and return something simpler, not a tuple of three things\u001b[0m\u001b[0;34m\u001b[0m\u001b[0;34m\u001b[0m\u001b[0m\n\u001b[0;32m--> 202\u001b[0;31m         factors, info, optimizer = compute(\n\u001b[0m\u001b[1;32m    203\u001b[0m             \u001b[0mparameters\u001b[0m\u001b[0;34m=\u001b[0m\u001b[0mparameters\u001b[0m\u001b[0;34m,\u001b[0m\u001b[0;34m\u001b[0m\u001b[0;34m\u001b[0m\u001b[0m\n\u001b[1;32m    204\u001b[0m             \u001b[0mfunction\u001b[0m\u001b[0;34m=\u001b[0m\u001b[0mdatasets\u001b[0m\u001b[0;34m.\u001b[0m\u001b[0mstat_sum\u001b[0m\u001b[0;34m,\u001b[0m\u001b[0;34m\u001b[0m\u001b[0;34m\u001b[0m\u001b[0m\n",
      "\u001b[0;32m~/anaconda3/envs/gammapy-0.19/lib/python3.9/site-packages/gammapy/modeling/iminuit.py\u001b[0m in \u001b[0;36moptimize_iminuit\u001b[0;34m(parameters, function, store_trace, **kwargs)\u001b[0m\n\u001b[1;32m     78\u001b[0m     )\n\u001b[1;32m     79\u001b[0m \u001b[0;34m\u001b[0m\u001b[0m\n\u001b[0;32m---> 80\u001b[0;31m     \u001b[0mminuit\u001b[0m\u001b[0;34m.\u001b[0m\u001b[0mmigrad\u001b[0m\u001b[0;34m(\u001b[0m\u001b[0;34m**\u001b[0m\u001b[0mmigrad_opts\u001b[0m\u001b[0;34m)\u001b[0m\u001b[0;34m\u001b[0m\u001b[0;34m\u001b[0m\u001b[0m\n\u001b[0m\u001b[1;32m     81\u001b[0m \u001b[0;34m\u001b[0m\u001b[0m\n\u001b[1;32m     82\u001b[0m     \u001b[0mfactors\u001b[0m \u001b[0;34m=\u001b[0m \u001b[0mminuit\u001b[0m\u001b[0;34m.\u001b[0m\u001b[0mvalues\u001b[0m\u001b[0;34m\u001b[0m\u001b[0;34m\u001b[0m\u001b[0m\n",
      "\u001b[0;32m~/anaconda3/envs/gammapy-0.19/lib/python3.9/site-packages/iminuit/minuit.py\u001b[0m in \u001b[0;36mmigrad\u001b[0;34m(self, ncall, iterate)\u001b[0m\n\u001b[1;32m    681\u001b[0m             \u001b[0;32mif\u001b[0m \u001b[0mself\u001b[0m\u001b[0;34m.\u001b[0m\u001b[0m_precision\u001b[0m \u001b[0;32mis\u001b[0m \u001b[0;32mnot\u001b[0m \u001b[0;32mNone\u001b[0m\u001b[0;34m:\u001b[0m\u001b[0;34m\u001b[0m\u001b[0;34m\u001b[0m\u001b[0m\n\u001b[1;32m    682\u001b[0m                 \u001b[0mmigrad\u001b[0m\u001b[0;34m.\u001b[0m\u001b[0mprecision\u001b[0m \u001b[0;34m=\u001b[0m \u001b[0mself\u001b[0m\u001b[0;34m.\u001b[0m\u001b[0m_precision\u001b[0m\u001b[0;34m\u001b[0m\u001b[0;34m\u001b[0m\u001b[0m\n\u001b[0;32m--> 683\u001b[0;31m             \u001b[0mfm\u001b[0m \u001b[0;34m=\u001b[0m \u001b[0mmigrad\u001b[0m\u001b[0;34m(\u001b[0m\u001b[0mncall\u001b[0m\u001b[0;34m,\u001b[0m \u001b[0mself\u001b[0m\u001b[0;34m.\u001b[0m\u001b[0m_tolerance\u001b[0m\u001b[0;34m)\u001b[0m\u001b[0;34m\u001b[0m\u001b[0;34m\u001b[0m\u001b[0m\n\u001b[0m\u001b[1;32m    684\u001b[0m             \u001b[0;32mif\u001b[0m \u001b[0mfm\u001b[0m\u001b[0;34m.\u001b[0m\u001b[0mis_valid\u001b[0m \u001b[0;32mor\u001b[0m \u001b[0mfm\u001b[0m\u001b[0;34m.\u001b[0m\u001b[0mhas_reached_call_limit\u001b[0m\u001b[0;34m:\u001b[0m\u001b[0;34m\u001b[0m\u001b[0;34m\u001b[0m\u001b[0m\n\u001b[1;32m    685\u001b[0m                 \u001b[0;32mbreak\u001b[0m\u001b[0;34m\u001b[0m\u001b[0;34m\u001b[0m\u001b[0m\n",
      "\u001b[0;32m~/anaconda3/envs/gammapy-0.19/lib/python3.9/site-packages/gammapy/modeling/iminuit.py\u001b[0m in \u001b[0;36mfcn\u001b[0;34m(self, *factors)\u001b[0m\n\u001b[1;32m     22\u001b[0m         \u001b[0mself\u001b[0m\u001b[0;34m.\u001b[0m\u001b[0mparameters\u001b[0m\u001b[0;34m.\u001b[0m\u001b[0mset_parameter_factors\u001b[0m\u001b[0;34m(\u001b[0m\u001b[0mfactors\u001b[0m\u001b[0;34m)\u001b[0m\u001b[0;34m\u001b[0m\u001b[0;34m\u001b[0m\u001b[0m\n\u001b[1;32m     23\u001b[0m \u001b[0;34m\u001b[0m\u001b[0m\n\u001b[0;32m---> 24\u001b[0;31m         \u001b[0mtotal_stat\u001b[0m \u001b[0;34m=\u001b[0m \u001b[0mself\u001b[0m\u001b[0;34m.\u001b[0m\u001b[0mfunction\u001b[0m\u001b[0;34m(\u001b[0m\u001b[0;34m)\u001b[0m\u001b[0;34m\u001b[0m\u001b[0;34m\u001b[0m\u001b[0m\n\u001b[0m\u001b[1;32m     25\u001b[0m \u001b[0;34m\u001b[0m\u001b[0m\n\u001b[1;32m     26\u001b[0m         \u001b[0;32mif\u001b[0m \u001b[0mself\u001b[0m\u001b[0;34m.\u001b[0m\u001b[0mstore_trace\u001b[0m\u001b[0;34m:\u001b[0m\u001b[0;34m\u001b[0m\u001b[0;34m\u001b[0m\u001b[0m\n",
      "\u001b[0;32m~/3D_analysis/N_parameters_in_L/syserror_3d_bkgmodel/4-Fitting_nuisance_and_model_parameters/my_dataset_core_19.py\u001b[0m in \u001b[0;36mstat_sum\u001b[0;34m(self)\u001b[0m\n\u001b[1;32m    242\u001b[0m         \u001b[0;31m# TODO: add parallel evaluation of likelihoods\u001b[0m\u001b[0;34m\u001b[0m\u001b[0;34m\u001b[0m\u001b[0m\n\u001b[1;32m    243\u001b[0m         \u001b[0;32mfor\u001b[0m \u001b[0mdataset\u001b[0m \u001b[0;32min\u001b[0m \u001b[0mself\u001b[0m\u001b[0;34m:\u001b[0m\u001b[0;34m\u001b[0m\u001b[0;34m\u001b[0m\u001b[0m\n\u001b[0;32m--> 244\u001b[0;31m             \u001b[0mstat_sum\u001b[0m \u001b[0;34m+=\u001b[0m \u001b[0mdataset\u001b[0m\u001b[0;34m.\u001b[0m\u001b[0mstat_sum\u001b[0m\u001b[0;34m(\u001b[0m\u001b[0;34m)\u001b[0m\u001b[0;34m\u001b[0m\u001b[0;34m\u001b[0m\u001b[0m\n\u001b[0m\u001b[1;32m    245\u001b[0m         \u001b[0;32mreturn\u001b[0m \u001b[0mstat_sum\u001b[0m\u001b[0;34m\u001b[0m\u001b[0;34m\u001b[0m\u001b[0m\n\u001b[1;32m    246\u001b[0m \u001b[0;34m\u001b[0m\u001b[0m\n",
      "\u001b[0;32m~/3D_analysis/N_parameters_in_L/syserror_3d_bkgmodel/4-Fitting_nuisance_and_model_parameters/my_dataset_maps_19.py\u001b[0m in \u001b[0;36mstat_sum\u001b[0;34m(self)\u001b[0m\n\u001b[1;32m   2121\u001b[0m     \u001b[0;32mdef\u001b[0m \u001b[0mstat_sum\u001b[0m\u001b[0;34m(\u001b[0m\u001b[0mself\u001b[0m\u001b[0;34m)\u001b[0m\u001b[0;34m:\u001b[0m\u001b[0;34m\u001b[0m\u001b[0;34m\u001b[0m\u001b[0m\n\u001b[1;32m   2122\u001b[0m         \u001b[0;34m\"\"\"Total likelihood given the current model parameters + Gaussian of N parameters.\"\"\"\u001b[0m\u001b[0;34m\u001b[0m\u001b[0;34m\u001b[0m\u001b[0m\n\u001b[0;32m-> 2123\u001b[0;31m         \u001b[0mcounts\u001b[0m\u001b[0;34m,\u001b[0m \u001b[0mnpred\u001b[0m \u001b[0;34m=\u001b[0m \u001b[0mself\u001b[0m\u001b[0;34m.\u001b[0m\u001b[0mcounts\u001b[0m\u001b[0;34m.\u001b[0m\u001b[0mdata\u001b[0m\u001b[0;34m.\u001b[0m\u001b[0mastype\u001b[0m\u001b[0;34m(\u001b[0m\u001b[0mfloat\u001b[0m\u001b[0;34m)\u001b[0m\u001b[0;34m,\u001b[0m \u001b[0mself\u001b[0m\u001b[0;34m.\u001b[0m\u001b[0mnpred\u001b[0m\u001b[0;34m(\u001b[0m\u001b[0;34m)\u001b[0m\u001b[0;34m.\u001b[0m\u001b[0mdata\u001b[0m\u001b[0;34m\u001b[0m\u001b[0;34m\u001b[0m\u001b[0m\n\u001b[0m\u001b[1;32m   2124\u001b[0m         \u001b[0mG\u001b[0m \u001b[0;34m=\u001b[0m  \u001b[0mnp\u001b[0m\u001b[0;34m.\u001b[0m\u001b[0mmatmul\u001b[0m\u001b[0;34m(\u001b[0m\u001b[0mnp\u001b[0m\u001b[0;34m.\u001b[0m\u001b[0mmatmul\u001b[0m\u001b[0;34m(\u001b[0m\u001b[0mself\u001b[0m\u001b[0;34m.\u001b[0m\u001b[0minv_corr_matrix\u001b[0m   \u001b[0;34m,\u001b[0m\u001b[0mself\u001b[0m\u001b[0;34m.\u001b[0m\u001b[0mN_parameters\u001b[0m\u001b[0;34m.\u001b[0m\u001b[0mvalue\u001b[0m\u001b[0;34m.\u001b[0m\u001b[0mflatten\u001b[0m\u001b[0;34m(\u001b[0m\u001b[0;34m)\u001b[0m \u001b[0;34m)\u001b[0m\u001b[0;34m,\u001b[0m\u001b[0mself\u001b[0m\u001b[0;34m.\u001b[0m\u001b[0mN_parameters\u001b[0m\u001b[0;34m.\u001b[0m\u001b[0mvalue\u001b[0m\u001b[0;34m.\u001b[0m\u001b[0mflatten\u001b[0m\u001b[0;34m(\u001b[0m\u001b[0;34m)\u001b[0m \u001b[0;34m)\u001b[0m\u001b[0;34m\u001b[0m\u001b[0;34m\u001b[0m\u001b[0m\n\u001b[1;32m   2125\u001b[0m         \u001b[0;32mif\u001b[0m \u001b[0mself\u001b[0m\u001b[0;34m.\u001b[0m\u001b[0mmask\u001b[0m \u001b[0;32mis\u001b[0m \u001b[0;32mnot\u001b[0m \u001b[0;32mNone\u001b[0m\u001b[0;34m:\u001b[0m\u001b[0;34m\u001b[0m\u001b[0;34m\u001b[0m\u001b[0m\n",
      "\u001b[0;32m~/3D_analysis/N_parameters_in_L/syserror_3d_bkgmodel/4-Fitting_nuisance_and_model_parameters/my_dataset_maps_19.py\u001b[0m in \u001b[0;36mnpred\u001b[0;34m(self)\u001b[0m\n\u001b[1;32m    433\u001b[0m \u001b[0;34m\u001b[0m\u001b[0m\n\u001b[1;32m    434\u001b[0m         \u001b[0;32mif\u001b[0m \u001b[0mself\u001b[0m\u001b[0;34m.\u001b[0m\u001b[0mbackground\u001b[0m\u001b[0;34m:\u001b[0m\u001b[0;34m\u001b[0m\u001b[0;34m\u001b[0m\u001b[0m\n\u001b[0;32m--> 435\u001b[0;31m             \u001b[0mnpred_total\u001b[0m \u001b[0;34m+=\u001b[0m \u001b[0mself\u001b[0m\u001b[0;34m.\u001b[0m\u001b[0mnpred_background\u001b[0m\u001b[0;34m(\u001b[0m\u001b[0;34m)\u001b[0m\u001b[0;34m\u001b[0m\u001b[0;34m\u001b[0m\u001b[0m\n\u001b[0m\u001b[1;32m    436\u001b[0m         \u001b[0mnpred_total\u001b[0m\u001b[0;34m.\u001b[0m\u001b[0mdata\u001b[0m\u001b[0;34m[\u001b[0m\u001b[0mnpred_total\u001b[0m\u001b[0;34m.\u001b[0m\u001b[0mdata\u001b[0m \u001b[0;34m<\u001b[0m \u001b[0;36m0.0\u001b[0m\u001b[0;34m]\u001b[0m \u001b[0;34m=\u001b[0m \u001b[0;36m0\u001b[0m\u001b[0;34m\u001b[0m\u001b[0;34m\u001b[0m\u001b[0m\n\u001b[1;32m    437\u001b[0m         \u001b[0;32mreturn\u001b[0m \u001b[0mnpred_total\u001b[0m\u001b[0;34m\u001b[0m\u001b[0;34m\u001b[0m\u001b[0m\n",
      "\u001b[0;32m~/3D_analysis/N_parameters_in_L/syserror_3d_bkgmodel/4-Fitting_nuisance_and_model_parameters/my_dataset_maps_19.py\u001b[0m in \u001b[0;36mnpred_background\u001b[0;34m(self)\u001b[0m\n\u001b[1;32m   2087\u001b[0m                     \u001b[0mself\u001b[0m\u001b[0;34m.\u001b[0m\u001b[0m_background_cached\u001b[0m\u001b[0;34m.\u001b[0m\u001b[0munit\u001b[0m \u001b[0;34m=\u001b[0m \u001b[0mbackground\u001b[0m\u001b[0;34m.\u001b[0m\u001b[0munit\u001b[0m\u001b[0;34m\u001b[0m\u001b[0;34m\u001b[0m\u001b[0m\n\u001b[1;32m   2088\u001b[0m             \u001b[0;32mif\u001b[0m \u001b[0mself\u001b[0m\u001b[0;34m.\u001b[0m\u001b[0mN_parameters\u001b[0m \u001b[0;32mis\u001b[0m \u001b[0;32mnot\u001b[0m \u001b[0;32mNone\u001b[0m\u001b[0;34m:\u001b[0m\u001b[0;34m\u001b[0m\u001b[0;34m\u001b[0m\u001b[0m\n\u001b[0;32m-> 2089\u001b[0;31m                 \u001b[0mself\u001b[0m\u001b[0;34m.\u001b[0m\u001b[0m_background_cached\u001b[0m\u001b[0;34m.\u001b[0m\u001b[0mdata\u001b[0m \u001b[0;34m=\u001b[0m \u001b[0mself\u001b[0m\u001b[0;34m.\u001b[0m\u001b[0m_background_cached\u001b[0m\u001b[0;34m.\u001b[0m\u001b[0mdata\u001b[0m\u001b[0;34m*\u001b[0m \u001b[0;34m(\u001b[0m\u001b[0;36m1\u001b[0m\u001b[0;34m+\u001b[0m \u001b[0mself\u001b[0m\u001b[0;34m.\u001b[0m\u001b[0mN_map\u001b[0m\u001b[0;34m(\u001b[0m\u001b[0;34m)\u001b[0m\u001b[0;34m.\u001b[0m\u001b[0mdata\u001b[0m\u001b[0;34m)\u001b[0m\u001b[0;34m\u001b[0m\u001b[0;34m\u001b[0m\u001b[0m\n\u001b[0m\u001b[1;32m   2090\u001b[0m             \u001b[0;32mreturn\u001b[0m \u001b[0mself\u001b[0m\u001b[0;34m.\u001b[0m\u001b[0m_background_cached\u001b[0m\u001b[0;34m\u001b[0m\u001b[0;34m\u001b[0m\u001b[0m\n\u001b[1;32m   2091\u001b[0m         \u001b[0;32melse\u001b[0m\u001b[0;34m:\u001b[0m\u001b[0;34m\u001b[0m\u001b[0;34m\u001b[0m\u001b[0m\n",
      "\u001b[0;32m~/3D_analysis/N_parameters_in_L/syserror_3d_bkgmodel/4-Fitting_nuisance_and_model_parameters/my_dataset_maps_19.py\u001b[0m in \u001b[0;36mN_map\u001b[0;34m(self)\u001b[0m\n\u001b[1;32m   2109\u001b[0m             \u001b[0mN_map\u001b[0m\u001b[0;34m.\u001b[0m\u001b[0mdata\u001b[0m\u001b[0;34m[\u001b[0m\u001b[0mnp\u001b[0m\u001b[0;34m.\u001b[0m\u001b[0mwhere\u001b[0m\u001b[0;34m(\u001b[0m\u001b[0mself\u001b[0m\u001b[0;34m.\u001b[0m\u001b[0mnuisance_mask\u001b[0m\u001b[0;34m==\u001b[0m \u001b[0;32mTrue\u001b[0m\u001b[0;34m)\u001b[0m\u001b[0;34m]\u001b[0m \u001b[0;34m=\u001b[0m \u001b[0mself\u001b[0m\u001b[0;34m.\u001b[0m\u001b[0mN_parameters\u001b[0m\u001b[0;34m.\u001b[0m\u001b[0mvalue\u001b[0m\u001b[0;34m\u001b[0m\u001b[0;34m\u001b[0m\u001b[0m\n\u001b[1;32m   2110\u001b[0m             \u001b[0mfac\u001b[0m \u001b[0;34m=\u001b[0m \u001b[0mint\u001b[0m\u001b[0;34m(\u001b[0m\u001b[0mself\u001b[0m\u001b[0;34m.\u001b[0m\u001b[0mgeoms\u001b[0m\u001b[0;34m[\u001b[0m\u001b[0;34m'geom'\u001b[0m\u001b[0;34m]\u001b[0m\u001b[0;34m.\u001b[0m\u001b[0mdata_shape\u001b[0m\u001b[0;34m[\u001b[0m\u001b[0;36m1\u001b[0m\u001b[0;34m]\u001b[0m \u001b[0;34m/\u001b[0m \u001b[0mself\u001b[0m\u001b[0;34m.\u001b[0m\u001b[0mgeoms\u001b[0m\u001b[0;34m[\u001b[0m\u001b[0;34m'geom_down'\u001b[0m\u001b[0;34m]\u001b[0m\u001b[0;34m.\u001b[0m\u001b[0mdata_shape\u001b[0m\u001b[0;34m[\u001b[0m\u001b[0;36m1\u001b[0m\u001b[0;34m]\u001b[0m\u001b[0;34m)\u001b[0m\u001b[0;34m\u001b[0m\u001b[0;34m\u001b[0m\u001b[0m\n\u001b[0;32m-> 2111\u001b[0;31m             \u001b[0mN_map\u001b[0m \u001b[0;34m=\u001b[0m \u001b[0mN_map\u001b[0m\u001b[0;34m.\u001b[0m\u001b[0mupsample\u001b[0m\u001b[0;34m(\u001b[0m\u001b[0mfac\u001b[0m\u001b[0;34m,\u001b[0m\u001b[0mpreserve_counts\u001b[0m\u001b[0;34m=\u001b[0m\u001b[0;32mFalse\u001b[0m\u001b[0;34m)\u001b[0m\u001b[0;34m\u001b[0m\u001b[0;34m\u001b[0m\u001b[0m\n\u001b[0m\u001b[1;32m   2112\u001b[0m \u001b[0;34m\u001b[0m\u001b[0m\n\u001b[1;32m   2113\u001b[0m         \u001b[0;32mreturn\u001b[0m \u001b[0mN_map\u001b[0m\u001b[0;34m\u001b[0m\u001b[0;34m\u001b[0m\u001b[0m\n",
      "\u001b[0;32m~/anaconda3/envs/gammapy-0.19/lib/python3.9/site-packages/gammapy/maps/wcs/ndmap.py\u001b[0m in \u001b[0;36mupsample\u001b[0;34m(self, factor, order, preserve_counts, axis_name)\u001b[0m\n\u001b[1;32m    273\u001b[0m \u001b[0;34m\u001b[0m\u001b[0m\n\u001b[1;32m    274\u001b[0m         \u001b[0mgeom\u001b[0m \u001b[0;34m=\u001b[0m \u001b[0mself\u001b[0m\u001b[0;34m.\u001b[0m\u001b[0mgeom\u001b[0m\u001b[0;34m.\u001b[0m\u001b[0mupsample\u001b[0m\u001b[0;34m(\u001b[0m\u001b[0mfactor\u001b[0m\u001b[0;34m,\u001b[0m \u001b[0maxis_name\u001b[0m\u001b[0;34m=\u001b[0m\u001b[0maxis_name\u001b[0m\u001b[0;34m)\u001b[0m\u001b[0;34m\u001b[0m\u001b[0;34m\u001b[0m\u001b[0m\n\u001b[0;32m--> 275\u001b[0;31m         \u001b[0midx\u001b[0m \u001b[0;34m=\u001b[0m \u001b[0mgeom\u001b[0m\u001b[0;34m.\u001b[0m\u001b[0mget_idx\u001b[0m\u001b[0;34m(\u001b[0m\u001b[0;34m)\u001b[0m\u001b[0;34m\u001b[0m\u001b[0;34m\u001b[0m\u001b[0m\n\u001b[0m\u001b[1;32m    276\u001b[0m \u001b[0;34m\u001b[0m\u001b[0m\n\u001b[1;32m    277\u001b[0m         \u001b[0;32mif\u001b[0m \u001b[0maxis_name\u001b[0m \u001b[0;32mis\u001b[0m \u001b[0;32mNone\u001b[0m\u001b[0;34m:\u001b[0m\u001b[0;34m\u001b[0m\u001b[0;34m\u001b[0m\u001b[0m\n",
      "\u001b[0;32m~/anaconda3/envs/gammapy-0.19/lib/python3.9/site-packages/gammapy/maps/wcs/geom.py\u001b[0m in \u001b[0;36mget_idx\u001b[0;34m(self, idx, flat)\u001b[0m\n\u001b[1;32m    538\u001b[0m \u001b[0;34m\u001b[0m\u001b[0m\n\u001b[1;32m    539\u001b[0m     \u001b[0;32mdef\u001b[0m \u001b[0mget_idx\u001b[0m\u001b[0;34m(\u001b[0m\u001b[0mself\u001b[0m\u001b[0;34m,\u001b[0m \u001b[0midx\u001b[0m\u001b[0;34m=\u001b[0m\u001b[0;32mNone\u001b[0m\u001b[0;34m,\u001b[0m \u001b[0mflat\u001b[0m\u001b[0;34m=\u001b[0m\u001b[0;32mFalse\u001b[0m\u001b[0;34m)\u001b[0m\u001b[0;34m:\u001b[0m\u001b[0;34m\u001b[0m\u001b[0;34m\u001b[0m\u001b[0m\n\u001b[0;32m--> 540\u001b[0;31m         \u001b[0mpix\u001b[0m \u001b[0;34m=\u001b[0m \u001b[0mself\u001b[0m\u001b[0;34m.\u001b[0m\u001b[0mget_pix\u001b[0m\u001b[0;34m(\u001b[0m\u001b[0midx\u001b[0m\u001b[0;34m=\u001b[0m\u001b[0midx\u001b[0m\u001b[0;34m,\u001b[0m \u001b[0mmode\u001b[0m\u001b[0;34m=\u001b[0m\u001b[0;34m\"center\"\u001b[0m\u001b[0;34m)\u001b[0m\u001b[0;34m\u001b[0m\u001b[0;34m\u001b[0m\u001b[0m\n\u001b[0m\u001b[1;32m    541\u001b[0m         \u001b[0;32mif\u001b[0m \u001b[0mflat\u001b[0m\u001b[0;34m:\u001b[0m\u001b[0;34m\u001b[0m\u001b[0;34m\u001b[0m\u001b[0m\n\u001b[1;32m    542\u001b[0m             \u001b[0mpix\u001b[0m \u001b[0;34m=\u001b[0m \u001b[0mtuple\u001b[0m\u001b[0;34m(\u001b[0m\u001b[0;34m[\u001b[0m\u001b[0mp\u001b[0m\u001b[0;34m[\u001b[0m\u001b[0mnp\u001b[0m\u001b[0;34m.\u001b[0m\u001b[0misfinite\u001b[0m\u001b[0;34m(\u001b[0m\u001b[0mp\u001b[0m\u001b[0;34m)\u001b[0m\u001b[0;34m]\u001b[0m \u001b[0;32mfor\u001b[0m \u001b[0mp\u001b[0m \u001b[0;32min\u001b[0m \u001b[0mpix\u001b[0m\u001b[0;34m]\u001b[0m\u001b[0;34m)\u001b[0m\u001b[0;34m\u001b[0m\u001b[0;34m\u001b[0m\u001b[0m\n",
      "\u001b[0;32m~/anaconda3/envs/gammapy-0.19/lib/python3.9/site-packages/gammapy/maps/wcs/geom.py\u001b[0m in \u001b[0;36mget_pix\u001b[0;34m(self, idx, mode)\u001b[0m\n\u001b[1;32m    577\u001b[0m         \"\"\"\n\u001b[1;32m    578\u001b[0m         \u001b[0mpix\u001b[0m \u001b[0;34m=\u001b[0m \u001b[0mself\u001b[0m\u001b[0;34m.\u001b[0m\u001b[0m_get_pix_all\u001b[0m\u001b[0;34m(\u001b[0m\u001b[0midx\u001b[0m\u001b[0;34m=\u001b[0m\u001b[0midx\u001b[0m\u001b[0;34m,\u001b[0m \u001b[0mmode\u001b[0m\u001b[0;34m=\u001b[0m\u001b[0mmode\u001b[0m\u001b[0;34m)\u001b[0m\u001b[0;34m\u001b[0m\u001b[0;34m\u001b[0m\u001b[0m\n\u001b[0;32m--> 579\u001b[0;31m         \u001b[0mcoords\u001b[0m \u001b[0;34m=\u001b[0m \u001b[0mself\u001b[0m\u001b[0;34m.\u001b[0m\u001b[0mpix_to_coord\u001b[0m\u001b[0;34m(\u001b[0m\u001b[0mpix\u001b[0m\u001b[0;34m)\u001b[0m\u001b[0;34m\u001b[0m\u001b[0;34m\u001b[0m\u001b[0m\n\u001b[0m\u001b[1;32m    580\u001b[0m         \u001b[0mm\u001b[0m \u001b[0;34m=\u001b[0m \u001b[0mnp\u001b[0m\u001b[0;34m.\u001b[0m\u001b[0misfinite\u001b[0m\u001b[0;34m(\u001b[0m\u001b[0mcoords\u001b[0m\u001b[0;34m[\u001b[0m\u001b[0;36m0\u001b[0m\u001b[0;34m]\u001b[0m\u001b[0;34m)\u001b[0m\u001b[0;34m\u001b[0m\u001b[0;34m\u001b[0m\u001b[0m\n\u001b[1;32m    581\u001b[0m         \u001b[0;32mfor\u001b[0m \u001b[0m_\u001b[0m \u001b[0;32min\u001b[0m \u001b[0mpix\u001b[0m\u001b[0;34m:\u001b[0m\u001b[0;34m\u001b[0m\u001b[0;34m\u001b[0m\u001b[0m\n",
      "\u001b[0;32m~/anaconda3/envs/gammapy-0.19/lib/python3.9/site-packages/gammapy/maps/wcs/geom.py\u001b[0m in \u001b[0;36mpix_to_coord\u001b[0;34m(self, pix)\u001b[0m\n\u001b[1;32m    646\u001b[0m             \u001b[0mcoords\u001b[0m \u001b[0;34m=\u001b[0m \u001b[0mpix2world\u001b[0m\u001b[0;34m(\u001b[0m\u001b[0mself\u001b[0m\u001b[0;34m.\u001b[0m\u001b[0mwcs\u001b[0m\u001b[0;34m,\u001b[0m \u001b[0mcdelt\u001b[0m\u001b[0;34m,\u001b[0m \u001b[0mcrpix\u001b[0m\u001b[0;34m,\u001b[0m \u001b[0mpix\u001b[0m\u001b[0;34m[\u001b[0m\u001b[0mself\u001b[0m\u001b[0;34m.\u001b[0m\u001b[0m_slice_spatial_axes\u001b[0m\u001b[0;34m]\u001b[0m\u001b[0;34m)\u001b[0m\u001b[0;34m\u001b[0m\u001b[0;34m\u001b[0m\u001b[0m\n\u001b[1;32m    647\u001b[0m         \u001b[0;32melse\u001b[0m\u001b[0;34m:\u001b[0m\u001b[0;34m\u001b[0m\u001b[0;34m\u001b[0m\u001b[0m\n\u001b[0;32m--> 648\u001b[0;31m             \u001b[0mcoords\u001b[0m \u001b[0;34m=\u001b[0m \u001b[0mself\u001b[0m\u001b[0;34m.\u001b[0m\u001b[0m_wcs\u001b[0m\u001b[0;34m.\u001b[0m\u001b[0mwcs_pix2world\u001b[0m\u001b[0;34m(\u001b[0m\u001b[0mpix\u001b[0m\u001b[0;34m[\u001b[0m\u001b[0;36m0\u001b[0m\u001b[0;34m]\u001b[0m\u001b[0;34m,\u001b[0m \u001b[0mpix\u001b[0m\u001b[0;34m[\u001b[0m\u001b[0;36m1\u001b[0m\u001b[0;34m]\u001b[0m\u001b[0;34m,\u001b[0m \u001b[0;36m0\u001b[0m\u001b[0;34m)\u001b[0m\u001b[0;34m\u001b[0m\u001b[0;34m\u001b[0m\u001b[0m\n\u001b[0m\u001b[1;32m    649\u001b[0m \u001b[0;34m\u001b[0m\u001b[0m\n\u001b[1;32m    650\u001b[0m         coords = (\n",
      "\u001b[0;32m~/anaconda3/envs/gammapy-0.19/lib/python3.9/site-packages/astropy/wcs/wcs.py\u001b[0m in \u001b[0;36mwcs_pix2world\u001b[0;34m(self, *args, **kwargs)\u001b[0m\n\u001b[1;32m   1418\u001b[0m         \u001b[0;32mif\u001b[0m \u001b[0mself\u001b[0m\u001b[0;34m.\u001b[0m\u001b[0mwcs\u001b[0m \u001b[0;32mis\u001b[0m \u001b[0;32mNone\u001b[0m\u001b[0;34m:\u001b[0m\u001b[0;34m\u001b[0m\u001b[0;34m\u001b[0m\u001b[0m\n\u001b[1;32m   1419\u001b[0m             \u001b[0;32mraise\u001b[0m \u001b[0mValueError\u001b[0m\u001b[0;34m(\u001b[0m\u001b[0;34m\"No basic WCS settings were created.\"\u001b[0m\u001b[0;34m)\u001b[0m\u001b[0;34m\u001b[0m\u001b[0;34m\u001b[0m\u001b[0m\n\u001b[0;32m-> 1420\u001b[0;31m         return self._array_converter(\n\u001b[0m\u001b[1;32m   1421\u001b[0m             \u001b[0;32mlambda\u001b[0m \u001b[0mxy\u001b[0m\u001b[0;34m,\u001b[0m \u001b[0mo\u001b[0m\u001b[0;34m:\u001b[0m \u001b[0mself\u001b[0m\u001b[0;34m.\u001b[0m\u001b[0mwcs\u001b[0m\u001b[0;34m.\u001b[0m\u001b[0mp2s\u001b[0m\u001b[0;34m(\u001b[0m\u001b[0mxy\u001b[0m\u001b[0;34m,\u001b[0m \u001b[0mo\u001b[0m\u001b[0;34m)\u001b[0m\u001b[0;34m[\u001b[0m\u001b[0;34m'world'\u001b[0m\u001b[0;34m]\u001b[0m\u001b[0;34m,\u001b[0m\u001b[0;34m\u001b[0m\u001b[0;34m\u001b[0m\u001b[0m\n\u001b[1;32m   1422\u001b[0m             'output', *args, **kwargs)\n",
      "\u001b[0;32m~/anaconda3/envs/gammapy-0.19/lib/python3.9/site-packages/astropy/wcs/wcs.py\u001b[0m in \u001b[0;36m_array_converter\u001b[0;34m(self, func, sky, ra_dec_order, *args)\u001b[0m\n\u001b[1;32m   1335\u001b[0m                     \"a 1-D array for each axis, followed by an origin.\")\n\u001b[1;32m   1336\u001b[0m \u001b[0;34m\u001b[0m\u001b[0m\n\u001b[0;32m-> 1337\u001b[0;31m             \u001b[0;32mreturn\u001b[0m \u001b[0m_return_list_of_arrays\u001b[0m\u001b[0;34m(\u001b[0m\u001b[0maxes\u001b[0m\u001b[0;34m,\u001b[0m \u001b[0morigin\u001b[0m\u001b[0;34m)\u001b[0m\u001b[0;34m\u001b[0m\u001b[0;34m\u001b[0m\u001b[0m\n\u001b[0m\u001b[1;32m   1338\u001b[0m \u001b[0;34m\u001b[0m\u001b[0m\n\u001b[1;32m   1339\u001b[0m         raise TypeError(\n",
      "\u001b[0;32m~/anaconda3/envs/gammapy-0.19/lib/python3.9/site-packages/astropy/wcs/wcs.py\u001b[0m in \u001b[0;36m_return_list_of_arrays\u001b[0;34m(axes, origin)\u001b[0m\n\u001b[1;32m   1289\u001b[0m             \u001b[0;32mif\u001b[0m \u001b[0mra_dec_order\u001b[0m \u001b[0;32mand\u001b[0m \u001b[0msky\u001b[0m \u001b[0;34m==\u001b[0m \u001b[0;34m'input'\u001b[0m\u001b[0;34m:\u001b[0m\u001b[0;34m\u001b[0m\u001b[0;34m\u001b[0m\u001b[0m\n\u001b[1;32m   1290\u001b[0m                 \u001b[0mxy\u001b[0m \u001b[0;34m=\u001b[0m \u001b[0mself\u001b[0m\u001b[0;34m.\u001b[0m\u001b[0m_denormalize_sky\u001b[0m\u001b[0;34m(\u001b[0m\u001b[0mxy\u001b[0m\u001b[0;34m)\u001b[0m\u001b[0;34m\u001b[0m\u001b[0;34m\u001b[0m\u001b[0m\n\u001b[0;32m-> 1291\u001b[0;31m             \u001b[0moutput\u001b[0m \u001b[0;34m=\u001b[0m \u001b[0mfunc\u001b[0m\u001b[0;34m(\u001b[0m\u001b[0mxy\u001b[0m\u001b[0;34m,\u001b[0m \u001b[0morigin\u001b[0m\u001b[0;34m)\u001b[0m\u001b[0;34m\u001b[0m\u001b[0;34m\u001b[0m\u001b[0m\n\u001b[0m\u001b[1;32m   1292\u001b[0m             \u001b[0;32mif\u001b[0m \u001b[0mra_dec_order\u001b[0m \u001b[0;32mand\u001b[0m \u001b[0msky\u001b[0m \u001b[0;34m==\u001b[0m \u001b[0;34m'output'\u001b[0m\u001b[0;34m:\u001b[0m\u001b[0;34m\u001b[0m\u001b[0;34m\u001b[0m\u001b[0m\n\u001b[1;32m   1293\u001b[0m                 \u001b[0moutput\u001b[0m \u001b[0;34m=\u001b[0m \u001b[0mself\u001b[0m\u001b[0;34m.\u001b[0m\u001b[0m_normalize_sky\u001b[0m\u001b[0;34m(\u001b[0m\u001b[0moutput\u001b[0m\u001b[0;34m)\u001b[0m\u001b[0;34m\u001b[0m\u001b[0;34m\u001b[0m\u001b[0m\n",
      "\u001b[0;32m~/anaconda3/envs/gammapy-0.19/lib/python3.9/site-packages/astropy/wcs/wcs.py\u001b[0m in \u001b[0;36m<lambda>\u001b[0;34m(xy, o)\u001b[0m\n\u001b[1;32m   1419\u001b[0m             \u001b[0;32mraise\u001b[0m \u001b[0mValueError\u001b[0m\u001b[0;34m(\u001b[0m\u001b[0;34m\"No basic WCS settings were created.\"\u001b[0m\u001b[0;34m)\u001b[0m\u001b[0;34m\u001b[0m\u001b[0;34m\u001b[0m\u001b[0m\n\u001b[1;32m   1420\u001b[0m         return self._array_converter(\n\u001b[0;32m-> 1421\u001b[0;31m             \u001b[0;32mlambda\u001b[0m \u001b[0mxy\u001b[0m\u001b[0;34m,\u001b[0m \u001b[0mo\u001b[0m\u001b[0;34m:\u001b[0m \u001b[0mself\u001b[0m\u001b[0;34m.\u001b[0m\u001b[0mwcs\u001b[0m\u001b[0;34m.\u001b[0m\u001b[0mp2s\u001b[0m\u001b[0;34m(\u001b[0m\u001b[0mxy\u001b[0m\u001b[0;34m,\u001b[0m \u001b[0mo\u001b[0m\u001b[0;34m)\u001b[0m\u001b[0;34m[\u001b[0m\u001b[0;34m'world'\u001b[0m\u001b[0;34m]\u001b[0m\u001b[0;34m,\u001b[0m\u001b[0;34m\u001b[0m\u001b[0;34m\u001b[0m\u001b[0m\n\u001b[0m\u001b[1;32m   1422\u001b[0m             'output', *args, **kwargs)\n\u001b[1;32m   1423\u001b[0m     wcs_pix2world.__doc__ = \"\"\"\n",
      "\u001b[0;31mKeyboardInterrupt\u001b[0m: "
     ]
    }
   ],
   "source": [
    "fit_N = Fit(store_trace=False)\n",
    "result_N = fit_N.run([dataset_N])"
   ]
  },
  {
   "cell_type": "markdown",
   "id": "bdbf505e",
   "metadata": {},
   "source": [
    "The method `N_map()` is a map in the origial geometry with the nuisance parameters as the data. It is used in npred_background() and visualises the best fit nuisance parameters."
   ]
  },
  {
   "cell_type": "code",
   "execution_count": null,
   "id": "5690849f",
   "metadata": {
    "execution": {
     "iopub.execute_input": "2022-03-17T11:25:08.367884Z",
     "iopub.status.busy": "2022-03-17T11:25:08.367715Z",
     "iopub.status.idle": "2022-03-17T11:25:08.848523Z",
     "shell.execute_reply": "2022-03-17T11:25:08.847742Z"
    }
   },
   "outputs": [],
   "source": [
    "vmax = np.max(np.abs(dataset_N.N_map().data))\n",
    "dataset_N.N_map().slice_by_idx(dict(energy=slice(i_start, i_end))).plot_grid(\n",
    "    add_cbar=1, vmax=vmax, vmin=-vmax\n",
    ");"
   ]
  },
  {
   "cell_type": "markdown",
   "id": "a5f24bc2",
   "metadata": {},
   "source": [
    "## Comparison to Standard Analysis"
   ]
  },
  {
   "cell_type": "markdown",
   "id": "5e95d5b0",
   "metadata": {},
   "source": [
    "The spectral residual points show again how especially the first two energybins are not fitted well"
   ]
  },
  {
   "cell_type": "code",
   "execution_count": null,
   "id": "6d56ea2e",
   "metadata": {
    "execution": {
     "iopub.execute_input": "2022-03-17T11:25:08.852705Z",
     "iopub.status.busy": "2022-03-17T11:25:08.852543Z",
     "iopub.status.idle": "2022-03-17T11:25:09.419797Z",
     "shell.execute_reply": "2022-03-17T11:25:09.418969Z"
    }
   },
   "outputs": [],
   "source": [
    "kwargs_spectral = dict()\n",
    "kwargs_spectral[\"region\"] = CircleSkyRegion(\n",
    "    dataset_standard.geoms[\"geom\"].center_skydir, radius=3 * u.deg\n",
    ")\n",
    "kwargs_spectral[\"method\"] = \"diff/sqrt(model)\"\n",
    "dataset_standard.plot_residuals(kwargs_spectral=kwargs_spectral);"
   ]
  },
  {
   "cell_type": "markdown",
   "id": "4b34db98",
   "metadata": {},
   "source": [
    "After including the nuisance parameters the model description is much better in the first two energy bins. This indicates that the method worked and has improved out analysis."
   ]
  },
  {
   "cell_type": "code",
   "execution_count": null,
   "id": "b4cef5be",
   "metadata": {
    "execution": {
     "iopub.execute_input": "2022-03-17T11:25:09.424048Z",
     "iopub.status.busy": "2022-03-17T11:25:09.423888Z",
     "iopub.status.idle": "2022-03-17T11:25:09.995218Z",
     "shell.execute_reply": "2022-03-17T11:25:09.994461Z"
    }
   },
   "outputs": [],
   "source": [
    "res_N = (\n",
    "    dataset_N.residuals(\"diff/sqrt(model)\")\n",
    "    .slice_by_idx(dict(energy=slice(4, 6)))\n",
    "    .smooth(0.1 * u.deg)\n",
    ")\n",
    "vmax = np.max(np.abs(res_standard.data))\n",
    "res_N.plot_grid(add_cbar=1, vmax=vmax, vmin=-vmax, cmap=\"coolwarm\");"
   ]
  },
  {
   "cell_type": "code",
   "execution_count": null,
   "id": "07401244",
   "metadata": {
    "execution": {
     "iopub.execute_input": "2022-03-17T11:25:10.000090Z",
     "iopub.status.busy": "2022-03-17T11:25:09.999927Z",
     "iopub.status.idle": "2022-03-17T11:25:10.616068Z",
     "shell.execute_reply": "2022-03-17T11:25:10.615257Z"
    }
   },
   "outputs": [],
   "source": [
    "dataset_N.plot_residuals(kwargs_spectral=kwargs_spectral);"
   ]
  },
  {
   "cell_type": "markdown",
   "id": "0d600c6a",
   "metadata": {},
   "source": [
    "Her a comparison of the distribution of the significance maps in the first two energy bins is shown. With the nuisance parameters the mean of the distribution $\\mu$ got closer to zero and the standard deviation $\\sigma$ is closer to the expected $1$."
   ]
  },
  {
   "cell_type": "code",
   "execution_count": null,
   "id": "0ba0ef56",
   "metadata": {
    "execution": {
     "iopub.execute_input": "2022-03-17T11:25:10.620574Z",
     "iopub.status.busy": "2022-03-17T11:25:10.620413Z",
     "iopub.status.idle": "2022-03-17T11:25:11.294345Z",
     "shell.execute_reply": "2022-03-17T11:25:11.293530Z"
    }
   },
   "outputs": [],
   "source": [
    "res_standard = (\n",
    "    dataset_standard.residuals(\"diff/sqrt(model)\")\n",
    "    .slice_by_idx(dict(energy=slice(i_start, i_end)))\n",
    "    .data.flatten()\n",
    ")\n",
    "res_N = (\n",
    "    dataset_N.residuals(\"diff/sqrt(model)\")\n",
    "    .slice_by_idx(dict(energy=slice(i_start, i_end)))\n",
    "    .data.flatten()\n",
    ")\n",
    "\n",
    "_, bins, _ = plt.hist(\n",
    "    res_standard,\n",
    "    bins=50,\n",
    "    alpha=0.4,\n",
    "    label=\"Standard: \\n$\\mu$ = {:.3} \\n$\\sigma$ = {:.3}\".format(\n",
    "        np.mean(res_standard), np.std(res_standard)\n",
    "    ),\n",
    ")\n",
    "plt.hist(\n",
    "    res_N,\n",
    "    bins=bins,\n",
    "    alpha=0.4,\n",
    "    label=\"Nuisance: \\n$\\mu$ = {:.3} \\n$\\sigma$ = {:.3}\".format(\n",
    "        np.mean(res_N), np.std(res_N)\n",
    "    ),\n",
    ")\n",
    "plt.yscale(\"log\")\n",
    "plt.legend()\n",
    "plt.xlabel(\"Significance\")\n",
    "plt.ylabel(\"Amount\");"
   ]
  },
  {
   "cell_type": "markdown",
   "id": "19c5970f",
   "metadata": {},
   "source": [
    "## Comparsion of the erros of the best fit model parameters\n",
    "\n",
    "The model errors of the Nuisance dataset have for now to be set by hand. "
   ]
  },
  {
   "cell_type": "code",
   "execution_count": null,
   "id": "ebd77d98",
   "metadata": {},
   "outputs": [],
   "source": [
    "import my_dataset_core_19, my_fit_19\n",
    "parameters  = Parameters.from_stack([dataset_N.N_parameters,dataset_N.models.parameters])\n",
    "kwargs = fit_N.covariance_opts.copy()\n",
    "kwargs[\"minuit\"] = fit_N.minuit\n",
    "backend = kwargs.pop(\"backend\", fit_N.backend)\n",
    "compute = my_fit_19.registry.get(\"covariance\", backend)\n",
    "\n",
    "with parameters.restore_status():\n",
    "\n",
    "    factor_matrix, info = compute(\n",
    "        parameters=parameters, function=dataset_N.stat_sum, **kwargs\n",
    "    )\n",
    "\n",
    "\n",
    "covariance = Covariance.from_factor_matrix(\n",
    "                parameters=parameters, matrix=factor_matrix\n",
    "            )\n",
    "for par in dataset_N.models.parameters:\n",
    "    pars = Parameters([par])\n",
    "    variance = covariance.get_subcovariance(pars)\n",
    "    par.error = np.sqrt(variance)"
   ]
  },
  {
   "cell_type": "code",
   "execution_count": null,
   "id": "dd12880a",
   "metadata": {},
   "outputs": [],
   "source": [
    "print(\" with nuisance\")\n",
    "print(\"(without nuisance)\")\n",
    "\n",
    "\n",
    "for p_N, p_stand in zip(dataset_N.models.parameters,dataset_standard.models.parameters ):\n",
    "    print()\n",
    "    print('='*50)\n",
    "    print(p_N.name, p_stand.name)\n",
    "    print('-'*50)\n",
    "    print(' {:.3} pm {:.3}'.format(p_N.value, p_N.error) )    \n",
    "    print('({:.3} pm {:.3})'.format(p_stand.value, p_stand.error) )\n",
    "\n",
    "\n"
   ]
  },
  {
   "cell_type": "code",
   "execution_count": null,
   "id": "9ce69e4f",
   "metadata": {},
   "outputs": [],
   "source": []
  }
 ],
 "metadata": {
  "kernelspec": {
   "display_name": "Python 3 (ipykernel)",
   "language": "python",
   "name": "python3"
  },
  "language_info": {
   "codemirror_mode": {
    "name": "ipython",
    "version": 3
   },
   "file_extension": ".py",
   "mimetype": "text/x-python",
   "name": "python",
   "nbconvert_exporter": "python",
   "pygments_lexer": "ipython3",
   "version": "3.9.10"
  },
  "varInspector": {
   "cols": {
    "lenName": 16,
    "lenType": 16,
    "lenVar": 40
   },
   "kernels_config": {
    "python": {
     "delete_cmd_postfix": "",
     "delete_cmd_prefix": "del ",
     "library": "var_list.py",
     "varRefreshCmd": "print(var_dic_list())"
    },
    "r": {
     "delete_cmd_postfix": ") ",
     "delete_cmd_prefix": "rm(",
     "library": "var_list.r",
     "varRefreshCmd": "cat(var_dic_list()) "
    }
   },
   "types_to_exclude": [
    "module",
    "function",
    "builtin_function_or_method",
    "instance",
    "_Feature"
   ],
   "window_display": false
  }
 },
 "nbformat": 4,
 "nbformat_minor": 5
}
