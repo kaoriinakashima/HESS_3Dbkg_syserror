{
 "cells": [
  {
   "cell_type": "markdown",
   "id": "34e4487c",
   "metadata": {},
   "source": [
    "In this notebook we create the runlist to be used for the error estimation."
   ]
  },
  {
   "cell_type": "code",
   "execution_count": 1,
   "id": "6e298b4f",
   "metadata": {},
   "outputs": [],
   "source": [
    "import numpy as np\n",
    "from gammapy.data import DataStore\n",
    "import yaml"
   ]
  },
  {
   "cell_type": "code",
   "execution_count": 6,
   "id": "c87c0773",
   "metadata": {},
   "outputs": [],
   "source": [
    "with open(\"../general_config.yml\", \"r\") as ymlfile:\n",
    "    cfg = yaml.load(ymlfile, Loader=yaml.FullLoader)\n",
    "\n",
    "conf = cfg['conf']\n",
    "for hessera in ['hess1', 'hess2']:\n",
    "    basedir = f'{cfg[\"FITS_PROD\"]}/{hessera}/std_{conf}_fullEnclosure'\n",
    "    ds = DataStore.from_dir(basedir, f'hdu-index-bg-v05c-fov-radec.fits.gz', 'obs-index-bg-v05c-fov-radec.fits.gz')\n",
    "    table = ds.obs_table\n",
    "\n",
    "    mask_tel = table['N_TELS'] == cfg['mask_ntels']\n",
    "    mask_zenpnt = table['ZEN_PNT'] < cfg['mask_zenpnt']\n",
    "    mask_eventcount = table['EVENT_COUNT'] > cfg['mask_eventcount']\n",
    "    mask_ontime = table['ONTIME'] > cfg['mask_ontime']\n",
    "    \n",
    "    #masking GC plane\n",
    "    mask_lon_low = table['GLON_PNT'] < 60\n",
    "    mask_lon_high = table['GLON_PNT'] > 300\n",
    "    mask_pos = (mask_lon_low + mask_lon_high).astype(bool)\n",
    "    mask_lat = abs(table['GLAT_PNT']) < 5\n",
    "    mask_eventcount = table['EVENT_COUNT'] > cfg['mask_eventcount']\n",
    "    mask_pos = ~(mask_pos & mask_lat)\n",
    "    \n",
    "    mask_final = mask_tel & mask_zenpnt & mask_eventcount & mask_ontime & mask_pos\n",
    "\n",
    "    runlist = np.asarray(table['OBS_ID'][mask_final])\n",
    "    np.savetxt(f'initial_runlist_{hessera}.txt', runlist)"
   ]
  },
  {
   "cell_type": "code",
   "execution_count": null,
   "id": "2b043086",
   "metadata": {},
   "outputs": [],
   "source": []
  }
 ],
 "metadata": {
  "kernelspec": {
   "display_name": "Python [conda env:gammapy-0.20.1]",
   "language": "python",
   "name": "conda-env-gammapy-0.20.1-py"
  },
  "language_info": {
   "codemirror_mode": {
    "name": "ipython",
    "version": 3
   },
   "file_extension": ".py",
   "mimetype": "text/x-python",
   "name": "python",
   "nbconvert_exporter": "python",
   "pygments_lexer": "ipython3",
   "version": "3.8.13"
  }
 },
 "nbformat": 4,
 "nbformat_minor": 5
}
