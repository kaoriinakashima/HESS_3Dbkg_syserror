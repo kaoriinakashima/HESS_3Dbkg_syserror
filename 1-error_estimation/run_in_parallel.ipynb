{
 "cells": [
  {
   "cell_type": "code",
   "execution_count": 1,
   "id": "112083b5",
   "metadata": {},
   "outputs": [
    {
     "name": "stdout",
     "output_type": "stream",
     "text": [
      "8028550.wadm1.rrze.uni-erlangen.de\n",
      "8028552.wadm1.rrze.uni-erlangen.de\n",
      "8028553.wadm1.rrze.uni-erlangen.de\n",
      "8028554.wadm1.rrze.uni-erlangen.de\n",
      "8028555.wadm1.rrze.uni-erlangen.de\n",
      "8028556.wadm1.rrze.uni-erlangen.de\n",
      "8028557.wadm1.rrze.uni-erlangen.de\n",
      "8028558.wadm1.rrze.uni-erlangen.de\n",
      "8028559.wadm1.rrze.uni-erlangen.de\n",
      "8028560.wadm1.rrze.uni-erlangen.de\n",
      "8028561.wadm1.rrze.uni-erlangen.de\n",
      "8028562.wadm1.rrze.uni-erlangen.de\n",
      "8028563.wadm1.rrze.uni-erlangen.de\n",
      "8028564.wadm1.rrze.uni-erlangen.de\n",
      "8028565.wadm1.rrze.uni-erlangen.de\n",
      "8028566.wadm1.rrze.uni-erlangen.de\n",
      "8028567.wadm1.rrze.uni-erlangen.de\n",
      "8028568.wadm1.rrze.uni-erlangen.de\n",
      "8028569.wadm1.rrze.uni-erlangen.de\n",
      "8028570.wadm1.rrze.uni-erlangen.de\n",
      "8028571.wadm1.rrze.uni-erlangen.de\n",
      "8028572.wadm1.rrze.uni-erlangen.de\n",
      "8028573.wadm1.rrze.uni-erlangen.de\n"
     ]
    }
   ],
   "source": [
    "'''this script is to run in parallel in ecap hpc cluster'''\n",
    "\n",
    "import numpy as np\n",
    "import yaml\n",
    "import shutil\n",
    "import os\n",
    "\n",
    "with open(\"../general_config.yml\", \"r\") as ymlfile:\n",
    "    cfg = yaml.load(ymlfile, Loader=yaml.FullLoader)\n",
    "\n",
    "conf=cfg['conf']\n",
    "repo_path=cfg['repo_path']\n",
    "hesseras = ['hess1', 'hess2']\n",
    "\n",
    "# some general configuration for running in ECAP cluster\n",
    "walltime = '02:00:00'\n",
    "\n",
    "fin = open(f'create_dataset.py', 'rt')\n",
    "script_original = fin.read()\n",
    "fin.close()\n",
    "\n",
    "fin_sub = open(f'to_submit.sh', 'rt')\n",
    "sub_original = fin_sub.read()\n",
    "fin_sub.close()\n",
    "\n",
    "N_runs_batch=200\n",
    "for hessera in hesseras:\n",
    "    obsid_list = np.loadtxt(f'initial_runlist_{hessera}.txt')\n",
    "    for idx in range(int(len(obsid_list)/N_runs_batch)+2):\n",
    "        script=script_original.replace('idx=0\\n', f'idx = {idx}\\n')\n",
    "        script=script.replace(\"hessera = 'hess1'\\n\", f'hessera = \"{hessera}\"\\n')\n",
    "        fout=open(f'create_dataset_{hessera}_{idx}.py', 'w+')\n",
    "        fout.write(script)\n",
    "        fout.close()\n",
    "\n",
    "        script=sub_original.replace('#PBS -l nodes=1:ppn=4,walltime=02:00:00\\n', f'#PBS -l nodes=1:ppn=4,walltime={walltime}\\n')\n",
    "        script=script.replace('#PBS -N dataset_hess1u_23_26\\n', f'#PBS -N dataset_{hessera}_{idx}\\n')\n",
    "        script=script.replace('python create_dataset.py\\n', f'python create_dataset_{hessera}_{idx}.py')\n",
    "        fout=open(f'to_submit.sh', 'w+')\n",
    "        fout.write(script)\n",
    "        fout.close()\n",
    "\n",
    "        os.system(f\"qsub -o create_dataset_{hessera}_{idx}.log -e create_dataset_erro_{hessera}_{idx}.log to_submit.sh\")"
   ]
  },
  {
   "cell_type": "code",
   "execution_count": null,
   "id": "ebfd1ce6",
   "metadata": {},
   "outputs": [],
   "source": []
  }
 ],
 "metadata": {
  "kernelspec": {
   "display_name": "Python [conda env:gammapy-0.19]",
   "language": "python",
   "name": "conda-env-gammapy-0.19-py"
  },
  "language_info": {
   "codemirror_mode": {
    "name": "ipython",
    "version": 3
   },
   "file_extension": ".py",
   "mimetype": "text/x-python",
   "name": "python",
   "nbconvert_exporter": "python",
   "pygments_lexer": "ipython3",
   "version": "3.9.9"
  }
 },
 "nbformat": 4,
 "nbformat_minor": 5
}
